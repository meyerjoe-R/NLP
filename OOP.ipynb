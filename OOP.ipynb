{
  "nbformat": 4,
  "nbformat_minor": 0,
  "metadata": {
    "colab": {
      "provenance": [],
      "authorship_tag": "ABX9TyPcr/GDLgByRrSaFQAQX1fl",
      "include_colab_link": true
    },
    "kernelspec": {
      "name": "python3",
      "display_name": "Python 3"
    },
    "language_info": {
      "name": "python"
    }
  },
  "cells": [
    {
      "cell_type": "markdown",
      "metadata": {
        "id": "view-in-github",
        "colab_type": "text"
      },
      "source": [
        "<a href=\"https://colab.research.google.com/github/meyerjoe-R/NLP/blob/main/OOP.ipynb\" target=\"_parent\"><img src=\"https://colab.research.google.com/assets/colab-badge.svg\" alt=\"Open In Colab\"/></a>"
      ]
    },
    {
      "cell_type": "markdown",
      "source": [
        "# Classes"
      ],
      "metadata": {
        "id": "7EDQa_x1NySv"
      }
    },
    {
      "cell_type": "markdown",
      "source": [
        "## Object oriented programming\n",
        "- Object-oriented programming (OOP) is a programming paradigm based on the concept of \"objects,\" which can contain **data (attributes)** and **functions (methods)**.\n",
        "- It organizes code around these objects and their interactions."
      ],
      "metadata": {
        "id": "tEvcGgeeJIPE"
      }
    },
    {
      "cell_type": "markdown",
      "source": [
        "## A class in Python is a blueprint for creating objects.\n",
        "- It defines a set of **attributes (variables)** and **methods (functions)** that the objects will have.\n",
        "- Think of it like a template or a cookie cutter for creating specific instances of objects with shared characteristics and behaviors."
      ],
      "metadata": {
        "id": "8Qxj4YM3I1IW"
      }
    },
    {
      "cell_type": "markdown",
      "source": [
        "## Let's look at an example class that stores x and y coordinates"
      ],
      "metadata": {
        "id": "WGvoz_NHVDn2"
      }
    },
    {
      "cell_type": "markdown",
      "source": [
        "### We will have:\n",
        "1. An init method: this defines the attributes (variables) of the class\n",
        "2. A basic method to display the attributes"
      ],
      "metadata": {
        "id": "_XLzjgOvLWMp"
      }
    },
    {
      "cell_type": "code",
      "source": [
        "class Point:\n",
        "  # this is called the init method\n",
        "  # when a class is created, this method is automatically called\n",
        "  # the purpose of the init is to initialize\n",
        "    def __init__(self, x=0, y=0):\n",
        "        self.x = x\n",
        "        self.y = y\n",
        "\n",
        "  # this is a class method\n",
        "  # it is a function defined within a class\n",
        "  # it can modify and access the objects attributes\n",
        "    def display(self):\n",
        "        print(f\"Point coordinates: ({self.x}, {self.y})\")"
      ],
      "metadata": {
        "id": "TbTdqZHqOChG"
      },
      "execution_count": null,
      "outputs": []
    },
    {
      "cell_type": "code",
      "source": [
        "# Creating an instance of Point\n",
        "p1 = Point(5, 10)\n",
        "\n",
        "# Using the display method\n",
        "p1.display()  # Output: Point coordinates: (5, 10)"
      ],
      "metadata": {
        "id": "v1KjW8EXQAgQ",
        "outputId": "9e458ca3-660e-4eb4-a02d-2923d21ffad8",
        "colab": {
          "base_uri": "https://localhost:8080/"
        }
      },
      "execution_count": null,
      "outputs": [
        {
          "output_type": "stream",
          "name": "stdout",
          "text": [
            "Point coordinates: (5, 10)\n"
          ]
        }
      ]
    },
    {
      "cell_type": "code",
      "source": [
        "# Creating a default point (0, 0)\n",
        "p2 = Point()\n",
        "p2.display()  # Output: Point coordinates: (0, 0)"
      ],
      "metadata": {
        "id": "GriRHzfsJASv",
        "outputId": "15eed8b5-c8f3-44e7-9b5f-1029d769dd77",
        "colab": {
          "base_uri": "https://localhost:8080/"
        }
      },
      "execution_count": null,
      "outputs": [
        {
          "output_type": "stream",
          "name": "stdout",
          "text": [
            "Point coordinates: (0, 0)\n"
          ]
        }
      ]
    },
    {
      "cell_type": "markdown",
      "source": [
        "## A class that performs basic arithmetic"
      ],
      "metadata": {
        "id": "Iz1B_rYGVHTk"
      }
    },
    {
      "cell_type": "code",
      "source": [
        "class ArithmeticOperations:\n",
        "\n",
        "    # the attributes this class will have\n",
        "    # we will initialize it with two numbers\n",
        "    def __init__(self, num1, num2):\n",
        "        self.num1 = num1\n",
        "        self.num2 = num2\n",
        "\n",
        "    def addition(self):\n",
        "        return self.num1 + self.num2\n",
        "\n",
        "    def subtraction(self):\n",
        "        return self.num1 - self.num2\n",
        "\n",
        "    def multiplication(self):\n",
        "        return self.num1 * self.num2\n",
        "\n",
        "    def division(self):\n",
        "        if self.num2 == 0:\n",
        "            return \"Cannot divide by zero.\"\n",
        "        else:\n",
        "            return self.num1 / self.num2"
      ],
      "metadata": {
        "id": "09LpP6QzOhfd"
      },
      "execution_count": null,
      "outputs": []
    },
    {
      "cell_type": "code",
      "source": [
        "# Creating an instance of ArithmeticOperations\n",
        "arithmetic = ArithmeticOperations(10, 5)"
      ],
      "metadata": {
        "id": "PAI0xxRfQDYO"
      },
      "execution_count": null,
      "outputs": []
    },
    {
      "cell_type": "code",
      "source": [
        "# Performing arithmetic operations\n",
        "print(\"Addition:\", arithmetic.addition())         # Output: Addition: 15"
      ],
      "metadata": {
        "id": "zx_pxOuHJeAd",
        "outputId": "c0569f11-01b5-4cad-c92e-cb294ee1ecf9",
        "colab": {
          "base_uri": "https://localhost:8080/"
        }
      },
      "execution_count": null,
      "outputs": [
        {
          "output_type": "stream",
          "name": "stdout",
          "text": [
            "Addition: 15\n"
          ]
        }
      ]
    },
    {
      "cell_type": "code",
      "source": [
        "print(\"Subtraction:\", arithmetic.subtraction())   # Output: Subtraction: 5"
      ],
      "metadata": {
        "id": "ZGEM7SYVJhHD",
        "outputId": "2b542c04-194a-4c9a-8fb3-8f5ab693763b",
        "colab": {
          "base_uri": "https://localhost:8080/"
        }
      },
      "execution_count": null,
      "outputs": [
        {
          "output_type": "stream",
          "name": "stdout",
          "text": [
            "Subtraction: 5\n"
          ]
        }
      ]
    },
    {
      "cell_type": "code",
      "source": [
        "print(\"Multiplication:\", arithmetic.multiplication()) # Output: Multiplication: 50\n",
        "print(\"Division:\", arithmetic.division())         # Output: Division: 2.0"
      ],
      "metadata": {
        "id": "PQ_X1EyCJjTW",
        "outputId": "46759751-701b-42c9-cf2a-b504b188df08",
        "colab": {
          "base_uri": "https://localhost:8080/"
        }
      },
      "execution_count": null,
      "outputs": [
        {
          "output_type": "stream",
          "name": "stdout",
          "text": [
            "Multiplication: 50\n",
            "Division: 2.0\n"
          ]
        }
      ]
    },
    {
      "cell_type": "code",
      "source": [
        "arithmetic_2 = ArithmeticOperations(10, 0)\n",
        "print(\"Division:\", arithmetic_2.division())         # Output: Division: 2.0"
      ],
      "metadata": {
        "id": "wZ6JwKISJoDd",
        "outputId": "cf9ab3d4-fb90-4ea0-dca4-ff79949aa25b",
        "colab": {
          "base_uri": "https://localhost:8080/"
        }
      },
      "execution_count": null,
      "outputs": [
        {
          "output_type": "stream",
          "name": "stdout",
          "text": [
            "Division: Cannot divide by zero.\n"
          ]
        }
      ]
    },
    {
      "cell_type": "markdown",
      "source": [
        "## An employee example class"
      ],
      "metadata": {
        "id": "JhxezkkDMRiP"
      }
    },
    {
      "cell_type": "code",
      "source": [
        "class Employee:\n",
        "\n",
        "    def __init__(self, name, age, position, salary):\n",
        "        self.name = name\n",
        "        self.age = age\n",
        "        self.position = position\n",
        "        self.salary = salary\n",
        "\n",
        "    def display_employee_info(self):\n",
        "        print(f\"Name: {self.name}\")\n",
        "        print(f\"Age: {self.age}\")\n",
        "        print(f\"Position: {self.position}\")\n",
        "        print(f\"Salary: ${self.salary}\")"
      ],
      "metadata": {
        "id": "aSaWimwPMTR5"
      },
      "execution_count": null,
      "outputs": []
    },
    {
      "cell_type": "code",
      "source": [
        "# Creating an instance of Employee\n",
        "employee1 = Employee(\"John Doe\", 35, \"Software Developer\", 75000)\n",
        "\n",
        "# Displaying employee information\n",
        "employee1.display_employee_info()"
      ],
      "metadata": {
        "id": "G2JG8qIbMU3u",
        "outputId": "82ae7ec8-26f6-4ba7-f4a9-d330b39ae257",
        "colab": {
          "base_uri": "https://localhost:8080/"
        }
      },
      "execution_count": null,
      "outputs": [
        {
          "output_type": "stream",
          "name": "stdout",
          "text": [
            "Name: John Doe\n",
            "Age: 35\n",
            "Position: Software Developer\n",
            "Salary: $75000\n"
          ]
        }
      ]
    },
    {
      "cell_type": "markdown",
      "source": [
        "## A more advanced employee survey class"
      ],
      "metadata": {
        "id": "exbwco4kOmd6"
      }
    },
    {
      "cell_type": "code",
      "source": [
        "class EmployeeSurvey:\n",
        "\n",
        "    def __init__(self, survey_name):\n",
        "        self.survey_name = survey_name\n",
        "        self.responses = []\n",
        "\n",
        "    def add_response(self, employee_id, satisfaction_score, feedback):\n",
        "        response = {\n",
        "            'employee_id': employee_id,\n",
        "            'satisfaction_score': satisfaction_score,\n",
        "            'feedback': feedback\n",
        "        }\n",
        "        self.responses.append(response)\n",
        "\n",
        "    def calculate_average_score(self):\n",
        "        if not self.responses:\n",
        "          print('we dont have any responses!')\n",
        "          return 0\n",
        "\n",
        "        total_score = sum(response['satisfaction_score'] for response in self.responses)\n",
        "        average_score = total_score / len(self.responses)\n",
        "        return average_score\n",
        "\n",
        "    def identify_areas_for_improvement(self):\n",
        "        feedbacks = [response['feedback'] for response in self.responses if response['satisfaction_score'] < 70]\n",
        "        if not feedbacks:\n",
        "            return \"No areas for improvement identified.\"\n",
        "\n",
        "        return \"Areas for Improvement:\\n\" + \"\\n\".join(feedbacks)\n",
        "\n",
        "# Example usage:\n",
        "survey = EmployeeSurvey(\"Employee Satisfaction Survey\")"
      ],
      "metadata": {
        "id": "aQpfOZJIOo7A"
      },
      "execution_count": 3,
      "outputs": []
    },
    {
      "cell_type": "code",
      "source": [
        "# Add survey responses\n",
        "survey.add_response(\"E001\", 85, \"The team collaboration is excellent.\")\n",
        "survey.add_response(\"E002\", 65, \"Work-life balance needs improvement.\")\n",
        "survey.add_response(\"E003\", 90, \"Great leadership and clear communication.\")\n",
        "\n",
        "# Display average score\n",
        "print(f\"Average Satisfaction Score: {survey.calculate_average_score():.2f}\")\n",
        "\n",
        "# Identify areas for improvement\n",
        "print(survey.identify_areas_for_improvement())"
      ],
      "metadata": {
        "id": "_x68C2oHOqo2",
        "outputId": "8506513b-f10c-446a-ac96-4b7ccdbe1cda",
        "colab": {
          "base_uri": "https://localhost:8080/"
        }
      },
      "execution_count": 4,
      "outputs": [
        {
          "output_type": "stream",
          "name": "stdout",
          "text": [
            "Average Satisfaction Score: 80.00\n",
            "Areas for Improvement:\n",
            "Work-life balance needs improvement.\n"
          ]
        }
      ]
    },
    {
      "cell_type": "code",
      "source": [
        "# Add survey responses\n",
        "survey.add_response(\"E001\", 30, \"The team collaboration is excellent.\")\n",
        "survey.add_response(\"E002\", 20, \"Work-life balance needs improvement.\")\n",
        "survey.add_response(\"E003\", 10, \"Great leadership and clear communication.\")\n",
        "\n",
        "# Display average score\n",
        "print(f\"Average Satisfaction Score: {survey.calculate_average_score():.2f}\")\n",
        "\n",
        "# Identify areas for improvement\n",
        "print(survey.identify_areas_for_improvement())"
      ],
      "metadata": {
        "id": "R4Yiz1CnPFKG",
        "outputId": "aa14bd2e-9578-44d1-882a-03133175b52d",
        "colab": {
          "base_uri": "https://localhost:8080/"
        }
      },
      "execution_count": 5,
      "outputs": [
        {
          "output_type": "stream",
          "name": "stdout",
          "text": [
            "Average Satisfaction Score: 50.00\n",
            "Areas for Improvement:\n",
            "Work-life balance needs improvement.\n",
            "The team collaboration is excellent.\n",
            "Work-life balance needs improvement.\n",
            "Great leadership and clear communication.\n"
          ]
        }
      ]
    },
    {
      "cell_type": "markdown",
      "source": [
        "## Class that does Linear Regression"
      ],
      "metadata": {
        "id": "9StSzojjVWRC"
      }
    },
    {
      "cell_type": "code",
      "source": [
        "from sklearn.linear_model import LinearRegression as regressor\n",
        "import numpy as np\n",
        "\n",
        "class Regression:\n",
        "    def __init__(self):\n",
        "        self.model = regressor()\n",
        "\n",
        "    def fit(self, X, y):\n",
        "        \"\"\"\n",
        "        Fit a linear regression model to the given dataset.\n",
        "\n",
        "        Parameters:\n",
        "        X : array-like, shape (n_samples, n_features)\n",
        "            Training data.\n",
        "        y : array-like, shape (n_samples,)\n",
        "            Target values.\n",
        "\n",
        "        Returns:\n",
        "        self : object\n",
        "            Returns the instance itself.\n",
        "        \"\"\"\n",
        "        self.model.fit(X, y)\n",
        "        return self\n",
        "\n",
        "    def predict(self, X):\n",
        "        \"\"\"\n",
        "        Predict target values for the given data.\n",
        "\n",
        "        Parameters:\n",
        "        X : array-like, shape (n_samples, n_features)\n",
        "            Samples.\n",
        "\n",
        "        Returns:\n",
        "        y_pred : array-like, shape (n_samples,)\n",
        "            Predicted target values.\n",
        "        \"\"\"\n",
        "        return self.model.predict(X)"
      ],
      "metadata": {
        "id": "vWY-igrqUXgs"
      },
      "execution_count": null,
      "outputs": []
    },
    {
      "cell_type": "code",
      "source": [
        "# Example usage\n",
        "\n",
        "# Sample data\n",
        "X_train = np.array([[1], [2], [3], [4]])\n",
        "y_train = np.array([2, 4, 5, 4])\n",
        "\n",
        "# Create an instance of LinearRegression class\n",
        "model = Regression()\n",
        "\n",
        "# Fit the model to the training data\n",
        "model.fit(X_train, y_train)\n",
        "\n",
        "# Predict values for new data\n",
        "X_test = np.array([[5], [6]])\n",
        "y_pred = model.predict(X_test)\n",
        "\n",
        "print(\"Predicted values:\", y_pred)"
      ],
      "metadata": {
        "colab": {
          "base_uri": "https://localhost:8080/"
        },
        "id": "JTDnjXKBUbeI",
        "outputId": "3fcf3f56-65ab-4e1b-b021-56b394c6a5b9"
      },
      "execution_count": null,
      "outputs": [
        {
          "output_type": "stream",
          "name": "stdout",
          "text": [
            "Predicted values: [5.5 6.2]\n"
          ]
        }
      ]
    },
    {
      "cell_type": "markdown",
      "source": [
        "## A class that contains basic attributes about a car"
      ],
      "metadata": {
        "id": "n3ziY5p7VOyZ"
      }
    },
    {
      "cell_type": "code",
      "source": [
        "class Car:\n",
        "    # Class variable\n",
        "    total_cars = 0\n",
        "\n",
        "    def __init__(self, make, model, year):\n",
        "        self.make = make\n",
        "        self.model = model\n",
        "        self.year = year\n",
        "        Car.total_cars += 1  # Increment the total_cars each time a new car is created\n",
        "\n",
        "    def description(self):\n",
        "        return f\"{self.year} {self.make} {self.model}\""
      ],
      "metadata": {
        "id": "4fjTm9coN7hm"
      },
      "execution_count": null,
      "outputs": []
    },
    {
      "cell_type": "code",
      "source": [
        "# Creating car instances\n",
        "car1 = Car(\"Toyota\", \"Corolla\", 2020)\n",
        "car2 = Car(\"Ford\", \"Mustang\", 2022)\n",
        "\n",
        "# Accessing class variable\n",
        "print(f\"Total cars: {Car.total_cars}\")  # Total cars: 2"
      ],
      "metadata": {
        "id": "PUa5BkhBQF4-",
        "outputId": "2aeea6a8-911a-4d57-8fb1-288d77a1e330",
        "colab": {
          "base_uri": "https://localhost:8080/"
        }
      },
      "execution_count": null,
      "outputs": [
        {
          "output_type": "stream",
          "name": "stdout",
          "text": [
            "Total cars: 2\n"
          ]
        }
      ]
    },
    {
      "cell_type": "code",
      "source": [
        "car1.description()"
      ],
      "metadata": {
        "id": "TMfP4aq6J7QH",
        "outputId": "0aa4f0ef-a974-4eb1-95d8-befe09c0d890",
        "colab": {
          "base_uri": "https://localhost:8080/",
          "height": 36
        }
      },
      "execution_count": null,
      "outputs": [
        {
          "output_type": "execute_result",
          "data": {
            "text/plain": [
              "'2020 Toyota Corolla'"
            ],
            "application/vnd.google.colaboratory.intrinsic+json": {
              "type": "string"
            }
          },
          "metadata": {},
          "execution_count": 20
        }
      ]
    },
    {
      "cell_type": "code",
      "source": [
        "car2.description()"
      ],
      "metadata": {
        "id": "MASTAlm_J-6k",
        "outputId": "69839647-0c7c-49a1-db6a-75365ad8cfd5",
        "colab": {
          "base_uri": "https://localhost:8080/",
          "height": 36
        }
      },
      "execution_count": null,
      "outputs": [
        {
          "output_type": "execute_result",
          "data": {
            "text/plain": [
              "'2022 Ford Mustang'"
            ],
            "application/vnd.google.colaboratory.intrinsic+json": {
              "type": "string"
            }
          },
          "metadata": {},
          "execution_count": 21
        }
      ]
    },
    {
      "cell_type": "markdown",
      "source": [
        "## Inheritance from the Car class"
      ],
      "metadata": {
        "id": "Lb_uzDNkONSC"
      }
    },
    {
      "cell_type": "markdown",
      "source": [
        "#### Inheritance\n",
        "\n",
        "*   A fundamental concept in\n",
        "object-oriented programming (OOP)\n",
        "*   We can create a new class, called a subclass\n",
        "*   This new class can inherit attributes or methods from a super class (or parent)\n",
        "*   We can access all attributes or methods from the parent class\n",
        "*   We can also override methods or attributes from the parent class\n",
        "*   Additionally, the subclass can have additional methods or attributes\n",
        "\n"
      ],
      "metadata": {
        "id": "ENzcONaROkCK"
      }
    },
    {
      "cell_type": "markdown",
      "source": [
        "![image.png](data:image/png;base64,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)"
      ],
      "metadata": {
        "id": "mscGvdYvM41_"
      }
    },
    {
      "cell_type": "code",
      "source": [
        "class ElectricCar(Car):  # Inherits from Car\n",
        "    def __init__(self, make, model, year, battery_size):\n",
        "        super().__init__(make, model, year)  # Initialize attributes of the parent class\n",
        "        self.battery_size = battery_size  # Additional attribute for ElectricCar\n",
        "\n",
        "    # Overriding the description method\n",
        "    def description(self):\n",
        "        return f\"{self.year} {self.make} {self.model} with a {self.battery_size}-kWh battery.\"\n",
        "\n",
        "    def start(self):\n",
        "      return f\"vroooom vroooom (but in Hans Zimmer and quiet)\""
      ],
      "metadata": {
        "id": "NFOxK-mOOMoE"
      },
      "execution_count": null,
      "outputs": []
    },
    {
      "cell_type": "code",
      "source": [
        "\n",
        "# Creating an ElectricCar instance\n",
        "electric_car = ElectricCar(\"Tesla\", \"Model S\", 2019, 75)\n",
        "\n",
        "# Accessing overridden method\n",
        "print(electric_car.description())  # 2019 Tesla Model S with a 75-kWh battery.\n",
        "\n",
        "# Use the new method in the child class\n",
        "print(electric_car.start())  # vroooom vroooom (but in Hans Zimmer and quiet)"
      ],
      "metadata": {
        "colab": {
          "base_uri": "https://localhost:8080/"
        },
        "id": "xOsAB7I8QHlP",
        "outputId": "bf63cd92-59d4-4d7b-f225-e9a2dc3830ac"
      },
      "execution_count": null,
      "outputs": [
        {
          "output_type": "stream",
          "name": "stdout",
          "text": [
            "2019 Tesla Model S with a 75-kWh battery.\n",
            "vroooom vroooom (but in Hans Zimmer and quiet)\n"
          ]
        }
      ]
    },
    {
      "cell_type": "markdown",
      "source": [
        "# Activity\n",
        "1. Create a class that gives a raise to an employee\n"
      ],
      "metadata": {
        "id": "KyAjzeM1Pr-P"
      }
    },
    {
      "cell_type": "code",
      "source": [
        "class Employee:\n",
        "\n",
        "    def __init__(self, name, age, position, salary):\n",
        "        self.name = name\n",
        "        self.age = age\n",
        "        self.position = position\n",
        "        self.salary = salary\n",
        "\n",
        "    def display_employee_info(self):\n",
        "        print(f\"Name: {self.name}\")\n",
        "        print(f\"Age: {self.age}\")\n",
        "        print(f\"Position: {self.position}\")\n",
        "        print(f\"Salary: ${self.salary}\")\n",
        "\n",
        "    def give_raise(self, percentage):\n",
        "        \"\"\"\n",
        "        Increases the employee's salary by the given percentage.\n",
        "\n",
        "        Parameters:\n",
        "        - percentage (float): The percentage increase in salary.\n",
        "\n",
        "        Expected Behavior:\n",
        "        This method should increase the employee's salary by the given percentage.\n",
        "        If the provided percentage is negative, it should print a message indicating that the percentage should be positive.\n",
        "\n",
        "        Example usage:\n",
        "        employee1 = Employee(\"John Doe\", 30, \"Software Developer\", 75000)\n",
        "\n",
        "        # Display employee information\n",
        "        print(\"Before raise:\")\n",
        "        employee1.display_employee_info()\n",
        "\n",
        "        # Give the employee a raise of 10%\n",
        "        employee1.give_raise(10)\n",
        "\n",
        "        # Display updated employee information\n",
        "        print(\"\\nAfter raise:\")\n",
        "        employee1.display_employee_info()\n",
        "\n",
        "        \"\"\"\n",
        "        pass"
      ],
      "metadata": {
        "id": "rEtf6IqdPtsU"
      },
      "execution_count": null,
      "outputs": []
    }
  ]
}