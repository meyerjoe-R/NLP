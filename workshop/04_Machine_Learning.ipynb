{
  "nbformat": 4,
  "nbformat_minor": 0,
  "metadata": {
    "colab": {
      "provenance": [],
      "collapsed_sections": [
        "9blxzK4yI26E",
        "pncVXvYoncWs"
      ],
      "gpuType": "T4",
      "authorship_tag": "ABX9TyOQv5/FLqSE46hnpfnX7sEP",
      "include_colab_link": true
    },
    "kernelspec": {
      "name": "python3",
      "display_name": "Python 3"
    },
    "language_info": {
      "name": "python"
    },
    "accelerator": "GPU",
    "widgets": {
      "application/vnd.jupyter.widget-state+json": {
        "cadabf912ac748a59cac110f4f1215ee": {
          "model_module": "@jupyter-widgets/controls",
          "model_name": "VBoxModel",
          "model_module_version": "1.5.0",
          "state": {
            "_dom_classes": [],
            "_model_module": "@jupyter-widgets/controls",
            "_model_module_version": "1.5.0",
            "_model_name": "VBoxModel",
            "_view_count": null,
            "_view_module": "@jupyter-widgets/controls",
            "_view_module_version": "1.5.0",
            "_view_name": "VBoxView",
            "box_style": "",
            "children": [
              "IPY_MODEL_a1e20075ec264b35b3aef0a6c6f1b759",
              "IPY_MODEL_beb217f2e1b348f78fa8ac24836693fd",
              "IPY_MODEL_d98d68d42ce4441a98fb98c5b5b942a1",
              "IPY_MODEL_7f4294cca7564d158d3f1b7624687030"
            ],
            "layout": "IPY_MODEL_01904420fa834c9882eb2cc0d4b98f5f"
          }
        },
        "02047d85a81543ada41712f40f36cd38": {
          "model_module": "@jupyter-widgets/controls",
          "model_name": "HTMLModel",
          "model_module_version": "1.5.0",
          "state": {
            "_dom_classes": [],
            "_model_module": "@jupyter-widgets/controls",
            "_model_module_version": "1.5.0",
            "_model_name": "HTMLModel",
            "_view_count": null,
            "_view_module": "@jupyter-widgets/controls",
            "_view_module_version": "1.5.0",
            "_view_name": "HTMLView",
            "description": "",
            "description_tooltip": null,
            "layout": "IPY_MODEL_93a47ec28c3a4b489f9a475dfaebd3a3",
            "placeholder": "​",
            "style": "IPY_MODEL_bbb19a4dc7094fc3832915960c5d0ab1",
            "value": "<center> <img\nsrc=https://huggingface.co/front/assets/huggingface_logo-noborder.svg\nalt='Hugging Face'> <br> Copy a token from <a\nhref=\"https://huggingface.co/settings/tokens\" target=\"_blank\">your Hugging Face\ntokens page</a> and paste it below. <br> Immediately click login after copying\nyour token or it might be stored in plain text in this notebook file. </center>"
          }
        },
        "f0c7a2f02ae4457bb79d264a3e12bdc7": {
          "model_module": "@jupyter-widgets/controls",
          "model_name": "PasswordModel",
          "model_module_version": "1.5.0",
          "state": {
            "_dom_classes": [],
            "_model_module": "@jupyter-widgets/controls",
            "_model_module_version": "1.5.0",
            "_model_name": "PasswordModel",
            "_view_count": null,
            "_view_module": "@jupyter-widgets/controls",
            "_view_module_version": "1.5.0",
            "_view_name": "PasswordView",
            "continuous_update": true,
            "description": "Token:",
            "description_tooltip": null,
            "disabled": false,
            "layout": "IPY_MODEL_f7c21316ade74eaaa4442ed69eb9474d",
            "placeholder": "​",
            "style": "IPY_MODEL_1ac8f92b1ddf40e3a87c152511070b3f",
            "value": ""
          }
        },
        "dd50571bb3894d9a916b1b69e2a4843d": {
          "model_module": "@jupyter-widgets/controls",
          "model_name": "CheckboxModel",
          "model_module_version": "1.5.0",
          "state": {
            "_dom_classes": [],
            "_model_module": "@jupyter-widgets/controls",
            "_model_module_version": "1.5.0",
            "_model_name": "CheckboxModel",
            "_view_count": null,
            "_view_module": "@jupyter-widgets/controls",
            "_view_module_version": "1.5.0",
            "_view_name": "CheckboxView",
            "description": "Add token as git credential?",
            "description_tooltip": null,
            "disabled": false,
            "indent": true,
            "layout": "IPY_MODEL_9169014873ee41008caf44af627f6b90",
            "style": "IPY_MODEL_c3dd7bdb2b4a46f787f18194400a2224",
            "value": true
          }
        },
        "394c3fed8786450595b079f2a0763c2f": {
          "model_module": "@jupyter-widgets/controls",
          "model_name": "ButtonModel",
          "model_module_version": "1.5.0",
          "state": {
            "_dom_classes": [],
            "_model_module": "@jupyter-widgets/controls",
            "_model_module_version": "1.5.0",
            "_model_name": "ButtonModel",
            "_view_count": null,
            "_view_module": "@jupyter-widgets/controls",
            "_view_module_version": "1.5.0",
            "_view_name": "ButtonView",
            "button_style": "",
            "description": "Login",
            "disabled": false,
            "icon": "",
            "layout": "IPY_MODEL_008f88a6c9e34f49aa65f1013cbf144b",
            "style": "IPY_MODEL_cbce6e78eb5f40819c9e4046798738ac",
            "tooltip": ""
          }
        },
        "f317feeaa89949f7b58522f8b4210664": {
          "model_module": "@jupyter-widgets/controls",
          "model_name": "HTMLModel",
          "model_module_version": "1.5.0",
          "state": {
            "_dom_classes": [],
            "_model_module": "@jupyter-widgets/controls",
            "_model_module_version": "1.5.0",
            "_model_name": "HTMLModel",
            "_view_count": null,
            "_view_module": "@jupyter-widgets/controls",
            "_view_module_version": "1.5.0",
            "_view_name": "HTMLView",
            "description": "",
            "description_tooltip": null,
            "layout": "IPY_MODEL_88407e1dc2b147a08a3fc811305cc328",
            "placeholder": "​",
            "style": "IPY_MODEL_6f2c10673c8644a6ad386474e3fac114",
            "value": "\n<b>Pro Tip:</b> If you don't already have one, you can create a dedicated\n'notebooks' token with 'write' access, that you can then easily reuse for all\nnotebooks. </center>"
          }
        },
        "01904420fa834c9882eb2cc0d4b98f5f": {
          "model_module": "@jupyter-widgets/base",
          "model_name": "LayoutModel",
          "model_module_version": "1.2.0",
          "state": {
            "_model_module": "@jupyter-widgets/base",
            "_model_module_version": "1.2.0",
            "_model_name": "LayoutModel",
            "_view_count": null,
            "_view_module": "@jupyter-widgets/base",
            "_view_module_version": "1.2.0",
            "_view_name": "LayoutView",
            "align_content": null,
            "align_items": "center",
            "align_self": null,
            "border": null,
            "bottom": null,
            "display": "flex",
            "flex": null,
            "flex_flow": "column",
            "grid_area": null,
            "grid_auto_columns": null,
            "grid_auto_flow": null,
            "grid_auto_rows": null,
            "grid_column": null,
            "grid_gap": null,
            "grid_row": null,
            "grid_template_areas": null,
            "grid_template_columns": null,
            "grid_template_rows": null,
            "height": null,
            "justify_content": null,
            "justify_items": null,
            "left": null,
            "margin": null,
            "max_height": null,
            "max_width": null,
            "min_height": null,
            "min_width": null,
            "object_fit": null,
            "object_position": null,
            "order": null,
            "overflow": null,
            "overflow_x": null,
            "overflow_y": null,
            "padding": null,
            "right": null,
            "top": null,
            "visibility": null,
            "width": "50%"
          }
        },
        "93a47ec28c3a4b489f9a475dfaebd3a3": {
          "model_module": "@jupyter-widgets/base",
          "model_name": "LayoutModel",
          "model_module_version": "1.2.0",
          "state": {
            "_model_module": "@jupyter-widgets/base",
            "_model_module_version": "1.2.0",
            "_model_name": "LayoutModel",
            "_view_count": null,
            "_view_module": "@jupyter-widgets/base",
            "_view_module_version": "1.2.0",
            "_view_name": "LayoutView",
            "align_content": null,
            "align_items": null,
            "align_self": null,
            "border": null,
            "bottom": null,
            "display": null,
            "flex": null,
            "flex_flow": null,
            "grid_area": null,
            "grid_auto_columns": null,
            "grid_auto_flow": null,
            "grid_auto_rows": null,
            "grid_column": null,
            "grid_gap": null,
            "grid_row": null,
            "grid_template_areas": null,
            "grid_template_columns": null,
            "grid_template_rows": null,
            "height": null,
            "justify_content": null,
            "justify_items": null,
            "left": null,
            "margin": null,
            "max_height": null,
            "max_width": null,
            "min_height": null,
            "min_width": null,
            "object_fit": null,
            "object_position": null,
            "order": null,
            "overflow": null,
            "overflow_x": null,
            "overflow_y": null,
            "padding": null,
            "right": null,
            "top": null,
            "visibility": null,
            "width": null
          }
        },
        "bbb19a4dc7094fc3832915960c5d0ab1": {
          "model_module": "@jupyter-widgets/controls",
          "model_name": "DescriptionStyleModel",
          "model_module_version": "1.5.0",
          "state": {
            "_model_module": "@jupyter-widgets/controls",
            "_model_module_version": "1.5.0",
            "_model_name": "DescriptionStyleModel",
            "_view_count": null,
            "_view_module": "@jupyter-widgets/base",
            "_view_module_version": "1.2.0",
            "_view_name": "StyleView",
            "description_width": ""
          }
        },
        "f7c21316ade74eaaa4442ed69eb9474d": {
          "model_module": "@jupyter-widgets/base",
          "model_name": "LayoutModel",
          "model_module_version": "1.2.0",
          "state": {
            "_model_module": "@jupyter-widgets/base",
            "_model_module_version": "1.2.0",
            "_model_name": "LayoutModel",
            "_view_count": null,
            "_view_module": "@jupyter-widgets/base",
            "_view_module_version": "1.2.0",
            "_view_name": "LayoutView",
            "align_content": null,
            "align_items": null,
            "align_self": null,
            "border": null,
            "bottom": null,
            "display": null,
            "flex": null,
            "flex_flow": null,
            "grid_area": null,
            "grid_auto_columns": null,
            "grid_auto_flow": null,
            "grid_auto_rows": null,
            "grid_column": null,
            "grid_gap": null,
            "grid_row": null,
            "grid_template_areas": null,
            "grid_template_columns": null,
            "grid_template_rows": null,
            "height": null,
            "justify_content": null,
            "justify_items": null,
            "left": null,
            "margin": null,
            "max_height": null,
            "max_width": null,
            "min_height": null,
            "min_width": null,
            "object_fit": null,
            "object_position": null,
            "order": null,
            "overflow": null,
            "overflow_x": null,
            "overflow_y": null,
            "padding": null,
            "right": null,
            "top": null,
            "visibility": null,
            "width": null
          }
        },
        "1ac8f92b1ddf40e3a87c152511070b3f": {
          "model_module": "@jupyter-widgets/controls",
          "model_name": "DescriptionStyleModel",
          "model_module_version": "1.5.0",
          "state": {
            "_model_module": "@jupyter-widgets/controls",
            "_model_module_version": "1.5.0",
            "_model_name": "DescriptionStyleModel",
            "_view_count": null,
            "_view_module": "@jupyter-widgets/base",
            "_view_module_version": "1.2.0",
            "_view_name": "StyleView",
            "description_width": ""
          }
        },
        "9169014873ee41008caf44af627f6b90": {
          "model_module": "@jupyter-widgets/base",
          "model_name": "LayoutModel",
          "model_module_version": "1.2.0",
          "state": {
            "_model_module": "@jupyter-widgets/base",
            "_model_module_version": "1.2.0",
            "_model_name": "LayoutModel",
            "_view_count": null,
            "_view_module": "@jupyter-widgets/base",
            "_view_module_version": "1.2.0",
            "_view_name": "LayoutView",
            "align_content": null,
            "align_items": null,
            "align_self": null,
            "border": null,
            "bottom": null,
            "display": null,
            "flex": null,
            "flex_flow": null,
            "grid_area": null,
            "grid_auto_columns": null,
            "grid_auto_flow": null,
            "grid_auto_rows": null,
            "grid_column": null,
            "grid_gap": null,
            "grid_row": null,
            "grid_template_areas": null,
            "grid_template_columns": null,
            "grid_template_rows": null,
            "height": null,
            "justify_content": null,
            "justify_items": null,
            "left": null,
            "margin": null,
            "max_height": null,
            "max_width": null,
            "min_height": null,
            "min_width": null,
            "object_fit": null,
            "object_position": null,
            "order": null,
            "overflow": null,
            "overflow_x": null,
            "overflow_y": null,
            "padding": null,
            "right": null,
            "top": null,
            "visibility": null,
            "width": null
          }
        },
        "c3dd7bdb2b4a46f787f18194400a2224": {
          "model_module": "@jupyter-widgets/controls",
          "model_name": "DescriptionStyleModel",
          "model_module_version": "1.5.0",
          "state": {
            "_model_module": "@jupyter-widgets/controls",
            "_model_module_version": "1.5.0",
            "_model_name": "DescriptionStyleModel",
            "_view_count": null,
            "_view_module": "@jupyter-widgets/base",
            "_view_module_version": "1.2.0",
            "_view_name": "StyleView",
            "description_width": ""
          }
        },
        "008f88a6c9e34f49aa65f1013cbf144b": {
          "model_module": "@jupyter-widgets/base",
          "model_name": "LayoutModel",
          "model_module_version": "1.2.0",
          "state": {
            "_model_module": "@jupyter-widgets/base",
            "_model_module_version": "1.2.0",
            "_model_name": "LayoutModel",
            "_view_count": null,
            "_view_module": "@jupyter-widgets/base",
            "_view_module_version": "1.2.0",
            "_view_name": "LayoutView",
            "align_content": null,
            "align_items": null,
            "align_self": null,
            "border": null,
            "bottom": null,
            "display": null,
            "flex": null,
            "flex_flow": null,
            "grid_area": null,
            "grid_auto_columns": null,
            "grid_auto_flow": null,
            "grid_auto_rows": null,
            "grid_column": null,
            "grid_gap": null,
            "grid_row": null,
            "grid_template_areas": null,
            "grid_template_columns": null,
            "grid_template_rows": null,
            "height": null,
            "justify_content": null,
            "justify_items": null,
            "left": null,
            "margin": null,
            "max_height": null,
            "max_width": null,
            "min_height": null,
            "min_width": null,
            "object_fit": null,
            "object_position": null,
            "order": null,
            "overflow": null,
            "overflow_x": null,
            "overflow_y": null,
            "padding": null,
            "right": null,
            "top": null,
            "visibility": null,
            "width": null
          }
        },
        "cbce6e78eb5f40819c9e4046798738ac": {
          "model_module": "@jupyter-widgets/controls",
          "model_name": "ButtonStyleModel",
          "model_module_version": "1.5.0",
          "state": {
            "_model_module": "@jupyter-widgets/controls",
            "_model_module_version": "1.5.0",
            "_model_name": "ButtonStyleModel",
            "_view_count": null,
            "_view_module": "@jupyter-widgets/base",
            "_view_module_version": "1.2.0",
            "_view_name": "StyleView",
            "button_color": null,
            "font_weight": ""
          }
        },
        "88407e1dc2b147a08a3fc811305cc328": {
          "model_module": "@jupyter-widgets/base",
          "model_name": "LayoutModel",
          "model_module_version": "1.2.0",
          "state": {
            "_model_module": "@jupyter-widgets/base",
            "_model_module_version": "1.2.0",
            "_model_name": "LayoutModel",
            "_view_count": null,
            "_view_module": "@jupyter-widgets/base",
            "_view_module_version": "1.2.0",
            "_view_name": "LayoutView",
            "align_content": null,
            "align_items": null,
            "align_self": null,
            "border": null,
            "bottom": null,
            "display": null,
            "flex": null,
            "flex_flow": null,
            "grid_area": null,
            "grid_auto_columns": null,
            "grid_auto_flow": null,
            "grid_auto_rows": null,
            "grid_column": null,
            "grid_gap": null,
            "grid_row": null,
            "grid_template_areas": null,
            "grid_template_columns": null,
            "grid_template_rows": null,
            "height": null,
            "justify_content": null,
            "justify_items": null,
            "left": null,
            "margin": null,
            "max_height": null,
            "max_width": null,
            "min_height": null,
            "min_width": null,
            "object_fit": null,
            "object_position": null,
            "order": null,
            "overflow": null,
            "overflow_x": null,
            "overflow_y": null,
            "padding": null,
            "right": null,
            "top": null,
            "visibility": null,
            "width": null
          }
        },
        "6f2c10673c8644a6ad386474e3fac114": {
          "model_module": "@jupyter-widgets/controls",
          "model_name": "DescriptionStyleModel",
          "model_module_version": "1.5.0",
          "state": {
            "_model_module": "@jupyter-widgets/controls",
            "_model_module_version": "1.5.0",
            "_model_name": "DescriptionStyleModel",
            "_view_count": null,
            "_view_module": "@jupyter-widgets/base",
            "_view_module_version": "1.2.0",
            "_view_name": "StyleView",
            "description_width": ""
          }
        },
        "a9bc6337646e4a99bf458dcb87780368": {
          "model_module": "@jupyter-widgets/controls",
          "model_name": "LabelModel",
          "model_module_version": "1.5.0",
          "state": {
            "_dom_classes": [],
            "_model_module": "@jupyter-widgets/controls",
            "_model_module_version": "1.5.0",
            "_model_name": "LabelModel",
            "_view_count": null,
            "_view_module": "@jupyter-widgets/controls",
            "_view_module_version": "1.5.0",
            "_view_name": "LabelView",
            "description": "",
            "description_tooltip": null,
            "layout": "IPY_MODEL_631a5eb8d3b44376b8d716262b65d0d1",
            "placeholder": "​",
            "style": "IPY_MODEL_9dd40ecc86e14dbe90a308643b429e39",
            "value": "Connecting..."
          }
        },
        "631a5eb8d3b44376b8d716262b65d0d1": {
          "model_module": "@jupyter-widgets/base",
          "model_name": "LayoutModel",
          "model_module_version": "1.2.0",
          "state": {
            "_model_module": "@jupyter-widgets/base",
            "_model_module_version": "1.2.0",
            "_model_name": "LayoutModel",
            "_view_count": null,
            "_view_module": "@jupyter-widgets/base",
            "_view_module_version": "1.2.0",
            "_view_name": "LayoutView",
            "align_content": null,
            "align_items": null,
            "align_self": null,
            "border": null,
            "bottom": null,
            "display": null,
            "flex": null,
            "flex_flow": null,
            "grid_area": null,
            "grid_auto_columns": null,
            "grid_auto_flow": null,
            "grid_auto_rows": null,
            "grid_column": null,
            "grid_gap": null,
            "grid_row": null,
            "grid_template_areas": null,
            "grid_template_columns": null,
            "grid_template_rows": null,
            "height": null,
            "justify_content": null,
            "justify_items": null,
            "left": null,
            "margin": null,
            "max_height": null,
            "max_width": null,
            "min_height": null,
            "min_width": null,
            "object_fit": null,
            "object_position": null,
            "order": null,
            "overflow": null,
            "overflow_x": null,
            "overflow_y": null,
            "padding": null,
            "right": null,
            "top": null,
            "visibility": null,
            "width": null
          }
        },
        "9dd40ecc86e14dbe90a308643b429e39": {
          "model_module": "@jupyter-widgets/controls",
          "model_name": "DescriptionStyleModel",
          "model_module_version": "1.5.0",
          "state": {
            "_model_module": "@jupyter-widgets/controls",
            "_model_module_version": "1.5.0",
            "_model_name": "DescriptionStyleModel",
            "_view_count": null,
            "_view_module": "@jupyter-widgets/base",
            "_view_module_version": "1.2.0",
            "_view_name": "StyleView",
            "description_width": ""
          }
        },
        "a1e20075ec264b35b3aef0a6c6f1b759": {
          "model_module": "@jupyter-widgets/controls",
          "model_name": "LabelModel",
          "model_module_version": "1.5.0",
          "state": {
            "_dom_classes": [],
            "_model_module": "@jupyter-widgets/controls",
            "_model_module_version": "1.5.0",
            "_model_name": "LabelModel",
            "_view_count": null,
            "_view_module": "@jupyter-widgets/controls",
            "_view_module_version": "1.5.0",
            "_view_name": "LabelView",
            "description": "",
            "description_tooltip": null,
            "layout": "IPY_MODEL_4a1521cf6e9b4a9090dca371711a5d80",
            "placeholder": "​",
            "style": "IPY_MODEL_1c1acd77de5249b4be09fb95e87f138a",
            "value": "Token is valid (permission: read)."
          }
        },
        "beb217f2e1b348f78fa8ac24836693fd": {
          "model_module": "@jupyter-widgets/controls",
          "model_name": "LabelModel",
          "model_module_version": "1.5.0",
          "state": {
            "_dom_classes": [],
            "_model_module": "@jupyter-widgets/controls",
            "_model_module_version": "1.5.0",
            "_model_name": "LabelModel",
            "_view_count": null,
            "_view_module": "@jupyter-widgets/controls",
            "_view_module_version": "1.5.0",
            "_view_name": "LabelView",
            "description": "",
            "description_tooltip": null,
            "layout": "IPY_MODEL_a090361f323d46d2b80809457052782f",
            "placeholder": "​",
            "style": "IPY_MODEL_1ce54255b0944c6a9516333d5699c9da",
            "value": "Your token has been saved in your configured git credential helpers (store)."
          }
        },
        "d98d68d42ce4441a98fb98c5b5b942a1": {
          "model_module": "@jupyter-widgets/controls",
          "model_name": "LabelModel",
          "model_module_version": "1.5.0",
          "state": {
            "_dom_classes": [],
            "_model_module": "@jupyter-widgets/controls",
            "_model_module_version": "1.5.0",
            "_model_name": "LabelModel",
            "_view_count": null,
            "_view_module": "@jupyter-widgets/controls",
            "_view_module_version": "1.5.0",
            "_view_name": "LabelView",
            "description": "",
            "description_tooltip": null,
            "layout": "IPY_MODEL_37c652fe8636464898d2ea96a07a2ce6",
            "placeholder": "​",
            "style": "IPY_MODEL_7fcbf75c60614e7cbc81dfd24930f6c8",
            "value": "Your token has been saved to /root/.cache/huggingface/token"
          }
        },
        "7f4294cca7564d158d3f1b7624687030": {
          "model_module": "@jupyter-widgets/controls",
          "model_name": "LabelModel",
          "model_module_version": "1.5.0",
          "state": {
            "_dom_classes": [],
            "_model_module": "@jupyter-widgets/controls",
            "_model_module_version": "1.5.0",
            "_model_name": "LabelModel",
            "_view_count": null,
            "_view_module": "@jupyter-widgets/controls",
            "_view_module_version": "1.5.0",
            "_view_name": "LabelView",
            "description": "",
            "description_tooltip": null,
            "layout": "IPY_MODEL_a4bbdf08ab444bd681db477ece7538d5",
            "placeholder": "​",
            "style": "IPY_MODEL_d45ef294f443479baeb2718a38ed3cc5",
            "value": "Login successful"
          }
        },
        "4a1521cf6e9b4a9090dca371711a5d80": {
          "model_module": "@jupyter-widgets/base",
          "model_name": "LayoutModel",
          "model_module_version": "1.2.0",
          "state": {
            "_model_module": "@jupyter-widgets/base",
            "_model_module_version": "1.2.0",
            "_model_name": "LayoutModel",
            "_view_count": null,
            "_view_module": "@jupyter-widgets/base",
            "_view_module_version": "1.2.0",
            "_view_name": "LayoutView",
            "align_content": null,
            "align_items": null,
            "align_self": null,
            "border": null,
            "bottom": null,
            "display": null,
            "flex": null,
            "flex_flow": null,
            "grid_area": null,
            "grid_auto_columns": null,
            "grid_auto_flow": null,
            "grid_auto_rows": null,
            "grid_column": null,
            "grid_gap": null,
            "grid_row": null,
            "grid_template_areas": null,
            "grid_template_columns": null,
            "grid_template_rows": null,
            "height": null,
            "justify_content": null,
            "justify_items": null,
            "left": null,
            "margin": null,
            "max_height": null,
            "max_width": null,
            "min_height": null,
            "min_width": null,
            "object_fit": null,
            "object_position": null,
            "order": null,
            "overflow": null,
            "overflow_x": null,
            "overflow_y": null,
            "padding": null,
            "right": null,
            "top": null,
            "visibility": null,
            "width": null
          }
        },
        "1c1acd77de5249b4be09fb95e87f138a": {
          "model_module": "@jupyter-widgets/controls",
          "model_name": "DescriptionStyleModel",
          "model_module_version": "1.5.0",
          "state": {
            "_model_module": "@jupyter-widgets/controls",
            "_model_module_version": "1.5.0",
            "_model_name": "DescriptionStyleModel",
            "_view_count": null,
            "_view_module": "@jupyter-widgets/base",
            "_view_module_version": "1.2.0",
            "_view_name": "StyleView",
            "description_width": ""
          }
        },
        "a090361f323d46d2b80809457052782f": {
          "model_module": "@jupyter-widgets/base",
          "model_name": "LayoutModel",
          "model_module_version": "1.2.0",
          "state": {
            "_model_module": "@jupyter-widgets/base",
            "_model_module_version": "1.2.0",
            "_model_name": "LayoutModel",
            "_view_count": null,
            "_view_module": "@jupyter-widgets/base",
            "_view_module_version": "1.2.0",
            "_view_name": "LayoutView",
            "align_content": null,
            "align_items": null,
            "align_self": null,
            "border": null,
            "bottom": null,
            "display": null,
            "flex": null,
            "flex_flow": null,
            "grid_area": null,
            "grid_auto_columns": null,
            "grid_auto_flow": null,
            "grid_auto_rows": null,
            "grid_column": null,
            "grid_gap": null,
            "grid_row": null,
            "grid_template_areas": null,
            "grid_template_columns": null,
            "grid_template_rows": null,
            "height": null,
            "justify_content": null,
            "justify_items": null,
            "left": null,
            "margin": null,
            "max_height": null,
            "max_width": null,
            "min_height": null,
            "min_width": null,
            "object_fit": null,
            "object_position": null,
            "order": null,
            "overflow": null,
            "overflow_x": null,
            "overflow_y": null,
            "padding": null,
            "right": null,
            "top": null,
            "visibility": null,
            "width": null
          }
        },
        "1ce54255b0944c6a9516333d5699c9da": {
          "model_module": "@jupyter-widgets/controls",
          "model_name": "DescriptionStyleModel",
          "model_module_version": "1.5.0",
          "state": {
            "_model_module": "@jupyter-widgets/controls",
            "_model_module_version": "1.5.0",
            "_model_name": "DescriptionStyleModel",
            "_view_count": null,
            "_view_module": "@jupyter-widgets/base",
            "_view_module_version": "1.2.0",
            "_view_name": "StyleView",
            "description_width": ""
          }
        },
        "37c652fe8636464898d2ea96a07a2ce6": {
          "model_module": "@jupyter-widgets/base",
          "model_name": "LayoutModel",
          "model_module_version": "1.2.0",
          "state": {
            "_model_module": "@jupyter-widgets/base",
            "_model_module_version": "1.2.0",
            "_model_name": "LayoutModel",
            "_view_count": null,
            "_view_module": "@jupyter-widgets/base",
            "_view_module_version": "1.2.0",
            "_view_name": "LayoutView",
            "align_content": null,
            "align_items": null,
            "align_self": null,
            "border": null,
            "bottom": null,
            "display": null,
            "flex": null,
            "flex_flow": null,
            "grid_area": null,
            "grid_auto_columns": null,
            "grid_auto_flow": null,
            "grid_auto_rows": null,
            "grid_column": null,
            "grid_gap": null,
            "grid_row": null,
            "grid_template_areas": null,
            "grid_template_columns": null,
            "grid_template_rows": null,
            "height": null,
            "justify_content": null,
            "justify_items": null,
            "left": null,
            "margin": null,
            "max_height": null,
            "max_width": null,
            "min_height": null,
            "min_width": null,
            "object_fit": null,
            "object_position": null,
            "order": null,
            "overflow": null,
            "overflow_x": null,
            "overflow_y": null,
            "padding": null,
            "right": null,
            "top": null,
            "visibility": null,
            "width": null
          }
        },
        "7fcbf75c60614e7cbc81dfd24930f6c8": {
          "model_module": "@jupyter-widgets/controls",
          "model_name": "DescriptionStyleModel",
          "model_module_version": "1.5.0",
          "state": {
            "_model_module": "@jupyter-widgets/controls",
            "_model_module_version": "1.5.0",
            "_model_name": "DescriptionStyleModel",
            "_view_count": null,
            "_view_module": "@jupyter-widgets/base",
            "_view_module_version": "1.2.0",
            "_view_name": "StyleView",
            "description_width": ""
          }
        },
        "a4bbdf08ab444bd681db477ece7538d5": {
          "model_module": "@jupyter-widgets/base",
          "model_name": "LayoutModel",
          "model_module_version": "1.2.0",
          "state": {
            "_model_module": "@jupyter-widgets/base",
            "_model_module_version": "1.2.0",
            "_model_name": "LayoutModel",
            "_view_count": null,
            "_view_module": "@jupyter-widgets/base",
            "_view_module_version": "1.2.0",
            "_view_name": "LayoutView",
            "align_content": null,
            "align_items": null,
            "align_self": null,
            "border": null,
            "bottom": null,
            "display": null,
            "flex": null,
            "flex_flow": null,
            "grid_area": null,
            "grid_auto_columns": null,
            "grid_auto_flow": null,
            "grid_auto_rows": null,
            "grid_column": null,
            "grid_gap": null,
            "grid_row": null,
            "grid_template_areas": null,
            "grid_template_columns": null,
            "grid_template_rows": null,
            "height": null,
            "justify_content": null,
            "justify_items": null,
            "left": null,
            "margin": null,
            "max_height": null,
            "max_width": null,
            "min_height": null,
            "min_width": null,
            "object_fit": null,
            "object_position": null,
            "order": null,
            "overflow": null,
            "overflow_x": null,
            "overflow_y": null,
            "padding": null,
            "right": null,
            "top": null,
            "visibility": null,
            "width": null
          }
        },
        "d45ef294f443479baeb2718a38ed3cc5": {
          "model_module": "@jupyter-widgets/controls",
          "model_name": "DescriptionStyleModel",
          "model_module_version": "1.5.0",
          "state": {
            "_model_module": "@jupyter-widgets/controls",
            "_model_module_version": "1.5.0",
            "_model_name": "DescriptionStyleModel",
            "_view_count": null,
            "_view_module": "@jupyter-widgets/base",
            "_view_module_version": "1.2.0",
            "_view_name": "StyleView",
            "description_width": ""
          }
        },
        "18d86af23c3845d78b08f49be00dcbd2": {
          "model_module": "@jupyter-widgets/controls",
          "model_name": "HBoxModel",
          "model_module_version": "1.5.0",
          "state": {
            "_dom_classes": [],
            "_model_module": "@jupyter-widgets/controls",
            "_model_module_version": "1.5.0",
            "_model_name": "HBoxModel",
            "_view_count": null,
            "_view_module": "@jupyter-widgets/controls",
            "_view_module_version": "1.5.0",
            "_view_name": "HBoxView",
            "box_style": "",
            "children": [
              "IPY_MODEL_fec376d94e6f47ea9effce8f967aecad",
              "IPY_MODEL_8da7ccd05d6245f2a8b26663bd2aeac3",
              "IPY_MODEL_36dbfcd9850c47ec8d7d19d0ae2089d5"
            ],
            "layout": "IPY_MODEL_41529d66d440436cb61b7bc5651fd151"
          }
        },
        "fec376d94e6f47ea9effce8f967aecad": {
          "model_module": "@jupyter-widgets/controls",
          "model_name": "HTMLModel",
          "model_module_version": "1.5.0",
          "state": {
            "_dom_classes": [],
            "_model_module": "@jupyter-widgets/controls",
            "_model_module_version": "1.5.0",
            "_model_name": "HTMLModel",
            "_view_count": null,
            "_view_module": "@jupyter-widgets/controls",
            "_view_module_version": "1.5.0",
            "_view_name": "HTMLView",
            "description": "",
            "description_tooltip": null,
            "layout": "IPY_MODEL_587f14c451bf46d1a549e4ca03783fae",
            "placeholder": "​",
            "style": "IPY_MODEL_0da81bb94daf40bca94528b3528fb33d",
            "value": "Loading checkpoint shards: 100%"
          }
        },
        "8da7ccd05d6245f2a8b26663bd2aeac3": {
          "model_module": "@jupyter-widgets/controls",
          "model_name": "FloatProgressModel",
          "model_module_version": "1.5.0",
          "state": {
            "_dom_classes": [],
            "_model_module": "@jupyter-widgets/controls",
            "_model_module_version": "1.5.0",
            "_model_name": "FloatProgressModel",
            "_view_count": null,
            "_view_module": "@jupyter-widgets/controls",
            "_view_module_version": "1.5.0",
            "_view_name": "ProgressView",
            "bar_style": "success",
            "description": "",
            "description_tooltip": null,
            "layout": "IPY_MODEL_f345efeeceda4dfd912fe908630d4911",
            "max": 2,
            "min": 0,
            "orientation": "horizontal",
            "style": "IPY_MODEL_23c3c5c824684eed910e6b0de302e480",
            "value": 2
          }
        },
        "36dbfcd9850c47ec8d7d19d0ae2089d5": {
          "model_module": "@jupyter-widgets/controls",
          "model_name": "HTMLModel",
          "model_module_version": "1.5.0",
          "state": {
            "_dom_classes": [],
            "_model_module": "@jupyter-widgets/controls",
            "_model_module_version": "1.5.0",
            "_model_name": "HTMLModel",
            "_view_count": null,
            "_view_module": "@jupyter-widgets/controls",
            "_view_module_version": "1.5.0",
            "_view_name": "HTMLView",
            "description": "",
            "description_tooltip": null,
            "layout": "IPY_MODEL_c37f27a798784bf2ac9ef9068af66a85",
            "placeholder": "​",
            "style": "IPY_MODEL_3b42bc9b72bc46d38017eea76e47cf34",
            "value": " 2/2 [00:20&lt;00:00,  8.46s/it]"
          }
        },
        "41529d66d440436cb61b7bc5651fd151": {
          "model_module": "@jupyter-widgets/base",
          "model_name": "LayoutModel",
          "model_module_version": "1.2.0",
          "state": {
            "_model_module": "@jupyter-widgets/base",
            "_model_module_version": "1.2.0",
            "_model_name": "LayoutModel",
            "_view_count": null,
            "_view_module": "@jupyter-widgets/base",
            "_view_module_version": "1.2.0",
            "_view_name": "LayoutView",
            "align_content": null,
            "align_items": null,
            "align_self": null,
            "border": null,
            "bottom": null,
            "display": null,
            "flex": null,
            "flex_flow": null,
            "grid_area": null,
            "grid_auto_columns": null,
            "grid_auto_flow": null,
            "grid_auto_rows": null,
            "grid_column": null,
            "grid_gap": null,
            "grid_row": null,
            "grid_template_areas": null,
            "grid_template_columns": null,
            "grid_template_rows": null,
            "height": null,
            "justify_content": null,
            "justify_items": null,
            "left": null,
            "margin": null,
            "max_height": null,
            "max_width": null,
            "min_height": null,
            "min_width": null,
            "object_fit": null,
            "object_position": null,
            "order": null,
            "overflow": null,
            "overflow_x": null,
            "overflow_y": null,
            "padding": null,
            "right": null,
            "top": null,
            "visibility": null,
            "width": null
          }
        },
        "587f14c451bf46d1a549e4ca03783fae": {
          "model_module": "@jupyter-widgets/base",
          "model_name": "LayoutModel",
          "model_module_version": "1.2.0",
          "state": {
            "_model_module": "@jupyter-widgets/base",
            "_model_module_version": "1.2.0",
            "_model_name": "LayoutModel",
            "_view_count": null,
            "_view_module": "@jupyter-widgets/base",
            "_view_module_version": "1.2.0",
            "_view_name": "LayoutView",
            "align_content": null,
            "align_items": null,
            "align_self": null,
            "border": null,
            "bottom": null,
            "display": null,
            "flex": null,
            "flex_flow": null,
            "grid_area": null,
            "grid_auto_columns": null,
            "grid_auto_flow": null,
            "grid_auto_rows": null,
            "grid_column": null,
            "grid_gap": null,
            "grid_row": null,
            "grid_template_areas": null,
            "grid_template_columns": null,
            "grid_template_rows": null,
            "height": null,
            "justify_content": null,
            "justify_items": null,
            "left": null,
            "margin": null,
            "max_height": null,
            "max_width": null,
            "min_height": null,
            "min_width": null,
            "object_fit": null,
            "object_position": null,
            "order": null,
            "overflow": null,
            "overflow_x": null,
            "overflow_y": null,
            "padding": null,
            "right": null,
            "top": null,
            "visibility": null,
            "width": null
          }
        },
        "0da81bb94daf40bca94528b3528fb33d": {
          "model_module": "@jupyter-widgets/controls",
          "model_name": "DescriptionStyleModel",
          "model_module_version": "1.5.0",
          "state": {
            "_model_module": "@jupyter-widgets/controls",
            "_model_module_version": "1.5.0",
            "_model_name": "DescriptionStyleModel",
            "_view_count": null,
            "_view_module": "@jupyter-widgets/base",
            "_view_module_version": "1.2.0",
            "_view_name": "StyleView",
            "description_width": ""
          }
        },
        "f345efeeceda4dfd912fe908630d4911": {
          "model_module": "@jupyter-widgets/base",
          "model_name": "LayoutModel",
          "model_module_version": "1.2.0",
          "state": {
            "_model_module": "@jupyter-widgets/base",
            "_model_module_version": "1.2.0",
            "_model_name": "LayoutModel",
            "_view_count": null,
            "_view_module": "@jupyter-widgets/base",
            "_view_module_version": "1.2.0",
            "_view_name": "LayoutView",
            "align_content": null,
            "align_items": null,
            "align_self": null,
            "border": null,
            "bottom": null,
            "display": null,
            "flex": null,
            "flex_flow": null,
            "grid_area": null,
            "grid_auto_columns": null,
            "grid_auto_flow": null,
            "grid_auto_rows": null,
            "grid_column": null,
            "grid_gap": null,
            "grid_row": null,
            "grid_template_areas": null,
            "grid_template_columns": null,
            "grid_template_rows": null,
            "height": null,
            "justify_content": null,
            "justify_items": null,
            "left": null,
            "margin": null,
            "max_height": null,
            "max_width": null,
            "min_height": null,
            "min_width": null,
            "object_fit": null,
            "object_position": null,
            "order": null,
            "overflow": null,
            "overflow_x": null,
            "overflow_y": null,
            "padding": null,
            "right": null,
            "top": null,
            "visibility": null,
            "width": null
          }
        },
        "23c3c5c824684eed910e6b0de302e480": {
          "model_module": "@jupyter-widgets/controls",
          "model_name": "ProgressStyleModel",
          "model_module_version": "1.5.0",
          "state": {
            "_model_module": "@jupyter-widgets/controls",
            "_model_module_version": "1.5.0",
            "_model_name": "ProgressStyleModel",
            "_view_count": null,
            "_view_module": "@jupyter-widgets/base",
            "_view_module_version": "1.2.0",
            "_view_name": "StyleView",
            "bar_color": null,
            "description_width": ""
          }
        },
        "c37f27a798784bf2ac9ef9068af66a85": {
          "model_module": "@jupyter-widgets/base",
          "model_name": "LayoutModel",
          "model_module_version": "1.2.0",
          "state": {
            "_model_module": "@jupyter-widgets/base",
            "_model_module_version": "1.2.0",
            "_model_name": "LayoutModel",
            "_view_count": null,
            "_view_module": "@jupyter-widgets/base",
            "_view_module_version": "1.2.0",
            "_view_name": "LayoutView",
            "align_content": null,
            "align_items": null,
            "align_self": null,
            "border": null,
            "bottom": null,
            "display": null,
            "flex": null,
            "flex_flow": null,
            "grid_area": null,
            "grid_auto_columns": null,
            "grid_auto_flow": null,
            "grid_auto_rows": null,
            "grid_column": null,
            "grid_gap": null,
            "grid_row": null,
            "grid_template_areas": null,
            "grid_template_columns": null,
            "grid_template_rows": null,
            "height": null,
            "justify_content": null,
            "justify_items": null,
            "left": null,
            "margin": null,
            "max_height": null,
            "max_width": null,
            "min_height": null,
            "min_width": null,
            "object_fit": null,
            "object_position": null,
            "order": null,
            "overflow": null,
            "overflow_x": null,
            "overflow_y": null,
            "padding": null,
            "right": null,
            "top": null,
            "visibility": null,
            "width": null
          }
        },
        "3b42bc9b72bc46d38017eea76e47cf34": {
          "model_module": "@jupyter-widgets/controls",
          "model_name": "DescriptionStyleModel",
          "model_module_version": "1.5.0",
          "state": {
            "_model_module": "@jupyter-widgets/controls",
            "_model_module_version": "1.5.0",
            "_model_name": "DescriptionStyleModel",
            "_view_count": null,
            "_view_module": "@jupyter-widgets/base",
            "_view_module_version": "1.2.0",
            "_view_name": "StyleView",
            "description_width": ""
          }
        },
        "a9eef6b44fb4403b8fc0ffd5d6ee7df9": {
          "model_module": "@jupyter-widgets/controls",
          "model_name": "HBoxModel",
          "model_module_version": "1.5.0",
          "state": {
            "_dom_classes": [],
            "_model_module": "@jupyter-widgets/controls",
            "_model_module_version": "1.5.0",
            "_model_name": "HBoxModel",
            "_view_count": null,
            "_view_module": "@jupyter-widgets/controls",
            "_view_module_version": "1.5.0",
            "_view_name": "HBoxView",
            "box_style": "",
            "children": [
              "IPY_MODEL_fa2b6b2314764549add0ecdbed56e470",
              "IPY_MODEL_37e16ff3dca94881bc5cefeaf2decf45",
              "IPY_MODEL_3a8d53c6ff68421b9c44b157c669d015"
            ],
            "layout": "IPY_MODEL_bf8a24aa44e948d1aac2e621b78445e7"
          }
        },
        "fa2b6b2314764549add0ecdbed56e470": {
          "model_module": "@jupyter-widgets/controls",
          "model_name": "HTMLModel",
          "model_module_version": "1.5.0",
          "state": {
            "_dom_classes": [],
            "_model_module": "@jupyter-widgets/controls",
            "_model_module_version": "1.5.0",
            "_model_name": "HTMLModel",
            "_view_count": null,
            "_view_module": "@jupyter-widgets/controls",
            "_view_module_version": "1.5.0",
            "_view_name": "HTMLView",
            "description": "",
            "description_tooltip": null,
            "layout": "IPY_MODEL_5a3a0552f8264911a71940a70917a55a",
            "placeholder": "​",
            "style": "IPY_MODEL_3967d8696ffa4bf495d0a7c9685be9f4",
            "value": "Map: 100%"
          }
        },
        "37e16ff3dca94881bc5cefeaf2decf45": {
          "model_module": "@jupyter-widgets/controls",
          "model_name": "FloatProgressModel",
          "model_module_version": "1.5.0",
          "state": {
            "_dom_classes": [],
            "_model_module": "@jupyter-widgets/controls",
            "_model_module_version": "1.5.0",
            "_model_name": "FloatProgressModel",
            "_view_count": null,
            "_view_module": "@jupyter-widgets/controls",
            "_view_module_version": "1.5.0",
            "_view_name": "ProgressView",
            "bar_style": "success",
            "description": "",
            "description_tooltip": null,
            "layout": "IPY_MODEL_ede27312118943838ad0f14edd19d8cc",
            "max": 52002,
            "min": 0,
            "orientation": "horizontal",
            "style": "IPY_MODEL_1fb0e3449f5248bb97ce975840ece923",
            "value": 52002
          }
        },
        "3a8d53c6ff68421b9c44b157c669d015": {
          "model_module": "@jupyter-widgets/controls",
          "model_name": "HTMLModel",
          "model_module_version": "1.5.0",
          "state": {
            "_dom_classes": [],
            "_model_module": "@jupyter-widgets/controls",
            "_model_module_version": "1.5.0",
            "_model_name": "HTMLModel",
            "_view_count": null,
            "_view_module": "@jupyter-widgets/controls",
            "_view_module_version": "1.5.0",
            "_view_name": "HTMLView",
            "description": "",
            "description_tooltip": null,
            "layout": "IPY_MODEL_6916c7460f1c44ac9ad6769d64c7b137",
            "placeholder": "​",
            "style": "IPY_MODEL_b44b9d468e464bfbba882fea85c24faf",
            "value": " 52002/52002 [00:21&lt;00:00, 2863.34 examples/s]"
          }
        },
        "bf8a24aa44e948d1aac2e621b78445e7": {
          "model_module": "@jupyter-widgets/base",
          "model_name": "LayoutModel",
          "model_module_version": "1.2.0",
          "state": {
            "_model_module": "@jupyter-widgets/base",
            "_model_module_version": "1.2.0",
            "_model_name": "LayoutModel",
            "_view_count": null,
            "_view_module": "@jupyter-widgets/base",
            "_view_module_version": "1.2.0",
            "_view_name": "LayoutView",
            "align_content": null,
            "align_items": null,
            "align_self": null,
            "border": null,
            "bottom": null,
            "display": null,
            "flex": null,
            "flex_flow": null,
            "grid_area": null,
            "grid_auto_columns": null,
            "grid_auto_flow": null,
            "grid_auto_rows": null,
            "grid_column": null,
            "grid_gap": null,
            "grid_row": null,
            "grid_template_areas": null,
            "grid_template_columns": null,
            "grid_template_rows": null,
            "height": null,
            "justify_content": null,
            "justify_items": null,
            "left": null,
            "margin": null,
            "max_height": null,
            "max_width": null,
            "min_height": null,
            "min_width": null,
            "object_fit": null,
            "object_position": null,
            "order": null,
            "overflow": null,
            "overflow_x": null,
            "overflow_y": null,
            "padding": null,
            "right": null,
            "top": null,
            "visibility": null,
            "width": null
          }
        },
        "5a3a0552f8264911a71940a70917a55a": {
          "model_module": "@jupyter-widgets/base",
          "model_name": "LayoutModel",
          "model_module_version": "1.2.0",
          "state": {
            "_model_module": "@jupyter-widgets/base",
            "_model_module_version": "1.2.0",
            "_model_name": "LayoutModel",
            "_view_count": null,
            "_view_module": "@jupyter-widgets/base",
            "_view_module_version": "1.2.0",
            "_view_name": "LayoutView",
            "align_content": null,
            "align_items": null,
            "align_self": null,
            "border": null,
            "bottom": null,
            "display": null,
            "flex": null,
            "flex_flow": null,
            "grid_area": null,
            "grid_auto_columns": null,
            "grid_auto_flow": null,
            "grid_auto_rows": null,
            "grid_column": null,
            "grid_gap": null,
            "grid_row": null,
            "grid_template_areas": null,
            "grid_template_columns": null,
            "grid_template_rows": null,
            "height": null,
            "justify_content": null,
            "justify_items": null,
            "left": null,
            "margin": null,
            "max_height": null,
            "max_width": null,
            "min_height": null,
            "min_width": null,
            "object_fit": null,
            "object_position": null,
            "order": null,
            "overflow": null,
            "overflow_x": null,
            "overflow_y": null,
            "padding": null,
            "right": null,
            "top": null,
            "visibility": null,
            "width": null
          }
        },
        "3967d8696ffa4bf495d0a7c9685be9f4": {
          "model_module": "@jupyter-widgets/controls",
          "model_name": "DescriptionStyleModel",
          "model_module_version": "1.5.0",
          "state": {
            "_model_module": "@jupyter-widgets/controls",
            "_model_module_version": "1.5.0",
            "_model_name": "DescriptionStyleModel",
            "_view_count": null,
            "_view_module": "@jupyter-widgets/base",
            "_view_module_version": "1.2.0",
            "_view_name": "StyleView",
            "description_width": ""
          }
        },
        "ede27312118943838ad0f14edd19d8cc": {
          "model_module": "@jupyter-widgets/base",
          "model_name": "LayoutModel",
          "model_module_version": "1.2.0",
          "state": {
            "_model_module": "@jupyter-widgets/base",
            "_model_module_version": "1.2.0",
            "_model_name": "LayoutModel",
            "_view_count": null,
            "_view_module": "@jupyter-widgets/base",
            "_view_module_version": "1.2.0",
            "_view_name": "LayoutView",
            "align_content": null,
            "align_items": null,
            "align_self": null,
            "border": null,
            "bottom": null,
            "display": null,
            "flex": null,
            "flex_flow": null,
            "grid_area": null,
            "grid_auto_columns": null,
            "grid_auto_flow": null,
            "grid_auto_rows": null,
            "grid_column": null,
            "grid_gap": null,
            "grid_row": null,
            "grid_template_areas": null,
            "grid_template_columns": null,
            "grid_template_rows": null,
            "height": null,
            "justify_content": null,
            "justify_items": null,
            "left": null,
            "margin": null,
            "max_height": null,
            "max_width": null,
            "min_height": null,
            "min_width": null,
            "object_fit": null,
            "object_position": null,
            "order": null,
            "overflow": null,
            "overflow_x": null,
            "overflow_y": null,
            "padding": null,
            "right": null,
            "top": null,
            "visibility": null,
            "width": null
          }
        },
        "1fb0e3449f5248bb97ce975840ece923": {
          "model_module": "@jupyter-widgets/controls",
          "model_name": "ProgressStyleModel",
          "model_module_version": "1.5.0",
          "state": {
            "_model_module": "@jupyter-widgets/controls",
            "_model_module_version": "1.5.0",
            "_model_name": "ProgressStyleModel",
            "_view_count": null,
            "_view_module": "@jupyter-widgets/base",
            "_view_module_version": "1.2.0",
            "_view_name": "StyleView",
            "bar_color": null,
            "description_width": ""
          }
        },
        "6916c7460f1c44ac9ad6769d64c7b137": {
          "model_module": "@jupyter-widgets/base",
          "model_name": "LayoutModel",
          "model_module_version": "1.2.0",
          "state": {
            "_model_module": "@jupyter-widgets/base",
            "_model_module_version": "1.2.0",
            "_model_name": "LayoutModel",
            "_view_count": null,
            "_view_module": "@jupyter-widgets/base",
            "_view_module_version": "1.2.0",
            "_view_name": "LayoutView",
            "align_content": null,
            "align_items": null,
            "align_self": null,
            "border": null,
            "bottom": null,
            "display": null,
            "flex": null,
            "flex_flow": null,
            "grid_area": null,
            "grid_auto_columns": null,
            "grid_auto_flow": null,
            "grid_auto_rows": null,
            "grid_column": null,
            "grid_gap": null,
            "grid_row": null,
            "grid_template_areas": null,
            "grid_template_columns": null,
            "grid_template_rows": null,
            "height": null,
            "justify_content": null,
            "justify_items": null,
            "left": null,
            "margin": null,
            "max_height": null,
            "max_width": null,
            "min_height": null,
            "min_width": null,
            "object_fit": null,
            "object_position": null,
            "order": null,
            "overflow": null,
            "overflow_x": null,
            "overflow_y": null,
            "padding": null,
            "right": null,
            "top": null,
            "visibility": null,
            "width": null
          }
        },
        "b44b9d468e464bfbba882fea85c24faf": {
          "model_module": "@jupyter-widgets/controls",
          "model_name": "DescriptionStyleModel",
          "model_module_version": "1.5.0",
          "state": {
            "_model_module": "@jupyter-widgets/controls",
            "_model_module_version": "1.5.0",
            "_model_name": "DescriptionStyleModel",
            "_view_count": null,
            "_view_module": "@jupyter-widgets/base",
            "_view_module_version": "1.2.0",
            "_view_name": "StyleView",
            "description_width": ""
          }
        }
      }
    }
  },
  "cells": [
    {
      "cell_type": "markdown",
      "metadata": {
        "id": "view-in-github",
        "colab_type": "text"
      },
      "source": [
        "<a href=\"https://colab.research.google.com/github/meyerjoe-R/NLP/blob/main/04_Machine_Learning.ipynb\" target=\"_parent\"><img src=\"https://colab.research.google.com/assets/colab-badge.svg\" alt=\"Open In Colab\"/></a>"
      ]
    },
    {
      "cell_type": "markdown",
      "source": [
        "# Classification\n",
        "## Predict a categorical outcome\n",
        "## For example:\n",
        "1. performance (low,high)\n",
        "2. turnover (regrettable, non-regrettable, other)\n",
        "3. potential (low, medium, high)"
      ],
      "metadata": {
        "id": "u9BJa699IKxt"
      }
    },
    {
      "cell_type": "code",
      "execution_count": 3,
      "metadata": {
        "id": "FyuDbyogH2j7"
      },
      "outputs": [],
      "source": [
        "from sklearn.datasets import load_iris\n",
        "from sklearn.linear_model import LogisticRegression\n",
        "from sklearn.model_selection import train_test_split\n",
        "from sklearn.metrics import confusion_matrix, accuracy_score, classification_report"
      ]
    },
    {
      "cell_type": "code",
      "source": [
        "# load the data\n",
        "iris = load_iris()\n",
        "X = iris.data  # Features: sepal length, sepal width, petal length, petal width\n",
        "y = iris.target"
      ],
      "metadata": {
        "id": "xmGoexT0IPRH"
      },
      "execution_count": 4,
      "outputs": []
    },
    {
      "cell_type": "markdown",
      "source": [
        "## In order to examine model performance, we create a train test split"
      ],
      "metadata": {
        "id": "GznZvIXTrvDq"
      }
    },
    {
      "cell_type": "markdown",
      "source": [
        "![train_test.png](data:image/png;base64,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)"
      ],
      "metadata": {
        "id": "P-_tzGBWg0kg"
      }
    },
    {
      "cell_type": "code",
      "source": [
        "# train test split\n",
        "X_train, X_test, y_train, y_test = train_test_split(X, y, test_size=0.2, random_state=42)"
      ],
      "metadata": {
        "id": "SDiLJE-6IAe6"
      },
      "execution_count": 5,
      "outputs": []
    },
    {
      "cell_type": "code",
      "source": [
        "# initialize logistic regression model\n",
        "logreg = LogisticRegression(max_iter=200)\n"
      ],
      "metadata": {
        "id": "5wyoicUXIYH1"
      },
      "execution_count": 6,
      "outputs": []
    },
    {
      "cell_type": "code",
      "source": [
        "# train the model\n",
        "logreg.fit(X_train, y_train)\n"
      ],
      "metadata": {
        "colab": {
          "base_uri": "https://localhost:8080/",
          "height": 74
        },
        "id": "FuRjXBm_IbiI",
        "outputId": "f1165651-35c3-4679-c54f-53baf8f5f822"
      },
      "execution_count": 7,
      "outputs": [
        {
          "output_type": "execute_result",
          "data": {
            "text/plain": [
              "LogisticRegression(max_iter=200)"
            ],
            "text/html": [
              "<style>#sk-container-id-1 {color: black;background-color: white;}#sk-container-id-1 pre{padding: 0;}#sk-container-id-1 div.sk-toggleable {background-color: white;}#sk-container-id-1 label.sk-toggleable__label {cursor: pointer;display: block;width: 100%;margin-bottom: 0;padding: 0.3em;box-sizing: border-box;text-align: center;}#sk-container-id-1 label.sk-toggleable__label-arrow:before {content: \"▸\";float: left;margin-right: 0.25em;color: #696969;}#sk-container-id-1 label.sk-toggleable__label-arrow:hover:before {color: black;}#sk-container-id-1 div.sk-estimator:hover label.sk-toggleable__label-arrow:before {color: black;}#sk-container-id-1 div.sk-toggleable__content {max-height: 0;max-width: 0;overflow: hidden;text-align: left;background-color: #f0f8ff;}#sk-container-id-1 div.sk-toggleable__content pre {margin: 0.2em;color: black;border-radius: 0.25em;background-color: #f0f8ff;}#sk-container-id-1 input.sk-toggleable__control:checked~div.sk-toggleable__content {max-height: 200px;max-width: 100%;overflow: auto;}#sk-container-id-1 input.sk-toggleable__control:checked~label.sk-toggleable__label-arrow:before {content: \"▾\";}#sk-container-id-1 div.sk-estimator input.sk-toggleable__control:checked~label.sk-toggleable__label {background-color: #d4ebff;}#sk-container-id-1 div.sk-label input.sk-toggleable__control:checked~label.sk-toggleable__label {background-color: #d4ebff;}#sk-container-id-1 input.sk-hidden--visually {border: 0;clip: rect(1px 1px 1px 1px);clip: rect(1px, 1px, 1px, 1px);height: 1px;margin: -1px;overflow: hidden;padding: 0;position: absolute;width: 1px;}#sk-container-id-1 div.sk-estimator {font-family: monospace;background-color: #f0f8ff;border: 1px dotted black;border-radius: 0.25em;box-sizing: border-box;margin-bottom: 0.5em;}#sk-container-id-1 div.sk-estimator:hover {background-color: #d4ebff;}#sk-container-id-1 div.sk-parallel-item::after {content: \"\";width: 100%;border-bottom: 1px solid gray;flex-grow: 1;}#sk-container-id-1 div.sk-label:hover label.sk-toggleable__label {background-color: #d4ebff;}#sk-container-id-1 div.sk-serial::before {content: \"\";position: absolute;border-left: 1px solid gray;box-sizing: border-box;top: 0;bottom: 0;left: 50%;z-index: 0;}#sk-container-id-1 div.sk-serial {display: flex;flex-direction: column;align-items: center;background-color: white;padding-right: 0.2em;padding-left: 0.2em;position: relative;}#sk-container-id-1 div.sk-item {position: relative;z-index: 1;}#sk-container-id-1 div.sk-parallel {display: flex;align-items: stretch;justify-content: center;background-color: white;position: relative;}#sk-container-id-1 div.sk-item::before, #sk-container-id-1 div.sk-parallel-item::before {content: \"\";position: absolute;border-left: 1px solid gray;box-sizing: border-box;top: 0;bottom: 0;left: 50%;z-index: -1;}#sk-container-id-1 div.sk-parallel-item {display: flex;flex-direction: column;z-index: 1;position: relative;background-color: white;}#sk-container-id-1 div.sk-parallel-item:first-child::after {align-self: flex-end;width: 50%;}#sk-container-id-1 div.sk-parallel-item:last-child::after {align-self: flex-start;width: 50%;}#sk-container-id-1 div.sk-parallel-item:only-child::after {width: 0;}#sk-container-id-1 div.sk-dashed-wrapped {border: 1px dashed gray;margin: 0 0.4em 0.5em 0.4em;box-sizing: border-box;padding-bottom: 0.4em;background-color: white;}#sk-container-id-1 div.sk-label label {font-family: monospace;font-weight: bold;display: inline-block;line-height: 1.2em;}#sk-container-id-1 div.sk-label-container {text-align: center;}#sk-container-id-1 div.sk-container {/* jupyter's `normalize.less` sets `[hidden] { display: none; }` but bootstrap.min.css set `[hidden] { display: none !important; }` so we also need the `!important` here to be able to override the default hidden behavior on the sphinx rendered scikit-learn.org. See: https://github.com/scikit-learn/scikit-learn/issues/21755 */display: inline-block !important;position: relative;}#sk-container-id-1 div.sk-text-repr-fallback {display: none;}</style><div id=\"sk-container-id-1\" class=\"sk-top-container\"><div class=\"sk-text-repr-fallback\"><pre>LogisticRegression(max_iter=200)</pre><b>In a Jupyter environment, please rerun this cell to show the HTML representation or trust the notebook. <br />On GitHub, the HTML representation is unable to render, please try loading this page with nbviewer.org.</b></div><div class=\"sk-container\" hidden><div class=\"sk-item\"><div class=\"sk-estimator sk-toggleable\"><input class=\"sk-toggleable__control sk-hidden--visually\" id=\"sk-estimator-id-1\" type=\"checkbox\" checked><label for=\"sk-estimator-id-1\" class=\"sk-toggleable__label sk-toggleable__label-arrow\">LogisticRegression</label><div class=\"sk-toggleable__content\"><pre>LogisticRegression(max_iter=200)</pre></div></div></div></div></div>"
            ]
          },
          "metadata": {},
          "execution_count": 7
        }
      ]
    },
    {
      "cell_type": "code",
      "source": [
        "y_pred = logreg.predict(X_test)\n"
      ],
      "metadata": {
        "id": "BWSyB0pYId8M"
      },
      "execution_count": 8,
      "outputs": []
    },
    {
      "cell_type": "code",
      "source": [
        "print('Accuracy of logistic regression classifier on test set:', accuracy_score(y_test, y_pred))\n",
        "print('\\nClassification Report:\\n', classification_report(y_test, y_pred))"
      ],
      "metadata": {
        "colab": {
          "base_uri": "https://localhost:8080/"
        },
        "id": "uxIWeMdqIgh_",
        "outputId": "d7372afe-1401-458d-8d97-bd6ab0f70b77"
      },
      "execution_count": 9,
      "outputs": [
        {
          "output_type": "stream",
          "name": "stdout",
          "text": [
            "Accuracy of logistic regression classifier on test set: 1.0\n",
            "\n",
            "Classification Report:\n",
            "               precision    recall  f1-score   support\n",
            "\n",
            "           0       1.00      1.00      1.00        10\n",
            "           1       1.00      1.00      1.00         9\n",
            "           2       1.00      1.00      1.00        11\n",
            "\n",
            "    accuracy                           1.00        30\n",
            "   macro avg       1.00      1.00      1.00        30\n",
            "weighted avg       1.00      1.00      1.00        30\n",
            "\n"
          ]
        }
      ]
    },
    {
      "cell_type": "markdown",
      "source": [
        "## Decision Tree on Iris Data"
      ],
      "metadata": {
        "id": "9blxzK4yI26E"
      }
    },
    {
      "cell_type": "code",
      "source": [
        "from sklearn.tree import DecisionTreeClassifier\n"
      ],
      "metadata": {
        "id": "H33s2U6qI6Qe"
      },
      "execution_count": 10,
      "outputs": []
    },
    {
      "cell_type": "code",
      "source": [
        "decision_tree = DecisionTreeClassifier(random_state=42)\n",
        "\n",
        "# Fit the model to the training data\n",
        "decision_tree.fit(X_train, y_train)\n",
        "\n",
        "# Predict the labels of the test set\n",
        "y_pred = decision_tree.predict(X_test)\n",
        "\n",
        "# Print the accuracy\n",
        "print(\"Accuracy:\", accuracy_score(y_test, y_pred))\n",
        "\n",
        "# Generating and printing the classification report\n",
        "print(\"\\nClassification Report:\\n\", classification_report(y_test, y_pred, target_names=iris.target_names))"
      ],
      "metadata": {
        "colab": {
          "base_uri": "https://localhost:8080/"
        },
        "id": "qPIOGcc-I4VH",
        "outputId": "e4c9dc95-6152-48da-f255-a49ba629f048"
      },
      "execution_count": 11,
      "outputs": [
        {
          "output_type": "stream",
          "name": "stdout",
          "text": [
            "Accuracy: 1.0\n",
            "\n",
            "Classification Report:\n",
            "               precision    recall  f1-score   support\n",
            "\n",
            "      setosa       1.00      1.00      1.00        10\n",
            "  versicolor       1.00      1.00      1.00         9\n",
            "   virginica       1.00      1.00      1.00        11\n",
            "\n",
            "    accuracy                           1.00        30\n",
            "   macro avg       1.00      1.00      1.00        30\n",
            "weighted avg       1.00      1.00      1.00        30\n",
            "\n"
          ]
        }
      ]
    },
    {
      "cell_type": "markdown",
      "source": [
        "## Optimizing hyperparameters using K-Folds Cross Validation\n",
        "### Hyperparameters are model settings that influence performance\n",
        "1. Split all data into training data and test data\n",
        "2. Split training into k-datasets\n",
        "3. Each fold gets a chance to be training data and test data\n",
        "4. Vary hyperparameters, find the optimal performance\n"
      ],
      "metadata": {
        "id": "rLjlXeFQhGdX"
      }
    },
    {
      "cell_type": "markdown",
      "source": [
        "\n",
        "![grid_search_cross_validation.png](data:image/png;base64,iVBORw0KGgoAAAANSUhEUgAAA3UAAAJlCAYAAAB9r9sPAAAABHNCSVQICAgIfAhkiAAAjyVJREFUeNrsnQd4FNXehxcSem+h9yZdSgghdJAuvUoTpAZC79IRlCIo3YJcMCSAvaGg2ECkeNWr9171eu1cG+pnRxQ93/zPzsbJZrLZrCmzu+/7PL8HmDMzuzuH3Z13T3O5IMtoN/3Qa60mJSpCCCGEEEIIyYlET0q8gollIR0TDn/y+tsfq2+++YYQQgghhBBCsj295t//HSaG1BFCCCGEEEKQOkDqCCGEEEIIIUgdUkcIIYQQQgghSB1SRwghhBBCCEHqAKkjhBBCCCGEIHVIHSGEEEIIIYQgdUgdIYQQQgghhCB1SB0hhBBCCCEEqQOkjhBCCCGEEILUIXWEEEIIIYQQgtQhdYQQQgghhBCkDpA6QgghhBBCCFKH1CF1hBBCCCGEEKQOqSOEEOLELF26VBkf92rRokU+txFCCCFIHVJHCCEkh/L111+r2rVrazErXbq0+uyzz7JN6s6ePav39U6BAgVUhQoVVJcuXdSqVavU22+/naWvce/everuu++mvgkhBKkDpI4QQkIvDzzwgBarmjVr6j937tyZ7VKXL18+de2116akW7duqlGjRioiIiJF8lauXJllr7FWrVqqd+/e1DchhCB1gNQRQkjopWfPnlqkHnvsMZUnTx7VokWLbJe64sWL25a/9957asWKFapgwYJ6v/j4+L/8+t555x19LqSOEEKQOkDqCCEk5PKPf/xD5c2bV7Vq1Ur/u2PHjlqAnn322VyROk+OHj2qW+s8smkt+9///qcWL16sW/YKFSqkW/0qVaqkRowYoV599dVU+w4cODBNV8+KFSsGdC5CCCFIHVJHCCHEcZk5c6YWndtuu03/W8adyb9HjRqVq1InmTFjht5XWhI927788kvVqVMnvb1u3bpq2rRpej+RUtlWpkwZ9c9//jNV19IbbrhBl4m4bdiwQe3YsSOgcxFCCEHqkDpCCCGOikyIIhOjFC5cWH388ceptkn3x/fffz9Xpe7UqVN6X3kuImCy7dChQykS5j2hi4zNk7KEhIRU2++77z7b7peBnIsQQghSh9QRQghxTLZv327bKictVrJ93bp1uSp1Fy9e1GP8ZP+33npLb3vjjTfUwYMH1bFjx9Ls72ll7Nq1q19SF8i5CCGEIHVIHSGEEMfk6quv1uLiLTWnT5/W22WZA1nuILekTiLj3GT/8+fP25ZfuHBBT4QiSyDs379f7xsXF+eX1AVyLkIIIUgdUkcIIcQROX78uJaW+vXr25ZHR0frchmTlltS9+mnn6ZMbiKzYnq2HzlyRLVv3z5F+LyTGanL7LkIIYQgdUgdIYQQR2To0KG2EuMdbxHKSal75JFH9L5RUVEpLYaeLqP58+dXEyZMUHv27NFj40TcZNHyzEhdIOcihBCC1CF1hBBCcj3SxVBERpYMGDlyZLqRCVRkMfA333wzV6RuyJAhet8xY8akbKtatare9re//S3N/gcOHMiU1AVyLkIIIUgdUkcIISTXc+ONN2phkdY6X/uNGzdO7zdv3rwclzoZ0yaTpERGRqaMp5MZMD0tiJ7ZMK0R+fNX6gI9FyGEEKQOqSOEEJKrkRklK1eurIVFFvj2te8LL7yg9ytXrpz64osvckTqZGkFWQxcZM5uBk55LrL95MmTqbbLbJWyaLiUNWzYMFXZo48+qrfHxMT85XMRQghB6pA6QgghuRrPrI4NGjTwa/8WLVro/UV0slLq8uXLp9eC86RPnz56chbpEirl8ufGjRvTHD9nzhxdLmIqj7dy5Uq97ICsrff888/rbqXSwieLqnukVWazFEmU7dI6Ka1wH3zwQUDnIoQQgtQhdYQQQnI1MtOjiMyGDRv82n/Hjh16/9jY2CyVOu+IPJUsWVJL5Pz589W///1v2+M///xztWTJEr3cgohf+fLl9di7V155RZevX79elSpVShUrVkzdeuutKcdt2rRJT7giolajRg29sHqg5yKEEILUIXWEEEIIIYQQgtQhdYQQQgghhBCC1CF1hBBCCCGEEKQOkDpCCCGEEEIIUofUEUIIIYQQQghSh9QRQgghhBBCkDpA6gghhBBCCCFIHVJHCCGEEEIIIUgdUkcIIYQQQgghSB1SRwghhBBCCEHqAKkjhBBCCCGEIHVIHSGEEEIIIYQgdUgdIYQQQgghBKkDpI4QQgghhBCC1IGr3fRDr7WalKgIIYQQQgghJCcSPSnxCiYGAAAAAAAAAAAAAAAAAAAAAAAAAAAAAAAAAAAAAAAAAAAAAAAAAAAAAAAAAAAAAAAAAAAAAAAAAAAAAAAAAAAAAAAAAAAAAAAAAAAAAAAAAAAAAAAAAAAAAAAAAAAAAAAAAAAAAAAAAAAAAAAAAAAAAAAAAAAAAAAAAAAAAAAAAAAAAAAAAAAAAAAAAAAAAAAAAAAAAAAAAAAAAAAAAAAAAAAAAAAAAAAAAAAAAAAAAAAAAH4QOyPptVaTEhUhhBBCSHYlelLilZaTD1TzdU8SE3+YexJCwugzARPLQtrOTPpkw6cvqTvUK4QQQggh2ZKOiw59FzMlsaGve5I20498svD4t2rtOUUICfG0m/3Qd5gYUkcIIYQQpI4QgtQBUkcIIYQQpI4QgtQhdYQQQgghSB0hBKlD6gghhBCC1CF1hCB1gNQRQgghBKkjhCB1SB0hhBBCCFJHCEHqkDpCCCGEEKSOEILUIXWEEEIIQeoIIUgdIHWEEEIIQeoIIUgdUkcIIYQQgtQRQpA6pI4QQgghSB1SRwhSB0gdIYQQQpA6QghSh9QhdYQQQghB6gghSB1SRwjJjfRdOVkZb2XVf+00R5wnJ5M3Iq9+zvw/IASpI+GTvHkj9Gc/1wKpA6SOkCwRoMxkwcm7s+W5DNs6V5WpXlGN2L7QEecJVqmbdGi9mpi8nv/fhCB1QZ3Ok1Zm+vtp4p0ns/15DVt3SA27KdlxUpeVz4sgdUgdIUGWGw7epJr0aZcqdTu00F8ykQXypymTrPrXEa6dg6Uuqk5V1ax/R64rIUhdUGfo2oOqflyfVKnRvIP7+yl/gTRlkoTD/8r251W6ah3VoGN/x0ldVj4vgtQhdYSEQFa+eVh/yRQvX5rrEWRSt/mL4/o8SB0hSF0oZkbym/ozrmjp8rny+IuPfaEf32lSl9XPiyB1SB0hYSJ1/dZM1fuM3btCTUhcq7s7RubPp275+ImUfbb/dEpdu3qKqtK0rspfuKCKyBepSlWJUm3G9lHr3nvEr7FwA9bFpzzOuvcfVa2Gd9fPS85VrnYVve/uK+ey5TySTZ8dU3ET+qniFcrolsuKDWqqEdsWqD1/nNevWc6585fTfl3XjZ8+pWLH9VXFokrrc0XVreZ+3N/Opit1mbmG8pq8uyKVrBwVcH0QQpC6YJW6oWuTVI0WHVXBoiV0q17JitVV9KCpasHjn9juP3rLY6pOmx6qcMmyxudxpCpSqpyq1ixO9V96p1pz9g+9T5Nrhqf5jC1ernKGz3nh0U9V8z7jjHNG6edSpmpd1XXqWrX65d/SlboVL/6kukxerSrUaaryFSysIiLzqeJRVdTVvcequQ+9l2rfjJ5XZs5FkDqkjpAwk7pBtyTofbrOvk4LQvOBnVW7iQPU5i+f1uUiKg2uidH7VLiqhuo25zrVff4YVatNE/cXctmS6pZPjmYoY4M3ztTbei2doMWqdlwz1XXWSBU9soeWErsJUbLqPLd/94IWLymr2ry+6rN8ouqcMFwVKV1cdZs7yvjyL6bLRPAyuqa3f/+ilkfZv3qrhqrn4utVl5kj9LWJGd1bC7G31GX2Gs46tkN1ih+qy0TcZEzhuH0rA64PQghSF4xSFzN0ut6nULFSqs2wBNV54gpVr20v97bipVXCoX+m2n/Qyr/psoLFSqoW/SaoTjcs18eVrFhDb48ZNkPvN277MdV6iPsHQhGkvvO3q0Er9vl8vsue/16VrlJbH1O5QSvVYdxiFTt8pipX4yrVrNdo4/snfxqpE9mrHXON3i77tb1ujmo3er6q2riN3ibiaZVTX88rs+ciSB1SR0iYSd3QLXPdX4LFi6jx+1enKZ/x+G0pArHjUuqWrOaDuuiy7gvGZihjMumJe/xEPjVk8+xU+09MWuf+ojJkKTvOI8fL9nqdWqZqxbv5o8dViYplVZ68/neZHLDefZPRoFtrtef3P88lrXy12zZN+XX1r17DmU9us+1+Gci5CCFIXbBJ3eitj+vystXqqSXHL6Yq67tgh/tHOkNorNsr1m+ut0878Eqq7ctf+FFF1Wyo5XDpM1/rbWNvfzJT3RyviV+v96/duptac+b3lO0rT/2iqjVtm/LZb/caRMJWnrqUqqxh50G6rN2YBam2p/e8AjkXQeqQOkLCSOo8kuQtQlbxiX9ki1p0+p40ZTIzoxzbqGdbv2VMuj16t4jt+vVMSrdFq3Rl1XmqtbhKb0s4ui3Naxi5c5GtiKWXGtEN9b7TH9uapizhidttzxXINUxP6gI5FyEEqQs2qZPJUqR8+PrDacqkG6V0fZTyWfe9nbK9VKWaabZ5suqly37JU3qp3DBa7y/dO73Lxmx9wlbq5j/6kRq1+RE1ee/ptDNc3pSs968b29Ov5xXIuQhSh9QREoZS12ZMb7/Oue3Hk2rT58f1GLUp9290t4B1bOG31MlYNLvzSkuhlMv5s/o8+QoV0Ns8XUqtWf/hY5mSOs+5NlxI28Vxy1cn/DqXP9cwPakL5FyEEKQu2KROWtX00jtPXLAtl3FkUj541f6UbbEjZultJcpXVX3mb1PzHvkw3cfPrNTlK1Ao3eez5OmvbKXOO9JiuOipz9WiJz9TI265X+8v4wUDeV7+nIsgdUgdIWEodTK2LL19pIWrfudWesyd3XpCmZG6HovG2T5GoRJF3TL2w4tZeh6ZVMTzPO3GzEkXyjx58vglddZzeXd91Ocyzp/euTJ7DX1JXWbPRQhB6oJJ6mT8mL/r2Um3yJTjzlzRYieTmHjKpfVOJlaZ+rdzAUudTFDiOZ9310dPy6Hnsz9NK95tR1XNlp31xCZ2zz8zUpfZcxGkDqkjJAylLj1JGnfPipQxbB2nDVET7l2jx3WJdAzaMNPxUictWfJv+cK1lToRMT/H1GUkddLl066lLpBrmJ7UBXIuQghSF1RSZ8iZ57NUJgPpOP7GdDN+5zNpW86OX9QTjDTtMVLPfuk5l0xukh1SZ32+1u0Dl9+jt8kkKq0HT1NDVt+rx8bJY3dP2JApqQvkXASpQ+oIQepS4pnuf8p9G9KUTX1wk+OlTqTNMyvm1m+eTbO/LN2Qme6Xntkt7bpfyja7cwVyDdOTukDORQhB6oKt+6XM5ijlsx/4z196HBGuUbc+qmfLdE+i8veAul96Zre0634p2+ykTpZfkG0jbr4vzTEjNz6YKakL5FwEqUPqCEHqUqbP93xRyd+9y2XpA6dLnUQmVZFt856/M83+o3YvyZTUyRID6U2U4pmoxHquQK+hndQFei5CCFIXdBOltOurywfceJdtuWcWS2tkDJ1MKGK3vyw/oL9Plt4ZkNTJEgPpTZTimajEKnXWLqTyd+9jWvaf6LfUBXougtQhdYQgdSmRY6V8+T+S0wiMLHit1+xpUsfRUifjBWWbTPnv3bImLV+ZWdKg940T9L4yps06w6ashVepcW3bMXWBXMN5z93hnj47rtlfPhchBKkLNqmTmR49Y+K8JzyRfxcrW1GvG7fi5M96m6xZp9f2bNRad5f0bq2r2bKTLpdxabJtwu7n9L9lYXJ/nq909ZT9ZUybnC9l/brnvlPlaze2HVMnr03/CJj0jzQSKIuGS1n5Ok1SlaX3vAI5F0HqkDpCkLqU9Foy3v3FWrW8unbVZL1YuUyZX6RMCbXs1YO6O6J8mfVYOFYtOHm3I6VO5E2er57yuUMLLWYdpg7W22TducgC+f2WulsvPqNKVnKP0RCJk0XC24zto0pWjlJxE/qpwqWKpzlXINdQZrPMGxmht8eM6qVb4bb+33MBnYsQgtQF4+LjrQa6vwMKlyijFyLvMnm1at73elWgcDH9Oefditey3w3u77xylXXrVcfxS/XEKSI7sr361e1ThExmjcwbEanP06znKL3/jSf+L93nIuP0ipWr5JYnQ+JkkXCZgVMeSxY698zWaT2mw/VLUmbj7DJpleo+4xa97IC8nvh7X9VdOuXx249ZqCbeedLn8wrkXASpQ+oIQepSsvPyy6rfmqkqqm41la9gfr1Yd+vreqq17z7kPv62eapI6eJ6KQHpyuhEqZOs+vd9qmnf9rq8QJFCqnrLBmpC4lr3OLlMSJ1k3fuPqlbDu2uREomKqlNVC5Z0iSxTw/2lL9ftr1xDzxp6xSuU0Y9RtlZlPSYw0HMRQpC6YJM6ydC1B3UrW8FiJVXevBGqSKkodVWHfmr8rhO2s1CK6Ek3RDmvyFH+wkVVpataqmum35zSqufJtQt3qqJlKmghKlW5llp64hufz2Xuw++rJtcM1yIlx5SuWkcLlnSJLFmxhn491vXw5O9dp6zRa+pF5i+oWxeb9rhOzXngXV3ee+5teqxfgSLFVb/Fu30+r0DPRZA6pI4QEhbxjFMT0eN6EILUIXWEIHWA1BFCHBhZdFwmHll6/kCaskUv72McGiFIHVJHCEHqkDpCiJMj0//rMXCNaul16zzbd/16RjXqEavLZJwd14oQpA6pIwSpA6SOEOLQLpYNurXW8la2ZiXVbc51OiJ5etB7vWrqtm+f51oRgtQhdYQgdYDUEUKcmh0/v6QGb5qlql5dT0+WIpOjiMx1nz9Gbfn6Wa4RIUgdUkcIUofUIXWEEEIIQeoIIUgdIHWEEEIIQeoIIUgdUkcIIYQQgtQRQpA6pI4QQgghSB1SRwhSB0gdIYQQQpA6QghSh9QRQgghhCB1hBCkDqkjhBBCCEHqCCFIHVJHCCGEEKSOEILUAVJHCCGEEKSOEILUhSCxM5JeazUpURFCCCGEZFeiJyVeaTn5QDVf9yQx8Ye5JyEkjD4TMDEAAAAAAAAAAAAAAAAAAAAAAAAAAAAAAAAAAAAAAAAAAAAAAAAAAAAAAAAAAAAAAAAAAAAAAAAAAAAAAAAAAAAAAAAAAAAAAAAAAAAAAAAAAAAAAAAAAAAAAAAAAAAAAAAAAAAAAAAAAAAAAAAAAAAAAAAAAAAAAAAAAAAAAAAAAAAAAAAAAAAAAAAAAAAAAAAAAAAAAAAAAAAAAAAAAAAAAAAAAAAAAAAAAAAAAAAAAAAAAAAAAAAAAAAAAAAAAAAAAAAAAAAAAAAAAAAAAAAAAAAAAAAAAAAAAAAAAAAAAAAAAAAAAAAAAAAAAAAAAAAAAAAAAAAAAAAAAAAAAAAAAAAAAAAAAAAAAAAAAAAAAAAAAAAAAAAAAAAAAAAAAAAAAAAAAAAAAAAAAAAAAAAAAAAAAAAAAAAAAAAAAAAAAAAAAAAAAAAAAAAAAAAAAAAAAAAAAAAAAAAAAAAAAAAAAAAAAAAAAAAAAAAAAAAAAAAAAAAAAAAAAAAAAAAAAAAAAAAAAAAAAAAAAAAAAAAAAAAAAAAAAAAAAAAAAAAAAAAAAAAAAAAAAAAAAAAAAAAAAAAAAAAAAAAAAAAAAAAAAAAAAAAAAAAAAAAAAAAAAAAAAAAAAAAAAAAAAAAAAAAAAAAAAAAAAAAAAAAAAAAAAAAAAAAAAAAAAAAAAAAAAAAAAAAAAAAAAAAAAAAAAAAAAAAAAAAAAAAAAAAAAAAAAAAAAIAsok7CtgJNph0sRZyR2DlHCvlTb42GHsnP9Qq+ems5+Y58XC/nxKiPwv7UW6dVz0VyvZyTpmMOFPGn3oYOPRLB9XJOGsUfKcpdFwBANtFuRvKbsVOTLreLT75Ecjdx8cm/xE5L/tKfeuuQcOglY1/qzSFpPeXgT/7UW/uE5Cdjpx78lWvmjERPPnjZHyFvPyP5UOy0JOrNOe+331pOTiqb4fdbfNKeNlOpN8fU2+SDV9pMTa7BnRcAQDbQMeHwJ6+//bH65ptvSC7nk0+/VMYN/yV/6q3LrCNvvfT6+1w3B+Trr79RrSYl/uFPvXWdfeTs02f/w3VzSOQHrZiExOIZ1Vu3Ofcde+SFf3PNHJLOsw7/GDMxsUpG9dZ55uHDycff4Jo5JL3m3/9dzJTEhtx5AQAgdUgdUofUEaQOqUPqkDoAAEDqkDqC1BGkDqkjSB0AAFJHkDqC1CF1BKkjSB0AAFJHkDqkjiB1BKlD6gAAAKlD6ghSR5A6pA6pC3ap62/kbSPPGVltJIY7NQAApA6pI0gdQeqQOhI8UjfMiPLKK0YGcccGAIDUIXUEqSNIHVJHnC91A22kzpOjRqpy5wYAgNQhdQSpI0gdUkecPaYun5GmRhYb+cBL7L6UquXuDQAAqUPqCFJHkDqkjgTHRCkRRuKN/J9F7H51ubtpAgAAUofUEaQOqUPqkDoSJLNfVjNy3iJ2V4yM4C4OACAEpG7p0qX6w33RokV+HxMREaGPQeqoN6QuvOstnKQu1OouXKQu1OotC5Y0KGjkcYvY/WKkPXdyAADZIHVnz55Nb4BzmtSpUydovvDOnz+vWrdurY8dOnRoyEldKNbbwYMHVVxcnCpevLjKly+fqlChgho4cKA6ceJEyEhdqNXb//73P7VhwwbVsmVLVaZMGV1vFStWVP3791dPPfVUSEldqH5W/vm++Fp16NBBn+Paa68NGakLpXo7c+ZMhq8hK+sui9apy+8ldheNVOFuDgCQumySusjISNW9e3efGT9+vONvVL766it10003qYIFC+obzFCXulCpt7Fjx+r98+fPrzp37qwGDx6s6tevr7fJuQ4dOhRSUhcK9fbxxx+r6Ohovb8IXe/evdWgQYNUgwYN9LY8efKou+66K+SkLlTec95Zs2ZNtoiBU6QuFOrtySef1PtWqlRJ15Fd1q5d6zSpEwobOWsRuxdd7rF3AABIXVZ/4UnrSCh0TenTp4/ef8SIEWrr1q0hL3WhUG979+7V+0oLz9///vdULQfz58/XZTVr1gwpqQuFeps2bZreV26GP/3001Rlq1at0mXS2ir1GEpSFyqflda8+OKL+geVFi1ahKzUhUK9JSUl6X1HjRoVLN0vrVR3pZ48ZS53dACA1DlE6qRVbMuWLbqbo6fLnNyYSyvLCy+84PcX3ltvvaVGjhypypUrpwoUKKBq166t9/3yyy8zfaPSvn17deDAAf33u+++G6kLgnqTx5V9N2/enKbss88+07+wS/k777wT1lLntHpbvHix6tevn35N3mWff/55Sr19+OGHYS91Tvys9ESEXFrFpbX1wQcfROocXG+7du3S+86YMSMYpU6wLlT+g4tumACA1OW+1Mmv7/LFL8dWq1ZN3XDDDfqLTMZAyReffHHdd999GX7hSRcuaYWR7c2bN1ezZ89WU6ZMUXXr1lXDhg3Tvx67MjnGx/N3pC546k3k7YsvvrAtk9cY7lLn1HpLL//6179098uyZcuGXPfLUKu7iRMn6uMSExO1qCB1zq23devW6X2XL18erFInPGwRu4Pc1QEAUpfLX3i7d+/WxzVs2FB98sknqcr279+f0p1Ofon09YUnX06yrWPHjvpXUetNvmeik0BvMpG64Kw3a44ePZpyMxTO3S+Dod7kJvi9997TE95IS4S0QOzZsyfspc7JdXfkyBF9zJgxY/S/kTpn19uCBQv0vnPmzNHj/+TxRTDlxxOps2eeeSYYpE66Yf5svu7fjTTmzg4AkLpc/MKTbo5yXHoTITRq1EiXP/zwwz6/8ORmXbYlJyenOcfhw4eRujCsN0/++9//psiByF04S53T601mwPQcK/UlY36effbZkJz9MlTq7j//+Y/uDiitSB5pQeqcXW+TJk1K2V/qTro/S8uhpyVQujzfc889Tpc6YbOlte4Id3YAgNTl8HTP0k3Hc1yRIkX0tjfeeMPnbIYyo5qvLzyZpVK2SXctu5t6pC786k0iE6ZcddVVugvf9u3bw3JJg2CqN5md9JprrlExMTH6uUrXNJm06O233w7LJQ2Coe569OihBfz48eMp20JZ6kKh3tavX69nmZXzS0ufdeyfbJPzFC1aVLeYO1zqyhn50Xztv7ncC5UDACB1WTXdc5cuXXxm06ZNKQPrPV9E3rPeeTJ37lxdPmvWrHS/8GT8m+c81i8oa3cuualH6sKr3h544AFVqlQpLQYyM2YoLT4eyvVm7Va2cOFCfR5paZVJU0JtSYNgrzuZlMhlM6FHKEtdKL/nPPHMXppVP4Rlo9QJuyxCfTN3dwCA1OVC1xT5cvJ8GFsnJrFGBoNLufwZ6BfexYsXaakLs3qTNZak9aBKlSpZvuh4sHa/DJb3m3ek5U7OJe/DcO1+6cS6k9chrUfSqmodD0b3y+B/z02fPj2NaDpY6hoY+cN8/ReM5OUODwCQulwYb1CsWDF93Ouvv25bPnr0aF0us3X56primfnLrmuKbEPqwqfePL98x8bG6vE+2TWjWzCOqXNavUnrm7So+lpcXGb4c2Vyza5QHFPntLq78cYb/e6OmFXrQwbjmLpg+I7zzvXXX5+l77lsljrhjOX/W2fu8AAAqcuFL7zOnTvr42SGMLtyma5Zyp988kmfX3ieweZ2g8g9UobUhX69ecaDyELWWdldL1Skzmn1Ji0MnqUmTp8+bbuPzPYn5Z4ubeEqdU6ru4ceeki36NhlxIgRKd1m5d8rVqwIW6lz4nuub9++qnHjxurdd9+1LZf1Bl3m8hRBInWzLFK3nTs8AEDqcuELb9++ffo4+RKRdXisZTKNuZTVq1dPjxnw9YU3b948vU1mGpMvJc/2jz76SDVo0IAxdWFQb48++qjeX46z66KE1Dmz3mQxZdlXpmX3bln1TAcvrRRvvvlmWEtdMHxW0v0yOOpNZruUfeVP61g/6UabkJCgyypXrpxlP4zlgNRVt0jd29zhAQBSlwtfeBKRJTm2Ro0aatq0aXpyBPklUcZEyfm8x0TZfeHJL44VKlTQ2+ULThZ4lV+LZf0dmRa9ZMmSfn/hyQ2J3Ix40rJlS32sjM+ybvdeMDacpM6J9RYdHa33bdKkSap68o7IX7hKnRPrTc4lM5S6zBn3pGWuf//++ryyTW5Wb7nllrBf0sCJdYfUBWe9vfPOO6p69ep6//Lly+t6kiUN5PnJthIlSqhjx44Fw5IGVv5jETtmwQQApC43vvDkF8rbb79d35TLTZ0sglq1alU91fOrr76aZn+7LzzJa6+9pr+YSpcurX/Zr1Wrlt5Hfn2sVq2aPsafXx5F1lx+jBORNbXCWeqcVm/y2P7U244dO8Ja6pxWb5ILFy6oZcuWqWbNmukp4GWGwaioKH3j+9hjj7FOnYPrDqkLznqTZRBkIhRpJZQZgiVyPlmOIb3lFxwudXdYPueHcpcHAEgdyfHkptSR4JQ6ErxSR4JT6ojjpW6Si6UNAACpI0gdQeqQOqQOqSNBK3WtLFL3OHd5AIDUEaSOIHVIHVKH1JHgkrqSFql7g7s8AEDqCFJHkDqkDqlD6khwSZ3wrSl133GXBwBIHUHqCFKH1CF1SB0JPqmzzoAZyZ0eACB1BKkjSB1Sh9QhdSS4pO51i9QV504PAJA6gtQRpA6pQ+qQOhJcUnfaInUVuNMDAKSOIHUEqUPqkDqkjgSX1J2ySF1F7vQAAKkjSB1B6pA6pA6pI0gdAABSR5A6pA6pQ+oIUofUIXUAAEgdUofUIXUEqSNIHVKH1AEAIHVIHUHqCFKH1BGkDgAghGg//dAbxg2pIs5I7LSkL/2qtxmHTnG9nJPWkxN/8qfeOsw4dJTr5ZxETz54OXbOkUJ+vN+SuV5Oer8dvNJ6+v4yGdVbXHzybq6XgzI58fc2U5NrIHUAAAAAAACA1AEAAAAAACB1AAAAAAAAgNQBAAAAAAAAUgcAAAAAAABIHQAAAAAAAFIHAAAAAAAASB0AAAAAAAAgdQAAAAAAAEgdAAAAAAAAIHUAAAAAAACA1AEAAAAAAABSBwAAAAAAgNQBAAAAAAAAUgcAAAAAAABIHQAAAAAAAFKH1AEAAAAAACB1AAAAAAAAgNQBAAAAAAAAUgcAAAAAAIDUAQAAAAAAAFIHAAAAAAAASB0AAAAAAAAgdQAAAAAAAEgdAAAAAAAAIHUAAAAAAACA1AEAZII28YfOtZqUqIgzEjMt+WN/6i024eAzXC8H1dvUg9/4VW8zkx7kejkn0VMSf+x0/b6CGdVb2xlJ93C9nJPWUxIvxd5wpHSG77fpSVu5Xg7K5IOXo8cnV0XqAACyQ+qmH/lk4fFv1dpziuRyVpz61bhZSbrkT73FzUl+a817J9Ud6hWSy9nzxytyw/KHP/XWfk7y2eX/eoHr5pDETDt4OSYhsXjG9Xbo2OJXnuOaOSRxs5N/jJmYWCXDz8nZSYfnnjrBNXNIOi469F3MlMSGSB0AAFKH1CF1SB1B6pA6pA6pQ+oAAJA6pI4gdQSpQ+oIUgcAgNQRpI4gdUgdQeoIUgcAgNQRpA6pI0gdQeqQOqQOAACpQ+oIUkeQOqQOqUPqkDoAQOoIUkeQOqQOqUPqCFIHAIDUEaQOqUPqkDqC1BGkDgAAqUPqkDqkjiB1BKlD6pA6AACkDqkjSB1B6pA6gtQBACB1BKkjSB1SxzVD6ghSBwDBzDLzw2GVZdsqc9sypC530nXqWv2h3XnSSr+PyZs3Qh+D1OVe+q+dpuug78rJfh+TNyKvPgapo96QOuouXKQu1OoNqQMAX9Q2ssXIOSMXjPxq5Gcj7xk5bKRXNkrdbCMfGpnhte9wIyMCeIx6Rl4yHycxWKVu5pG3lOXD1GfKVq8fNFI36/53VLWmbfWxzXqOCjmpW/3W/X7XW/n61YPiRiX+kS2qXscWqlCJoioiX6QqWamcajW8u1py7kDISF2o1dv2n06pEdsXqpoxjVXRsiXd9VY5SrUc2k0tfOmekJK6UHzPpX5fnFdXdYnW52gxuEvISF0o1duqf9+X4WvIyrpD6gAgPfobuWS+ad82cq+RHaYQvWF5Q2/OJqlLj3eNPJyJc+c1MteU0V9DReryRkSq+nF9fCZ60FTHS92aM7+rnrNvVfkKFFIRkflCXuryRkaoJn3a+UyHqYMdf4PZftJAvX9k/nyqYfc2KnpkD1WxYS3z/2ZeNePx20JK6kKh3m7//kVVK7ap3l+Erln/jip6RHdVqXFtvS1PnjxqYtK6kJO6UHnPeWfwplnZIgZOkbpQqLeFp/bqfUtVidJ1ZJchm2cjdQCQrRQy8o35hp3qQ/oum/s0zyGpizL3y4zUPWQes9/I5FCRuoJFS4RE98sGHQfo/a/uPVb1X3JHyEudtGoFe5eiSYfW632lheem/z6cquWg97IbdFm52lVCSupCod66zr5O7ys3wzt+filV2aANM911WqmcrsdQkrpQqDvvLH89Sf+gUqN1o5CVulCot+mPbtH7xk3oR/dLAMg1Wplv1g8y2G+xkTuNdLBsW28eO9mUvWNGvjVb/V43MtFPqVvlSj2m7pBN14ULfryWZ40MNP8+IpylTlrF+i3eo7s5yvHSMla8XGXVtMdIFZ/4mt9St/Dop6p5n3GqSKko48aigCpTta7ed/XLv2Va6mq27KxGbnxQ/33YTclInZ3U/H5OjdqzVNVu2/TPro6GUEnr2LLXkvy+Udn46VMqdlxfVSyqtIoskF9F1a2m993929lM3ajI48q+1+1anKZs5y+n9S/sUr7p8+NhLXVOq7drV09RLYZ01a8pTb1dfjml3m779vmwlzqn1Z01IuTSKi6trbOP70TqHFxv4/ev1vt2nz8GqQOAXKOu+Wa9aKRgJo/1yNguI98ZOepyj8sTkfrFLFsUgNR1N7LT3PYPl3us3fV+PJ/Clr+HrdStOfuHatRlsPvX+Io1VOsh8arLpFWqyTXDtdyJnI29/ckMpW7Z89+r0lXc3bUqN2ilOoxbrGKHz1TlalylmvUabXyJ5s+U1K148aeUvyN19uNm5IZNji1To5LqFD9UXbtqsh67JjcscsMx88ltGd6oSNc7aT2T7dVbNVQ9F1+vuswcoSpcVUPFjO6tf/XPzA2myNuuX8/YlslrlHNt/iJ8pc6p9ZZeNlw4qrtfFitXKuS6X4Za3XWaPkwfF//wrVpUkDrn1tuwrXP1vgPWT0fqACDXkHFor5lv2DNG2hnJ4+exHkH7w0a6upplPxkpmUmpE3q6Mt/90oXUKTV41QH3wPI6TdTy539IVTZywwO6TFrtpLXNl9RdE+/uele7dTfd8ufZvvLULykTnbgCnP0SqbP5pffAGrdAN6mjtv3wYqqyqQ9sTOkGKb8g+7pRkZsK2dagW2v9a7ZVzuRXbU+9/dXXueDk3Sk3Q+Hc/TIY6k1ugrd8/aye8KZ8vWq6BWLCvWvCXuqcXHcJR7fpY9pNHKD/jdQ5u976LJ+o9+21ZLwe/yePL4IpP540H9RFLTm7H6kDgByhlpHzljfuFy73+LQF8lluJDIDqXs3nfKzZvlgpC7npE66OcpxQ9cm2ZZXqOP+shq/64RPqavc0D3b2ugtj6U5x5itTyB1WXyjUr9zK31cehNYVGlaV5fPObHb541KjeiGetv0x7amvVF84vYskbotX51IkQORu3CWOqfXm8yA6TlW6qvt+H5q6Sv3huTsl6FSd5u/fFoVL19atyJ5pAWpc3a9dZ4xLGV/6cop3Z+l5dDTEihdnicdvhmpA4AcIY8pUvtc7uUFrOPZpGvlHiNV0pG6femc826zfClSl71LGsQMnZ5yXP7C7i5x8x/9yPa8rQZM0uU9Zm7yKXUyS6VsW/DEhTTnWPL0V0hdFkzTLd2rPMcVKFpYb7v5o8d9zkIpM+H5ulHJV6iA3ibd7Oxk7K9KnUyYUqlRLd2Fb+zeFWG5pEEw1ZvMTtq4d5yqHddMP1fpmnb1gE5q02fHwnJJg2Cou6Z922sBX/TyvpRtoSx1oVBvw26bp2eZlW6g0tJnHfsn2/QPtMUK6xZzpA4AcpryRga43EsbfGa+ob8y0tBG0G5O5xwbzPKNSN1fW9KgTpsePnPtwp1umTn5c8oXkfzd7rwdxy/V5e3HLkpX6mT8m+c8K09dsh23Jzf1SJ3vabob9Yj1mZE7F6VMiOC53t6zFXrSa+kEt4wvGpfujYqsTZZynkunbbvheeotkNc269gOVaR0cS0GMjNmKC0+Hsr1ljLxhnHuvivcP+pIS6tMmhJqSxoEe93JpEQumwk9QlnqQvk9l9IqaM5emlU/hCF1ABAoBUw5kjf14zaCdlM6x200y9cgdTnT/VLGu6VInWViEmtkwhMplz8DlbrVZ67QUpeFXYrkl13P9ZSbDbt9ZBC/lMufgd6o7L5yLuAWH1ljSVoPSlerkOWLjgdr98tgqDe7SMudnGti8vqw7X7pxLqT1yGtR9Kqah0PRvfL4H/PXTNvdBrRROoAIDuQL+KIDPZp4PpzvJ23oO1O5xhP98vpSF3OjakrUKS4Pm7eIx/Ylrfs515frNfsLT67X3pmt7TrfinbkLqsHSdSsHgRfdz6Dx61v/m6ob97rOSWuT67FHlmbLPrUiTbArlR8fzyXbd9cz3eJ7tmdAvGMXVOqzdpfZMWVV+Li8sMf3Iu6RYWzmPqnFZ3/W+K97s7YlatDxmMY+qc/FmZXjpMGZTpdfKQOgDILLK2m9xEDc9gv47mm/ojG0F7NZ1j3jTL+yB1OSd1dWK6u8cTrDpgWy5LEkj5pLtO+ZQ6z4QqdhOleKQMqcu6G5WG3du4J7A5YD8roUyzLeULT+31eaPimSTAbvC/tMxk9kbFMx5EFrLOyu56oSJ1Tqs3aWHwLDWx8p9HbPeR2f6k3NOlLVylzml1N+eZXbpFxy5txvZJ6TYr/x5484ywlTonvueaD+ysqjSrp269+Ixtuaw36DKXp0DqACC7mGu+WWXR8P4u9xIH3lxt5D1zv002gibp5/0dYDlvkQCkrpO57RRSlzmpG37zEX1cVM2Geq05a9mQ1fe6f+Wt0UCPi/MldR3H36i3yWya0t0yZf26575T5Ws3ZkxdFt+oTD5yiz5Ovvxl/SRrmUw/r8sa1NRjPXzdqPS+0d2qJjPEyc1EyppM372gKjWunalxIvOeu0PvL8dZB/8jdc6uN1lMWfaVadm9W1Y908FLK8UtHz8R1lLnxLpLL3S/dHa9yWyXun6MP61j/aQbbfcFY3VZqarls+yHMaQOAOyQWS/vtLxpPzHyiJF7zT//aSmTxcUL2wjaASPfGzlkZIXLPbnKD2ZZgtfj+St1FYz8ZrYiipjd5Uq93p2deN5vyRlLy6J1e89QlzqJyJL+EqlcS7UdOVt1nrhCNew0UOXNG6HPN3X/+QwXH19y/KIqVq6S+9dhQ+JkEfOre4/Va9y16DdBFSpWym+pi098TS+I7kmVxjH62BIVqqXa7r0oejhJnb4xHtVLH1u2VmXVdfZ1elIL+QVYxrLJ+ZaeP5DhgrryS3HJSuX0drkxkYV55Vd+WTcpbkI/VbhUcb9vVGrFultrq15dT99MpheRv3CVOifWm5xLZih1mTPuSctcy6Hd9Hllm9ysjti2IOyXNHBi3SF1wVlvm784rsrWdH9flqhYVq9NJ0sayPOTbYVLFlOLTt/DkgYAkCN0MHKPkX+ZQva7kR+N/MdIkit1F0pvQVtupJUpfd8YkZtpWdB8rI9jMpI6Id7lnnnzstlSWMrH8+/p8m8swoxwkDpphRtw412qapNYVaBwMRURmU+VrFhdL2cw96H30uxvJ3WSuQ+/r5pcM1wVLlFGj7ErXbWO6jJplV64vGRFdxeXVS9dzvD5iKz5Uz99528Pa6mTX5bH3LVMy5TcjMvitWWqV9RTdK9775G0Y3BsblQk695/VN9QFClTQrfIRNWpqrtRyq/GZWq4bzz8+cVYHtufehu3b2VYS53T6k2y7ceTasC6eFWtxVV6CniZYbB4hTL6xnfe83eyTp2D6w6pC856k2UQZCIUaSXMVzC/niVYzifLMaS3/AJSBwBOwU7QwpasljoSnFJHglPqSPBKHQlOqSNIHQAgdUgdQeqQOqQOqSNIHVKH1AEAUofUIXVIHVJHkDqkDqlD6pA6AKQOqUPqkDqC1CF1SB1SR5A6AEDqkDqC1CF1SB1SR5A6gtQBACB1BKlD6ghSR5A6pA6pAwBA6pA6gtQRpA6pQ+qQOqQOAJA6gtQRpA6pQ+qQOoLUAQAgdQSpQ+qQOqSOIHUEqQMAQOqQOqQOqSNIHUHqkDqkDgAAqUPqCFJHkDqkjiB1AABIHUHqCFKH1BGkjiB1AADOIib+0NuxCUd+jJt5//ckd9M24b7vW09N+safeotNOHg+blbyj+3mHfqe5H6iJyde9rPeTrSdmfwT18wx9Xal5eQ7CvtRbw/Ezkz6mWvmnHprOvVAVEb11nZ60t62CQcvcc0cUm9TDv7WcvKh2kgdAEA2cPX1+0pGTzhYizgjrafvL+OXjCckFud6OSfNxx8p50+9NYo/UpTr5ZzETEwq70+9ifhxvZyTlpPv9etGvdP1+wpyvZyT2Kn7K+fQrQ1SBwAAAAAAEMQgdQAAAAAAAEgdAAAAAAAAIHUAAAAAAACA1AEAAAAAACB1AAAAAAAAgNQBAAAAAAAAUgcAAAAAAABIHQAAAAAAAFIHAAAAAAAASB0AAAAAAAAgdQAAAAAAAEgdUgcAAAAAAIDUAQAAAAAAAFIHAJCttJ6+v0z0hIO1iDPSdOqBKH/qrcm0g6W4Xg5K/L4K/tRby8lHSnC9nJPmE5Ir+VNvcRP2FuN6OScxExOr+FNvTcccKML1ck5aTj5QDakDAMgm2sxIeidudvJP7ecl/0ByN+3mJP8QM+3gt37VW/zhV2Jn3PdT3Mz7fyC5n+jJib/6U29tZyY9Gzcr+Wf+vzsj0ZMSr7ScfEfhDOstIekho+4ucc2ckVaT7/3dnx/AjO+3e4y6o94cktZTEq+0uOHeOkgdAEA2YNyofLLh05fUHeoVksvZ/vM5FTMt8ZJf9ZZw31tzHr+o1p5TJJez5qxSrSYl/uFPvbWfk3x2+b9e4P+7QxIz7eDlmITE4hnX26Fji195jmvmkMTNTv7Rn9a6uNlJh+eeOsE1c0g6Ljr0XcyUxIZIHQAAUofUIXVIHUHqkDqkDqlD6gAAkDqkjiB1BKlD6ghSBwCA1BGkjiB1SB1B6ghSBwCA1BGkDqkjSB1B6pA6pA4AAKlD6ghSR5A6pA6pQ+qQOgBA6ghSR5A6pA6pQ+oIUgcAgNQRpA6pQ+qQOoLUEaQOAACpQ+qQOqSOIHUEqUPqkDoAAKQOqSNIHUHqkDqC1AEAuJaZHw6rLNtWmduWIXUEqUPqkDqkjiB1BKkDgMCobWSLkXNGLhj51cjPRt4zcthIr2yUutlGPjQyw2vf4UZGZPL8/Yw8b+Rb8zX8z8ghI9FIXfrpv3aa/tDuu3Ky38fkjcirj0Hqci9dp67VddB50kq/j8mbN0Ifg9TxfkPqqLtwkbpQqzekDgDSo7+RS+ab9m0j9xrZYSTRyBuWN/TmbJK69HjXyMOZOPed5rkvGzlmJMnIv8xtV4z0CSapW/3W/cpy7X2mfP3qQfOFt+adB1Xttk31sTGjeoWc1M088pbf9Va2ev2gkLpRmx9RNVp0VAWLllARkflUsXKVVJNrhqupfzsXMlIXau+37T+dUiO2L1Q1YxqromVLqoh8kapk5SjVcmg3tfCle0JK6kL1s9KTPX+cV1d1idbnaDG4S8hIXSjV26p/35fha8jKukPqAMCOQka+Md+wU31I32Vzn+Y5JHVR5n7+St1wc/8LZqujhzxG1ppl/w1GqcsbGaGa9GnnMx2mDnb8jcqe38+pobfOUfkKFdA3mKEudXkjIlX9uD4+Ez1oquOlrtWASXr/iHz5VZ2Y7qppj5EqqmZD92s0zjV66+MhJXWh8H67/fsXVa1Y9w8nInTN+ndU0SO6q0qNa+ttefLkUROT1oWc1IXKZ6V3Bm+alS1i4BSpC4V6W3hqr963VJUoXUd2GbJ5NlIHANlKK/PN+kEG+y02W8I6WLatN4+dbMqetI59a7b6vW5kop9St8qVekzdIZtfuS5k8PySzP2m2ZQVMPKbWV4+2KSuUImiIdE15eoBnfT+bcb2UaPvWBryUietWsHe/XLYukN63+LlKqs5D/7XIl9/qE4Tlumy0lVqh5TUhcL7revs6/S+cjO84+fUn0mDNszUZSUrldMtQKEkdaHyWWnN8teTVGT+fKpG60YhK3WhUG/TH92i942b0I/ulwCQa9Q136wXjRTM5LEeGdtl5DsjR13ucXnSbfMXs2xRAFLX3chOc9s/XO6xdtf78XxE3vKlU/ateb6ocJA6aRUbtWep7uYox3u6XkWP7KGWvZbk9xfexk+fUrHj+qpiUaVVZIH8KqpuNb3v7t/OZvpGpX7nVmrqg5v03ycmr0fq7KTmzO+q3+I9qlrTtildHUWopHUsPvE1v6Vu4dFPVfM+41SRUlHGDWEBVaZqXb3v6pd/y5TUyePKvtcu2pWmbOWpX3RrpJQveurzsJY6p73frl09RbUY0lW/Ju+ynZdf1i0jcq7bvn0+7KXOiZ+VnoiQV2xYS7e2zj6+E6lzcL2N379a79t9/hikDgByjbxGXjPfsGeMtHO5uyz6g0fQ/rCRrq5m2U9GSmZS6oSersx1v/RFO/Nc57PzQjpF6uTXd/nil2PL1KikOsUPVdeumqxaDe+uv/jki2vmk9sy/MKTLlzlalfR26u3aqh6Lr5edZk5QlW4qoaKGd1b/3rsyuQYH8/fkTo7oflDNeoy2N2KUrGGaj0kXnWZtEqPXRO5Ezkbe/uTGUrdsue/161nsr1yg1aqw7jFKnb4TFWuxlWqWa/RuhulKxPdL0XeVp3+1bZMXqOca/GxL8JW6pz6fksvGy4c1d0vi5UrFXLdL0Ot7jpNH6aPi3/4Vi0qSJ1z623Y1rl63wHrpyN1AJCr1DKFx/PG/cLIQ0YWyGe5kcgMpO7ddMrPmuWDc1Hqyhh5x+WeKKVdOEjd+ANr3Df0TeqobT+8mKps6gMb3dJQOUr/EunrC0++nGRbg26t9a+iKb/0/3I6ZaKTQG8ykbq0GbzqgHtCgDpN1PLnf0hVNnLDAyndIKW1zZfUXRPvvra1W3fTLX9WOZMWQE+9/dXXOfHOkyniGM7dL4Ph/SY3wVu+flbFP7JFla9XTbdATLh3TdhLnZPrLuHoNn1Mu4kD9L+ROmfXW5/lE/W+vZaM1+P/5PFFMOXHk+aDuqglZ/cHq9SdtNwbVuJ2GSA4yGOK1D6Xe3kB63g26Vq5x0iVdKRuXzrnvNssX5pLUicTpvzTbEmckN0X0ClSJ90c5bj0JkKo0rSuLp9zYrfPL7wa0e7JMKY/tjXtDccTtyN1WSx1NVt21scNXZtkW16hjvsmY/yuEz6lrnJD9yx5o7c8luYcY7Y+kSVSt+Tpr1TZavV0V06Ru3CWOqe/32QGTM+xInNtx/dTS1+5NyRnvwyVutv85dOqePnSuhXJIy1InbPrrfOMYSn7S1dO6f4sLYeelkDp8jzp8M3BKHXHLfeCtblVBghOZEKRAS730gafmW/or4w0tBG0m9M5xwazfGMuSJ2My/va5R7bNzwnLlhuLmkg3XQ8xxUoWlhvu/mjx23P237SQF0uM6r5+sKTWSplm3TX8j7Hlq9OIHVZsKRBzNDpKcflL1xUb5v/6Ec+Z6HsMXOTT6nLV6CQ3rbgiQu2MvZXpU4mTImq1Uh34Ru4bG9YLmkQTO+3GY/fphr3jlO145rp5ypd02TSok2fHQvLJQ2Coe6a9m2vBXzRy/tStoWy1IVCvQ27bZ6eZVa6gUpLn3Xsn2zTP/QVK6xbzINM6h621EMTbo0Bgh+ZgCTRfFM/biNoN6Vz3EazfE0OS908l7u75UeuHFh0PLulTn7ha9Qj1mdG7lyUMrDe8wHsPeudJ72WTnDLwaJx6X7hyfi3lPNcOm3bnUtu6pE630sa1GnTw2euXbhTH7Pi5M8p11v+bnfejuPdM4a2H7soXalb8eJPKedZeeqS7bg9T70F8trGbT+mChUvrcf3ycyYobT4eCi/31Im3jDO3XeF+8cB6YYpk6aE2pIGwV531+1abDuhRyhLXSi/51JaBc3ZS8fuXRFsUnePReq6cTsM4Hzkizgig30auP4cb+ctaLvTOcbT/XJ6DkrdOvO4F42Uy8mL6ITul/ILoecD2DoxiTUyGFzK5c9Av/B2XzlHS10Wdr+U8W4pUmeImd0+MuGJlMufgUrd6jNXAm6p6zlrs+5uWaJCtSxfdDxYu18Gy/vNO9JyJ+eS92G4dr90Yt3J65DWI2lVtY4Ho/tl8L/nrpk3Oo1oBonUrbZI3QRulwGczbMu95izjLoodjTf1B/ZCNqr6RzzplneJ4ekbqWlNTF/Tl9Ip4ypK1i8iD5u/QeP2n+J39DfPXZry1yfXVM8M3/ZdU2RbUhd1o6pK1CkuD5u3iMf2Ja37HeDeyD+7C0+u196Zre0634p2wKROk8rYfWr26vFx77MtnX3gnFMndPeb9L6NuvYDp+Li8sMf3Iu6RYWzmPqnFZ3/W+K97s7oozVCtcxdcHwHeedDlMGZXqdPIdI3XjL/7v13DIDOJu55ptV1nHr73IvceDN1UbeM/fbZCNokn7e3wGW8xYJQOo6mdtO+fk6OplyKiJZIDcupFOkrmH3Nu4JNQ7Yz24n0zVL+cJTe31+4XkGm9sNIvdIGVKXdVJXJ6a7exzIqgO25bIkgZRPuuuUT6nzTKhiN1HKsJuSMy11sqyC7F8/ro9a9dLlbF1MPRilzmnvN2lhkNegW2v/ecR2H5ntT8o9XdrCVeqcVndzntmlW3Ts0mZsn5Rus/LvgTfPCFupc+J7rvnAzqpKs3rq1ovP2JbLeoMuc3mKIJO6aMt93pPcMgM4G5n18k7Lm/YTI48Yudf885+WMllcvLCNoB0w8r2RQ0ZWuNyTq/xgliV4PZ6/UlfByG+mqMl4vrtcqde78+a0eQ5Zc+9+H+kU6lI3+cgt+jj5EpF1eKxlMo25LmtQU48Z8PWF1/tG97gEmWlMvpRS1vb57gVVqXFtxtRlsdQNv/mIPi6qZkO91py1bMjqe92/ztdooMfF+ZK6juNv1NtkNk3pbpmyft1z36nytRtnakzdhN3P6f3lOOkimp1CF6xS58T3myymLPvKtOwyk6LddPDSSnHLx0+EtdQFw2cl3S+Do95ktktdP8af1rF+0o22+4KxuqxU1fJZNo41B6WuoJFfXX8Ov8nDbTOA8+ngcg+I/ZcpZL8b+dHIf4wkuVJ3ofQWtOVGWpnS942RS6ZcjfVxTEZSJ8S73DNvXjZbCkv5eP4f+tlt5fpQlzp9g2XIkhxbtlZl1XX2dXpyBPklUWZUk/MtPX8gw4VZ5RfHkpXK6e3yBScLvMqvxbL+TtyEfqpwqeJ+f+HJDYncjHhSM6axPrZ0tQqptnsvGBtOUidp1nOU+8u/ci3VduRs1XniCtWw00A9lk3ON3X/+QwXH19y/KIqVq6S+1d9Q8ZkEfOre4/Va9y16DdBFSpWym+pq9ok1n2DVO9qvTB6ehH5C1epc+L7Tc5VqVGtlBn3pGWu5dBu+ryyTW5WR2xbEPZLGjix7pC64Ky3zV8cV2Vruj93S1Qsq9emkyUN5PnJtsIli6lFp+8JxiUNhFcs91CNuV0GCE3sBC1scZLUyS+UY+5apmrFNtU3dbIIapnqFfVUz+veeyTtWA6bLzzJuvcf1V9MRcqU0L/sR9WpqsfhyK+PZWq4v8D8+eVRZM0f6ZY1tcJZ6qQVbsCNd2mZKlC4mIqIzKdKVqyulzOY+9B7afa3kzrJ3IffV02uGa4Klyijx9iVrlpHd6OUhctLVnR3TfKnK6U8tj/1NmjFvrCWOqe93yTbfjypBqyLV9VaXKWngJcZBotXKKNvfOc9fyfr1Dm47pC64Kw3WQZBJkKRVsJ8BfPr5UPkfLIcQ3rLLwSJ1N1s+byfy90eAFKH1JEcS25KHQlOqSPBK3UkOKWOBI3UdbZI3Qvc7QEgdUgdQeoIUofUIXVIHQkuqYs08rl5vyefz9W54wNA6pA6gtQRpA6p45ohdSR4pE7YYWmtW8odHwBSh9QRpI4gdUgd1wypI8ElddalDT4xW+8AAJA6gtQRpA6pI0gdCRKpE85YxG4Ud30AgNQRpI4gdUgdQepIcEndCIvUvUNrHQAgdQSpI0gdUkeQOhJcUhfhcq9l7BG7ydz5AQBSR5A6gtQhdQSpI8EjdcIQi9R9baQcd38AgNQRpI4gdUgdQepI8EhdHiMnLGKXzN0fACB1BKkjSB1SR5A6EjxSJ9Q38otF7K7nDhAAkDqC1BGkDqkjSB0JHqkT5lqk7mcjbYLodm2V+byXZfPjXDEfJzceGwD+qtStee+k2vbTWZLL2fzVy5mSupkPfqqWn7pMcjkrTl7OlNQt+ftz/H93SFpPS/Jb6uadPsE1c0jiZiX/5K/UzXz2aa6ZQ9Jx4eHvc1nqpBvmExax+8xInRx+DldZHj+jvG05braRD43MyAWpy6nHzqrrKK/hSyNPudzLWOThbj9dhrvcM8RCSEhdQtKLbeIP/kwckhkH/+NPvbWZfviJmKnJPxOHZFry//x6v81KPsT/c+ckZtrBi3USthXIsN5mHLyD6+WoevumybSDpTKqt9jpSRu5Xo6qt2/9kfFspqQr9WyY8tndIBdk5Dcjj2eQ3blwfeykzol4ruOvRu73isjcO5Y6fsjlngUV0vKukYe5DAAAAAAQbNQw8onlpv//jPTNYRn51qHXJtikztd17Gzke3O/Sfy3T0OUeW2QOgAAAAAISmoaed8idtKFfq8r+5c7CFTqVrnSjmtbam6bYL6eQ0Y+d7lbr/5r7mvXQlXRyN+MfOFyTx7zH3PfSJf/Y+oCfewK5nX+zHzsfxtJcLm7SH5onrNAFl7HZeZ+T3ptL2xkhZF/GPnJfN4i+vuN1LI5z3LL6x1lPtfLRqr+hXNar2FTI8eMfGe+JmltrGfu18vIGSM/muc7bF5HO0Yaed48xy/m85QWX+8W8kOutN1WLwR4Ln+vT1/zdV10uVuqpYvsKT6KAAAAAOCvIDfGL3rd2P5k3rh2M1LU4VK3wNy2zpQkuUG+zUiSKRR2k5sUM6VLys4budnI7UbeMnKveSOusumxi5sCKWWvGlljZJvLvXbgrS53i6ly+TcGzt/rONjc7++WbSKvx83t8rq3GNlk5GVz20UbcVlklm01/488aOQuy48AgZzTcw1lv69c7hYzuYb/NLfLterncrc2HjSy3chHZtkJm9e6wyz7xryuq40cdf25PmMjy77djew0y0RCZbzk9QGey5/rM871Z6v4Xkvdf8DHEAAAAAD8VfIZWWuRGe/IDfWdDpW62eY2ee7zvPYfaZb912v7EnP700byWrZL69hLltedHY/taTV7zpW6Fa+akU+N/O7yv+unv9fxRlfaLoZ9LPJV0Gv/B8yyjV7b55jbpSVtrM3jBHJO6zUc4lUX/7O8vqu9fojw/F+tYPP4MpawrNfjTDfLXvba3tNl3/0ykHNldH1eNctbem0vwkcQAAAAAGQV0iJyxZX+jIrlHSx10oUxj42sel6PVaDOmdvsxhD2DkDqMvPYfze39bJ57Ph0HvuvXMdWrj9b/4Z7SaTUd6zNMSNc9t01Z6cjqllxzr/bHLPPLDtoU3bSLGtr2fa4uW2Yzf5SP54W0vp+SF0g58ro+rxvcwwAAAAAQJYQaUrLL+nInHQluycLHy8zSxrs8FOs/pbOY31nlltbQ342t1W22b9MAFIXyGPbjVusHqDUSVfPRK88YBFIZQqSry6dRUxpl5YvT3fN59MRsAN+Pr/MnPNum+NvN8sW25R5luXoatn2jY96Ffab5WP9kLpAzpXR9bnNLP/Y5R5DWZ2PHgAAAADICuSm+zkvkRLxkO6WPVzuMWBZjXVJg6cySLyfYnVLOo/1rVnuGRtY2PI6C9rsL+LzRyalLpDHthOsvOk8diByLOeRcV/SxXRYOsdLa+GzprTbnSM9AbvVx3MK9Jy3+JCgiTZlnpa0bpYfJvz9oWBJBlIX6Lkyuj4R5muy/ngirXe7+RgCAAAAgECpYeQ9LxH4m8s9zXt2kh3dL7NK6iJcmW+p8/exi1iuc550hDI7xtTZMd7151i2XUZGu9zjyERyFgYgYNlxzsxInbXeZNKVm3ykawZSF+i5Mro+HmSM3vUu94Q6X7qCY/kMAAAAAHAg0vXrI8vNq4hB/xx67NyUOpfrz0k27LrWVc5GqRNp88yKWcpm/6qurB9Tlx4fmscOsSkbGKDUZfU5MyN1wkVzW91MXIf0ul8Gci5/pc77R4Rr+TgCAAAAgMxSwvXnlPESmXWxYQ4+fm5L3T9c6U+UMiIbpU74t7mto83+U3NI6qzdCyNtyu8KQMCy45yZlbrHfOwvlM6E1AVyroz+P8gPKdX4+AEAAACAv0oeyw2xRBbLrpvDzyG3pe4mc5uM/bLOTCnjB990Zd+YOuFWc9sDXvtKC+GHrpzrfvm5eWxTG6n9xCx7I5PSktXnzKzU9XP9OU6tuo1QyY8XMjNlIcv2TuYx3guAB3IuX6+lkVl21uXuAmwlgo8lAAAAAMgMs1ypJ0SJzYXnkNtSJ2OaPGugicTJAtQym+EFl3tR6G+yUepE3r4yt79gCuZuc5tMuvFLDkndetefMzGudLkXzn7SfB7NXe4uqiK3G4y08/P1ZvU5Myt1wh3mdnlMmTl1hcs98+f35mN7n0tm5vzNLJNZQ6VFsWSA58ro+txtll8wH2ed+Rrf4GMJAAAAAPylnpFLFqmbkEvPI7elTqhp5JB5wy6y8a4pItJ18APzmPzZ9NgNXO7ufVL+o5FXjIwyy3JK6uS1LXe511uT/xPS8iTrwdWxyL/MninLMkz18/Vm9TkDkTrhOpd7RldZn0/WCvzCyCNGuqTzvGWG1c/M/wcycVCpAM+V0fXJY76W513uVk2RyR/M+gcAAAAA8ItnLEJ3hMvhODzj0n7kUgAAAAAAgDeDLUInrSVRXJJcQRYdl8k5WtmUtXHZjzsDAAAAAIAwRxa1ts52OZVLkmsMMetA6qOIZXs+l3uxdSm7icsEAAAAAABWhluETsY7RXJJcg259k+7/pxZcYsZj3S/43IvOQEAAAAAAJDCyxapG8PlyHVkGvz5Rl5zuSc5+cWUuU0u+/XPAAAAAAAgjGllETqZSj0flwQAQpY2M5IWxs05eJA4IzEzkm72q94SkmdyvZyT2BlJt/lVb1OTJ8XOOHKQOCOt4w/vHjr0SIaLn0bHHxzF/3PnpM2M5Ds7Xb+vYMb1dmAQ18tBn5MJSXtjEhKL5+AtznaL1N3IHR8AhDRtZyZ9MuXRp9ScF54huZyEZ46rmGmJl/ypt7g5yW9NfOBJrpsDMttIq0mJf/j1fku47+yw219RE/e/SxyQ6KlJv/lzk9l+zqFjY+59nP/vDkns9KRfYiYmVsnwc3J20uGR9zzGNXNI4mYlXYqZktgwh25vZPzW56bQyedzde74ACDkpW7Dpy+pO9QrJJez/edzmZK6Ne+d5Lo5IHv+eCVTUpfw0Kdq7TlFHJDWU5Iv+yt1i195jv/vDknc7OQf/ZW6uadOcM0cko6LDn2Xg1LXydJK9yJ3ewCA1BGkjiB1SB1Sh9SR4JK69Rapm8fdHgAgdQSpI0gdUofUIXUkuKTuvEXqmnC3BwBIHUHqCFKH1CF1SB0JHqmTSXR+NYXuSyN5uNsDAKSOIHUEqUPqkDqkjgSP1LW2tNId5U4PAJA6gtQRpA6pQ+qQOhJcUjfeInXrudMDAKSOIHUEqUPqkDqkjgSX1K2ySN0E7vQAAKkjSB1B6pA6pA6pI8EldfdYpK4bd3oAgNQRpI4gdUgdUofUkeCSuoctUteUOz0AsLLM/HBYZdO8vwypI0gdUofUIXUEqSOOkLrjFqmrzS0sQHAgb9YtRs4ZueByT2H7s5H3jBw20isbpW62kQ+NzPDad7iREZk4d2HzHGeMXDRfg7yWI3IPiNQhdUgdUkeQOoLUIXV+c9IidZW4VQZwPv2NXDLftG8budfIDiOJRt6wvKE3Z5PUpce7ZtO/PxQzcto890XzuGQjb5rb5EZxJFJnn/5rp+k67rtyst/H5I3Iq49B6qg3pC5z6Tp1ra6DzpNW+n1M3rwR+hikjvccUke95aDUnbLcA1bkdhnA2RQy8o35hp3qQ/oum/s0zyGpizL381fqtpr7P26+JisLzbL/ubJx4cyslrrVb92vLB+mPlO+fvWg+cJb886DqnbbpvrYmFG9Qk7qQrHe4h/Zoup1bKEKlSiqIvJFqpKVyqlWw7urJecOhIzUzTzylt/1VrZ6fcdL3YoXf1J9529XVRrHqMIly6qIyHyqeLnKqnHXoWrS3S+FlNSF6mfln++L8+qqLtH6HC0GdwkZqQulelv17/syfA1ZWXdIHQDY0cp8s36QwX6LjdxppINl23rz2Mmm7B0z8q3Z6ve6kYl+St0qV+oxdYdsPhAvZPD8Vhi5z8hVNmX5jfxmnqdEsEld3sgI1aRPO5/pMHWw429U9vx+Tg29dY7KV6iAFoNQl7pQqbf2kwbq/SPz51MNu7dR0SN7qIoNa7lfo3GuGY/fFlJSlzciUtWP6+Mz0YOmOlrqlj3/varaJFbvL0LXoGN/1aT7CFW+dmO9LU+ePGro2qSQk7pQec95Z/CmWdkiBk6RulCot4Wn9up9S1WJ0nVklyGbZyN1AJCt1HX92WWxYCaP9cjYLiPfGTnqco/Lk26bv5hliwKQuu5Gdprb/uFyj5O7/i+8xsoud/fLL7PzQmaX1EnrSCh0Tbl6QCe9f5uxfdToO5aGvNSFQr1NOrRe71uycpS66b8Pp2o56L3sBl1WrnaVkJK6gkVLBH33y7YjZ+t9RUBXnPw5VVn3hA26rFi5SmrN2T9CSupC5bPSmuWvJ+kfVGq0bhSyUhcK9Tb90S1637gJ/eh+CQC5Rl4jr5lvWJlgpJ3L/y6KHkH7w0a6upplPxkpmUmpE3q6Mtf90ht5DaWN9DPyjpErRkaHi9RJq9ioPUt1N8eULnPGjbm0six7LcnvL7yNnz6lYsf1VcWiSqvIAvlVVN1qet/dv53N9I1K/c6t1NQHN+m/T0xej9QFQb3J48q+1+1anKZs5y+n9S/sUr7p8+NhLXVrzvyu+i3eo6o1bauP93R1bNpjpIpPfM1vqVt49FPVvM84VaRUlHEjX0CVqVpX77v65d8yJXVdJq9WjboO0a/Ju2zVS5d1a6Sc68Znvw17qXPiZ6UnO35+SbeKFy1bUs0+vhOpc3C9jd+/Wu/bff4YpA4AcpVaRs5b3rhfGHnIyAL5LDcSmYHUvZtO+VmzfHAOS90My2sRmZPFM1tm90V0itRJK4p88cuxZWpUUp3ih6prV03WY6Dki0++uGY+uS3DL7zbv39Rt8LI9uqtGqqei69XXWaOUBWuqqFiRvfWvx5n5kZl+0+nUv6O1AVPvYm87fr1jG2ZvEY51+YvwlfqpLWrUZfB7hbNijVU6yHxqsukVarJNcO13Imcjb39yQylTrpMlq5SW2+v3KCV6jBusYodPlOVq3GVatZrtPF/IH+WTJSy4IkLuvtlkVLlQq77Zai85zzpNH2YPi7+4Vu1qCB1zq23YVvn6n0HrJ+O1AFArpPHFKl9LvfyAtbxbNK1co+RKulI3b50znm3Wb40h6Wuj5EnzA+jH1zurqAiqRXCQerGH1jjvjFsUkdt++HFVGVTH9iY0p1Ofon09YUnX06yrUG31vpXUetNvmeiE1eAXYqQuuCsN2sWnLw75WYonLtfDl51wD2RQ50mavnzP6QqG7nhAV0mrXbS2uZL6q6Jd78narfuplv+PNtXnvpFtwB66i2Q1ybiufSZr9WozY+ostXq6Va/IavvDXupc/J7LuHoNn1Mu4kD9L+ROmfXW5/lE/W+vZaM1+P/5PFFMIuVK6WaD+qilpzdj9QBQK5R3sgAl3tpg8/MN/RXRhraCNrN6Zxjg1m+MYelzoqME1xtnku6YeYPdamTbo5y3MSkdbblVZrW1eVzTuz2+YVXI7qh3jb9sa1pbzieuB2pC8N682TLVydU+XrVdPckkbtwlrqaLTvr49KbeKRCHffN4fhdJ3xKXeWG7tkNR295LM05xmx9ImCpkxkwPceKzLW4dryaduCVkJz9MlTec5u/fFoVL19atyJ5pAWpc3a9dZ4xLGV/6crZYkhX3XLoaQmUruqTDt+M1AFArlPA5Z78xLNkgLeg3ZTOcRvN8jW5KHUenjDPNyK7LlJuLmkg3XQ8xxUoWlhvu/mjx33OZigzqvn6wpNZKmXbhgtHbW/qkbrwqzeJTJhSqVEt3YVv7N4VYbmkQczQ6SnH5S/s7oI6/9GPbM/basAkXd5j5iafUpevQCG9TbpHep9jydNfBSx1o7c+rurF9VbVmsXp5yrdQRt0HKAWPflZWC5pEAzvuaZ92+sfTBa9vC9lWyhLXSjU27Db5qlm/TvqbqDS0mcd+yfb9A9GxQqrLV8/i9QBQLYiX8QRGezTwPXneDtvQdudzjGe7pfTs1nqpPVNZsz0tbj47eb5Vgab1MkvfI16xPrMyJ2LUgbWez6A5e925+21dIL7JnPRuHS/8GT8W8p5Lp22HdMgN/VIXXjV26xjO1SR0sX1mBWZGTOUFh+3LmlQp00Pn7l24U73WnAnf0653t6zTHrScbx7ptf2YxelK3WyppznPCtPXbLtPumpt7/yGuXcnSeucK+1V62enjQl1JY0CPb3nExK5LKZ0COUpS4UPyu945m9NKt+CEPqAMCOZ13u2SuHZ7BfR/NN/ZGNoL2azjFvmuV9slnqREi/NfdvlM4+T5vl8cEmdZnpmiK/EHo+gK0Tk1gjg8GlXP4M9Atv95VztNSFWb3JGkvSelC6WoUsX3Q8WLtfyni3FKkzxMxuH5nwRMrlz0ClbvWZK39pTJ13pOVOzjXspuSw7X7pxPecvA5pPaod1yzVeDC6Xwbfd5x3rpk3Oo1oInUAkNXM/f/2zgM+ijL//wuEFnpJgNBDUUITCITQi6KAFEEEFEFKKKGLVCkBBUQUFUFUVE4IAbGCyom9YEPv5xU97zzR8/Sv5+l5ghVBn//zfWY2Tjazm01IZHb3/X69Pi9gnpnZyTxsdt77NPvNKlI0zGctcRDIOTpH7f02ugiaZGjgZ4DjvJWKIHV97G2Hw/w5fmfv/7JOQkDZ5XbZCZ2G0Sx1kgpVK5nj1n14wP1DfPIwawzQpitDdk3xz/zl1jVFtiF1sVNv/m++W/TsYMb7lNSMbpE4pq58parmuAX7P3Qt7zTUWs9v4LxNIbtf+me3dOt+KdvClTppfZtw66GQi4vLrJpyLpmlM5bH1HntPTfs2sywuyMW1/qQkTimLhI+4wLTa9qIQq+Th9QBQGGRWS/vdLxpP9bZr7PL/vNtR5ksLh7vImg7dY7r7NVZ6bMmV/nGLpsd8HrhSp3MVHnSbkWU8XzbfXnXuwuktuNaj9stc/scrYW/uFxLVEpdyoCu1sQMO9e4lst0zVK+6PDdIT/w/IPN3QaR+6UMqYv+evOPB2k7uIfaeuLVEp2mOxKlrnnaAGv8TtZO13JZkkDKM7YfDil1/glV3CZKkRa1cKVOWvXkZ5B9Z+9923UfmWFTyv3dSGNV6rz2npv/9G2mRcctXccPtmZZbdnI/Pui9bNiVuq8Vm/Sqtfhor6qQfuW6sYvnnYtl/UGffbyFEgdAJQ0vXzWem7v2EL2s863Ou/p5PjydqEMFLQVOqm29H2lIw/TsqD5+BDHFCR1gnSV/MxuYZOWwhoF/AzSIijLJ/zB/hlO2sc/5LO6j5YoXpG6qfuuM8fJh4isw+Msm7TLmgq6XqumZsxAqA+8QVdbrTMy05h8KOWu7XPsBZXUphlj6mKg3hY8d4fZX45zDv5H6n7N6PX7zHGJTVPMWnPOMlk2wLSqNGllxsWFkrreE68222Q2TRGz3PXrnjum6jRrU6gxdbKAuewrSyEsOfQf1yUYpGXwqkf/FdNSFwm/K+l+GRn1JrNdmvrRfzrH+kk32gELx5uyGg3rFNsXY0gdABQ3boIWs3hF6iQiS3Js7eT6qv+8S9WFKzPMN4kyJkrOt+yNnQUuzCrfOFZPSjDb5QNOFniVb4tl/Z3uk4aq+BpVw/7AkwcSeRjxp2laG3OsjM9ybg9cMDaWpM6L9ZacbrUeNTynZZ56CozIX6xKnaT9BZdZD231k1W3sfPMZCQpfS4ySwjI+abf+0aBi48vffILVSUhyWqN0RIni5ifM2i8WeOu49BJqmKVGmFLnZwrMdmamKF8fBXTMtem/yhzXtkmD6uDr9oc80saePE9h9RFZr3d8PmTqnZT6/1brV5tszadLGkg1yfb4qtXUYtfuYclDQAAqUPqCvtw/Ia6fPty81Au0yjLIqi1GtczUz2vPbo//1gOlw88ydoPDpgPpkq1qpnxB4nNG5ruePLtY60m1gdYON88iqz5whgnMubWRTEtdV6rN3ntcOptwo5VMS110go3/OrtqmHbdCNRZeLKqur1GpvlDK58+Gi+/d2kTnLlIx+otueNVvHVapmWtJoNm5txb7JwefV6VpeycGesXPHCt+rcGWtV0tkdzVIGMqtn5Vp1jWxOvv151qnz6HsOqYvcepNlEGQiFGklLFuhnJklWM4nyzEEW34BqQMApC4GpI5EptSRyJQ6ErlSRyJT6ghSBwBIHVJHkDqkDqlD6ghSh9QhdQCA1CF1SB1Sh9QRpA6pQ+qQOqQOAACpQ+oIUofUIXVIHUHqAACQOoLUIXVIHVJHkDqC1AEAIHUEqUPqCFJHkDqkDqkDAEDqkDqC1BGkDqlD6pA6pA4AkDqC1BGkDqlD6pA6gtQBACB1BKlD6pA6pI4gdQSpAwBA6pA6pA6pI0gdQeqQOqQOAACpQ+oIUkeQOqSOIHUAAFFJupa6S3934NTkBw6eJGc2E/YePJk2Y/f34dRbj3l7/jrmLurNKwlX6rrPuv+1IetfPDXm1j+cJGc+XabuPhWO1HWfv+fQyC37eb95JGmZu38KS+rm7t47/OaHqTePpNvsnB+ROgCAEiI1Y9fIThm7FxNvpHPG7ivCqbfOk3OGcL88VG9Tdk8Np946Tc0ewP3yTlKn7pqln/tKFfh7csquPtwvD9XblOx5fbKeiyuo3rpMy0nnfnkoU7MX9LliRwWkDgAAAAAAAJA6AAAAAAAApA4AAAAAAACQOgAAAAAAAEDqAAAAAAAAAKkDAAAAAABA6gAAAAAAAACpAwAAAAAAAKQOAAAAAAAAqQMAAAAAAACkDgAAAAAAAJA6AAAAAAAAQOoAAAAAAACQOgAAAAAAAEDqAAAAAAAAAKkDACg83ebs2dlj7p73iDeSPjvnibDqbe6e27hf3km32TkvhVNv3WfnXM/98tL7bfeRTlPvKFtQvaVl3rcifda+94g30jVz7x+6T7q7SkH1lj4zex7/z72TrrN3/6nDxH0JSB0AQIlIXc7HS958Tl37z8PkDCfr7y+ptBnZP4QlB/P3vLvg5We4bx7I2n++pFIzsn8Jp956zt/z+txnn+K+eSRpM3b/lDY7u2qB77c59x8af9c7asHB/xIPJH3mfd+nTcluUGC9zcu5b+r+J/i/7pH0XLD327Rp2SlIHQBACUndhk9fVneoN8kZzq3fHymU1K05+hL3zQO5/Zc3CyV1K955gfvmkWipOxGu1M3Y+5G65ogiHkj67H3fhit1Vx5+hv/rHknvxXuPIXUAAEgdUofUIXUEqSNIHVKH1AEAIHVIHUHqCFKH1BGkDgAAqSNIHUHqkDqC1BGkDgAAqSNIHVJHkDqC1CF1SB0AAFKH1BGkjiB1SB1Sh9QhdQCA1PGBg9QRpA6pQ+qQOoLUAQAgdQSpQ+qQOqSOIHUEqQMAD7Lc/uWQ5diWZW9bjtQRpA6pQ+qQOoLUEaQOAIpGM51NOkd0PtH5Sed7naM69+kMLEGpm6fzT51ZAfuO1hlzGq9VSucZ+/UeQOqQOqQOqSNIHUHqkDqkDiBaGabzg/2m/ZvOLp0tOtk6f3a8oW8oIakLxj90HjmN17rKce1IHVKH1CF1BKkjSB1Sh9QBRCUVdb6y37DTQ0jfCXufDr+R1CXa+xVV6trb1/w6Uldwhl0zw/zSvnDV1LCPKV2mtDkGqaPekLrYrrdYkrr+068x9dA3Y1XYx5QuXcYcg9TxnkPqAKAkSbXfrB8WsN8SnTt1ejm2rbOPnWrL3iGdr+1Wvz/qTAlT6rJ8ecfU7XX8EvHnk0KK6js6X+icF6lSt/rdB5TLfXBNnbMaR8wH3pq/P6SadWtnjk27bGDUSV001lvm/k2qZe+OqmK1yqpM2ThVPSlBpY4eoJYe2Rk1Uhdt9Xbrd4fVmFsXqaZpbVTl2tWtequfqDqNOlctevmeqJK6OfveDbvuajc+K+Kkbs3rv6jk1H7mHK37jYwaqYum91zWX+8v8GfoOLIfUgcAJUoL+80qAlShkMf6Zew2nWM6B33WuDzptvmjXba4CFI3QGerve1PPmus3RWFuK4t9rHSwnhOpEtd6bgyqu3gHiHTa/pIzz9k3v7zETXqxvmqbMXy5gEz2qUuWuqtZ8ZFZv+4cmVVyoCuqvPY81W9lGTrZ9TnmvXYzVElddFQb7ccf1Elp1tfnIjQtR/WW3UeM0AltWlmtpUqVUpNyVkbdVJXukycOqv74JDpPGJ6xEnd+XM25opBNEpdNLznFh2+2+xbo0GikTe3XHzDPKQOAEqU0jpv2W/Y13R6+KwJRsLBL2i/uEhXf7vsO53qhZQ64QJf0bpfDrSP227/O+KlTlpHoqFryjnD+5j9u44frMbdsSzqpS4a6i1j7zqzr7TwXPv+Iw75ekMNWj7ZlCU0axBVUhcN9dZ/3qVmX3kY3vJ93t9JIzbMseo0KcHUYzRJXYXK1aKu++XM3X9UZcqWUw1ad4laqYuG99zMA5vMvt0nDaX7JQCcUZJ13nC8cT/XeVhnofwu14krQOr+EaTcP55t5G8kdQk6/9Z5X6dyLEudtIpddvsy080xt8ucfjCXVpblb+WE/YF3/adPqPQJF6oqiTVVXPlyKrFFI7PvtpOvF1rqzuqbqqY/tNH8fcqedUhdBNSbvK7se+ltS/KVbf3xFfMNu5Rv/PeTMS11Xqu3IaunqY4X9zc/U756O/Fqbr3d/PXzMS91a177WQ1dcrtq1K6bOb5MXFlVNaG+anf+WJWZ/VbYUrfo4Keqw+AJqlKNRBVXrryq1bCF2Xf1qyeLLHUrX/peJTZNUfHVa6srbn0SqfPwe27ivavNvgOuuhypA4AzTilbpHb4rOUFnH3BpWvl7ToNgkjdjiDnvMsuX/YbSd2jOqd0ujq2xZzUybfv0tVDjq3VJEn1yRylhmRNNWOg5INPPrjm/H5zgR940oVLWmFke+PUFHXBkitUvzljVN2zm6i0cYNMdzxfIcf4+P+O1EVOvYm83fbTa65l8jPKuW74PHalzqv1FiwbPjloul9WSagRdd0vCyt1MlZNJMm0XNZrorpcnKn6ZWSptueNNnIncjb+lt8XKHXLnz+uajawurbWb5Wqek1YotJHz1EJTc5W7QeOMy1tRZG6tFEzrS9VNj5iBBOp8+577pKbrjT7Dl83E6kDAM9RR2e4zxqf9pn9hv5SJ8VF0NYHOccGu/z630DqZvjcZ9WMOambuHON9XDRtrna/M2LecqmP3h9bnc6+SYy1AeefDjJtlbndjHfijof8v0TnRT1IROpi8x6c2bhS3flPgzFcvfLSKg3eQje9N9nzYQ3dVo2Mi0Qk3atiXmpG5m105qEo3lbteL5b/KUjd3woCmTVjtpbQsldedlWr/PmnU517T8+bevOvyjaQH0111hru3ymw+aYzoNm2L+jdR5+z03eMUUs+/ApRPN+D95fRFM+fKkw4h+aunr9yJ1AOAJyvusyU/kTf2Yi6BdG+S46+3yNSUsdWf7rIXS5ZdPXKxLnXRzlOOCTYTQoF0LUz7/mW0hP/CadE4x22Y+elO+c8x+/BakLgbrzZ9NXz6TKwcid7EsdV6vN5kB03+s1Fe3iUPVsjd3ReXsl4WVuqad+prjRl2T41pet7n1YD/xtmdCSl39lM5m27hNj+aXs5seL7TULTn0H1W5Zh3T+ueXTaTO2++5vrMuyd1funJK92dpOfS3BEqX54z71iN1AFDiyAdxmQL2aeX7dbxdoKBtC3KMv/vlzBKWuqt9YU6L7LPG20WU1IWTPjMvyT2ufOV4s239R4+FnM1w5Ma5IT/wZJZK2Sbdtdwe6pG62Ks3iUyYktQ62XThG3/3yphc0iCS6k1mJ20zqLtq1r29uVbpmiaTFm387FBMLmkgXRr9x5WLt7oPX3XA/XpSh2eYcpl9MpTUlS1f0Wxb+Pgn+c6x9KkvCy11Z/W40IzDm3rPq7nbolnqouE9d8nNC8wss9INVFr6nGP/ZJv50qFKvGkxR+oAoKR41mfNXjm6gP1622/qj1wE7f+CHPMXu3xwCUudzLR5Q5Dca5/n7/a/l0Sa1Mk3fK3PTw+ZsVsXm2Nkpjv/L+DAWe/8GbhskvWgsnhC0A88Gf+We54fXnHtziUP9UhdbNXb3ENbVKWaVY0YyMyY0bT4eDTXmz9y7gtXWqIiLa0yaUq0LWnQvOv5ITNk0dbcSUj891z+7nbe3hOtWXp7jl8cVOpWvvhd7nlWHf7Bddyev+7C+VmGLL7NdSKWaJa6aH7P5bYKdmltzlVcX4QhdQDgxpX2m1UWDZd13Uq77CNdGI/a+210ETTJ0MDPAMd5KxVB6vrY2w6f5s8XU90v5RtCf504JyZxRgaDS7n8WdQPvG2njtBSF2P1JmssSfe9mo3qFvui45Ha/TJS3m+BkZY7OZe8D2O1+6WMd8uVOi1mbvvIhCdSLn8WVepWv3Yq7JY6+Tmk1a9R++55xvHR/TLy33PnLRiXTzSROgAobmTWyzsdb9qPdfbr7LL/fNtRJouLx7sI2k6d4zp7dVb6rMlVvrHLZge8XrhSV1fnpN2KKOP5ZN256khdwalQtZI5bt2HB1zLu08eZo0j2XRlyK4p/pm/3LqmyDakLnbqzf/Nd4ueHdQN/3mqxGZ0i8QxdV6rN2l9kxbVUIuLywx/ci7pFhbLY+rKV6pqjluw/0PX8k5DrbUYB87bFLL7pX92S7ful7ItXKk7d8a1YXdHlPF2sTqmLhI+4wLTa9qIQq+Th9QBQFHppXOPzju2kP2s863Oezo5vrxdKAMFbYVOqi19X+nIw7QsaD4+xDEFSZ2Q6bNm3jxhtxTWQOoKTsqArtbg/p3us9vJdM1Svujw3SE/8PyDzd0GkfulDKmL/nrzjweRhayLs7tetEid1+pNWhj8S02senuf6z4y25+U+7u0xarUNU8bYI29ytrpWi5LEkh5xvbDIaXOP6GK20Qpl1y7J2ypm7j1adX9sgWuOWfQeHOO2o1amn+fN3N9zEqdF99zHS7qqxq0b6lu/OJp1/J6KcnmXJmP3IjUAYAncRO0mMUrUjd133XmOPkQkXV4nGUyjbkpa9XUjBkI9YE36GqrdUZmGpMPpdy1fY69oJLaNGNMXQzU24Ln7jD7y3HOwf9InbfrTRZTln1lWvbAllX/dPDSSnHdvx6PaakbvX6fOU4W+Ja15pxlF6/eZcoSmrQy4+JCSV3viVebbTKbpnS3zF2/7rljqk6zNoUaUxcsdL/09ntOZruUfeVP51g/WVZhwEJLyGs0rFNsX4whdQCA1MWA1JkHLC1L5lvd5Pqq/7xLzeQI8k2ijImS8y17Y2eBC7PKN47VkxLMdvmAkwVeu44fbNbf6T5pqIqvUTXsD7zlb+WYxWL9aZrWxupC1Khunu2BC8bGktR5sd6S060WiIbntMxTT4ER+YtVqfNivcm5ZIZSnz3jnrTMdRp1rjmvbJOH1TGbF8b8kgaS9hdcZj1w109W3cbOU32nrFQpfS4ys0/K+abf+0aBi48vffILVSUhyZqARkucLGIuLWuyxl3HoZNUxSo1kLoof8/d8PmTqnZT6/9AtXq1zdp0sqSBXJ9si69eRS1+5R6WNAAApA6pK/xiw5dvX24eyuWhThZBrdW4npnqee3R/fn2d/vAk6z94ID5YKpUq5r5Zj+xeUPTHU++fazVxPoAC+ebR5E1XxjjRGRNrViWOq/Vm7x2OPU2YceqmJY6r9WbZPO3L6nhazNVo45nmyngZYbBqnVrmQffBc/fyTp1jtkph1+9XTVsm67Kx1dRZeLKqur1GpvlDK58+Gi+/d2kTnLlIx+otueNVvHVapkxdjUbNlf9MrLMhCfV61ndAbNePoHURfF7TpZBkIlQpJWwbIVyZpZgOZ8sxxBs+QWkDgCQuhiQOhKZUkciU+pI5EodiUypI0gdACB1SB1B6pA6pA6pI0gdUofUAQAgdUgdUofUEaQOqUPqkDqkDgAAqUPqCFKH1CF1SB1B6gAAkDqC1CF1SB1SR5A6gtQBACB1BKlD6ghSR5A6pA6pAwBA6pA6gtQRpA6pQ+qQOqQOAJA6gtQRpA6pQ+qQOoLUAQAgdQSpQ+qQOqSOIHUEqQMAQOqQOqQOqSNIHUHqkDqkDgAAqUPqCFJHkDqkjiB1AABRSfrsnA8HrNn37eD1DxwjZzaD1j14XD9kfhumjP/lvKz7qTePJHVq9s/h1FuPuTkvn7ty33fcM6/U266fW2fuq1zg78nMfQf7XLX/+wHLnzhGzny6TNt9ssOkPUkF1tuc3bv7LrvvB/6veyNdZuz+qdPUnLOROgCAEqDT1Oy2nTN2n0u8kuzO4dSbfNvJvfJOOk7J7hpOvXXJuLcl98s70Q+YPcKpt86Tdidzv7yUnN76eb1UQfXWYfLuxtwrL73fdvf1ZWWVRuoAAAAAAAAAqQMAAAAAAEDqAAAAAAAAAKkDAAAAAAAApA4AAAAAAACQOgAAAAAAAKQOAAAAAAAAkDoAAAAAAABA6gAAAAAAAJA6AAAAAAAAQOoAAAAAAAAAqQMAAAAAAACkDgAAAAAAAKkDAAAAAAAApA4AAAAAAACQOgAAAAAAAKQOqQOAmKLT1H3VOk/anUy8kS4z760VTr11n3R3Fe6Xd9Jh4r6EcOqtdea+ytwv7yRtSk6d8H5P3hHP/fJOOk3dFdaDep8rdlTgfnno9+SkPUlIHQBACZE+K+fd7vP2fNtjQc5xcoYzP+d42ozdX4VTb93m7DnSfS715pV0npp9Iqz32+ycp3Tdfcc980y9nUqfv69iwe+3vQ+kz8n5nnvmnXoL54uUrpl770rP3PtD9zkPHCdnPp2n7T4pcofUAQCUAN3m5Hy84dOX1R3qTXKGc+v3R1TajOwfwmqpm7/n3TVHX+K+eSC3//KmSs3I/iWceus5f8/rK955gfvmkaTN2H0ibXZ21YLrbe+hJW8+xz3zSOSLyLQp2Q0K/BJl5v33Zex6X11zRBEPpMe8h4+lTctOQeoAAJA6pA6pQ+oIUofUIXVIHVIHAIDUIXUEqSNIHVJHkDoAAKSOIHUEqUPqCFJHvCZ1rzikri5PegCA1BGkjiB1SB1Sh9SRyJK6PzqkripPegCA1BGkjiB1SB1Sh9SRyJK69xxSF8eTHgAgdQSpI0gdUofUIXUksqTua1vojvGUBwBIHUHqCFKH1CF1SB2JLKmr7mil+wtPeQAQyHL7F0SWY1uWvW05UkeQOqQOqUPqCFJHzrjUdXJI3WM8vgJEDs10Nukc0flE5yed73WO6tynM7AEpW6ezj91ZgXsO1pnTJjnbeX45RMsDyB1SB1Sh9QRpI4gdUhdgUx1PD+t4zEZIDIYpvOD/cb9m84unS062Tp/drypbyghqQvGP3QeCfO83e3zfmzLm1sWIHVIHVKH1BGkjiB1SF2B3O54/hvFozKA96mo85X9pp0eQvpO2Pt0+I2kLtHeL1ypG2Lvf/eZupGRLHXDrplhfnFfuGpq2MeULlPaHIPUUW9IXWzXWyxJXbTVXaxIXf/p15g66JuxKuxjSpcuY46JYan7m0PqGvG4DOB9Uu037IcF7LdE506dXo5t6+xjp9qyd8hnzZQkD9OytsmUMKUuy5d3TN1eX/6uk58UcH3j7f02RovUrX73gYK6k+amzlmNI+ZBZc3fH1LNurUzx6ZdNjDqpC4a6y1z/ybVsndHVbFaZVWmbJyqnpSgUkcPUEuP7IwaqYu2erv1u8NqzK2LVNO0Nqpy7epWvdVPVJ1GnasWvXxPVEldtP6u/PV98YY6u19nc46OI/tFjdTN2fdu2PVWu/FZnpa6Ofv+WuDP0LrfyEiSukaOa/87j8oAkUEL+037hU6FQh7rl7HbfNZ0twd91rg86bb5o122uAhSN0Bnq73tTz5rrN0VBVzLPHv/pdEmdaXjyqi2g3uETK/pIz3/oHL7z0fUqBvnq7IVy5sHzGiXumipt54ZF5n948qVVSkDuqrOY89X9VKSrZ9Rn2vWYzdHldRFQ73dcvxFlZxufXEiQtd+WG/VecwAldSmmdlWqlQpNSVnbdRJXbS85wIzcuPcXDGIRqkrXSZOndV9cMh0HjHd01KXsf2w2bdqYgMjb265YO4NkSR1cxxSt4VHZYDIoLTOW/Yb9zWdHjqlwjzWL2i/uEhXf7vsO581LW5hpE64wFe47pdrfL8O5t3m+3Wyl//oPKjTJVKlTlpHoqFL0TnD+5j9u44frMbdsSzqpS4a6i1j7zqzr7TwXPv+I3laDgYtn2zKEpo1iCqpi4Z66z/vUrOvSMyW7/P+ThqxYY5Vp0kJph6jSeqi5XelMyv+mGO+UGnSpXXUSl2FytUivvvlZTcesOpn6KRo6X75mkPq+vGoDBA5JOu84XgDf67zsM5CnzUBSVwBUvePIOWv2+UjfwOpuzXg+u/3Wd0437e3ndS5JFakTlrFLrt9menmmNtlTj+YSyvL8rdywn5Quf7TJ1T6hAtVlcSaKq58OZXYopHZd9vJ1wv9oHJW31Q1/aGN5u9T9qxD6iKg3uR1Zd9Lb1uSr2zrj6+YlhEp3/jvJ2Na6rxWb0NWT1MdL+5vfqZ89Xbi1dx6u/nr52Ne6rz4u9IfEXJpFZfW1nlPbkXqHFnz2s9q6JLbVaN23czxZeLKqqoJ9VW788eqzOy3wpa6RQc/VR0GT1CVaiRqeS6vajVsYfZd/erJQkndyKx7zb49xl0VDVJ3tv1lvfxM/0+nDI/JAJFFKVukdvis5QWcfcGla6XMgtQgiNTtCHLOu+zyZb+B1M21912lUz6gJXKVfa7jOjWjXerk23f54JdjazVJUn0yR6khWVPNGCh5YJEHjjm/31zgg4p04ZJWGNneODVFXbDkCtVvzhhV9+wmKm3cIPPtsa+QY3z8f0fqIqfeRN5u++k11zL5GeVcN3weu1Ln1XoLlg2fHDTdL6sk1Ii67pfRVnd9Zl5ijst85EYjmEidLXSv/2K6M5oW53pNVJeLM1W/jCzV9rzRRu5Ezsbf8vsCpW7588dVzQZWl+T6rVJVrwlLVProOSqhydmq/cBx+v9AubClbuD8m8y+52Wuiwap2+J4/tvA4zFA5FNHZ7j95v7MfnN/qZPiImjrg5xjg11+/W8gdQXhbzWcFO1SN3HnGutDqm1ztfmbF/OUTX/w+tzudPINcqgHleHrZpptrc7tYr7Ndj7k+yc6KepDJlIXmfXmzMKX7sp9iI3l7peRUG8iL5v++6yZ8KZOy0am5WjSrjUxL3VerrvZBzdbLT9Thpt/I3XOVrGd1qQ3zduqFc9/k6ds7IYHrbFtCfVNa1soqRMBk23NupxrWv7821cd/tG0APrrLZxr6jN5hdm31xVLzfg/eX0RzEo1ElRK3xFq2o7XI0Xqaul8Y//sp3Qa8zgMEF1Iy1e2/SZ/zEXQrg1y3PV2+RoPSN0N9vmui3apk26OclywiRAatGthyuc/sy3kg0qTzilm28xHb8r/wPH4LUhdDNabP5u+fCZXDkTuYlnqvF5vMgOm/1ipr24Th6plb+6Kytkvo6XubvjPU6pqnZqm9c8vm0jdr2naqa85btQ1Oa7ldZtbIj3xtmdCSl39FGtG0XGbHs13jstverxQUpd2yazc/aUrZ+v+F5uWQ39LoEwGM3rdfZEgdRscrXQP8PgLEHnIB3FBfaZb+X4drxYoaNuCHOPvfjnTA1J3uy/8Rc89JXXhRLrp+I8rXznebFv/0WMhZzOUGdVCPajILJWyTbpruT3UI3WxV28SmTAlqXWy6cI3/u6VMbmkQSTVm8xO2mZQd9Wse3tzrdKlUCYt2vjZoZhc0iAS6q7dhT2NgC9+dUfutmiWunCSNmpm7nHl4q1u31cd+Mj1vKnDM0z5+XM2hpS6suUrmm0LH/8k3zmWPvVloaRu0JU3q1a9h5luoNLS5xz7J9vkPOXjq6hlT//Xy1LX0GdNbifX+7NOOx6PASKLZ33WgNjRBezX236jf+QiaP8X5Ji/2OWDS1jqREgf8llr49UOUv6Ofb5hkSZ1MqlB6/PTQ2bs1sW5A+v9H0SBs975M3DZJOsDb/GEoA8qMv4t9zw/vOLanUse6pG62Kq3uYe2qEo1qxoxkJkxo2nx8Wiut9yJN/S5L1xpPfBKS6tMmhJtSxpEet3JpEQ+l4lYolnqpBWredfzQ2bIoq3mmJUvfZ97v+XvbuftPdGaXbnn+MVBpW7li9/lnmfV4R9cx+356604ftYGrbuYc120/G4vS90DDpHew+MxQORxpf0G/toWntIu+5yjc9SXf3Hv5Y5fAEMDn5Ud561UBKnrY287HObPcb+9v/xZ0bFdZu70dwP9l065SJO6wnQpkjEc/jpxTkzijAzil3L5s6gPKttOHaGlLsbq7eIb5pnWg5qN6hb7ouOR2v0yUt5vgZGWOzmXvA9jtfulF+tOfg5p9ZNWVec4Prpfqjzj3XKlTouZ2z4y4YmUy59FlbrVr50qVEtdQel+2YJ8oukxqRvueJ771mctPg4AEYbMenmn4838sc5+nV32n287ymRx8XgXQdvps2aWlCUEVvqsyVX8A21nB7xeuFJX12ctQyAPeDKeb7sv73p3gSTqfGCf51OftTbdXoeM/k8+l0ryRnplTF2FqpXMces+POD+IT55mDUeYdOVIbsU+Wdsc+tSJNuQutipN3+LRYueHcx4n5JaAywSx9R5rd6k9U1aVEMtLi4zM8q5ZKbHWB5T57W6G3ZtZtjdEYtrfchIHFNXvlJVc9yC/R+6lncaaq2hOXDeppDdL/2zW7p1v5RtxSl1nUdMK/Q6eb+h1En9f+n4/7WYR2OAyKaXzj0+q5uiCNnP9rc17+nk+PJ2oQwUtBU6qbb0faUjD9OyoPn4EMcUJHVCps+aefOELWc1CvgZZNYmmQjlr/Y1/Oiz1tDb8lt86+QVqUsZ0NUaJL7TfXY7mWZbyhcdvjvkg4p/kgC3wf9+KUPqor/e5MHfZy9kXZzd9aJF6rxWb9Iy5F9qYtXb+1z3kVkapdzfFTFWpc5rdTf/6dvUeQvGuabr+MG53Wbl3xetnxWzUtc8bYA11jFrp2u5LEkg5RnbD4eUOv+EKm4TpVxy7Z6wpU5a9VL6XKTqtmivlj75hWt5YlNrMp1LNz7iNamTnk2vOoROZgovyyMxQOzhJmgxi1ekbuq+68xxsmitrJ/kLJNpzE1Zq6ZmrEeoB5VBV1utMzJDnDwo5q7JdOwFldSmGWPqYqDeFjx3h9lfjpPuaiUpdJEqdV6sN1kEW/aV6fQDW1b90/hL69J1/3o8pqUuEn5X0v0yf0av32eOE1GSteacZRev3mW1ZDZpZcbFhZK63hOvNttkNk0Rr9z16547puo0a1OoMXUy26XsK386x/rJsgo9Ll9oyqrVaaiyXj7hJamT4SkPOYROvpRnCQMApA68InXmAUvLkhxbO7m+6j/vUjM5QoeL+poxUXK+ZW/sLHBB3Ru/eFpVT0ow2+XBRBbmlW+LZd2m7pOGqvgaVcN+UJEHEnkY8adpWhtzrIzPcm4PXOg3lqTOi/WWnG59k93wnJZ56ikwIn+xKnVerDc5l8xQah6Yq8SblrlOo84155Vt8rA6ZvPCmF/SwIt1h9SFl/YXXGaOrVE/WXUbO0/1nbLStJaVLl3GnG/6vW8UuPi4tKpVSUiyWkC1xMki5ucMGm/WmOs4dJKqWKVG2FK35NDnqkZSU7N/ldr1zNp0sqSBXJ/1Pqyupt79ipeWNJD5BR50CN1POv14kgNA6pA6j0mdfLN8+fbl5qFcHurKlI1TtRrXM1N0rz26P/9YDpcHFcnaDw6o1NEDVKVa1cw3+4nNG5rueDKIv1YT68MwnC55Imu+MMaJyJpasSx1Xqs3ee1w6m3CjlUxLXVeqzfJ5m9fUsPXZqpGHc82U/fLzJBV69YywrLg+TtZp87DdYfUFRxphRt+9XbVsG26WSpAFvquXq+xWc7gyoeP5tvfTeokVz7ygZGv+Gq1zBi7mg2bmyUIpIWtej2r+224rWuyDIJMhCKthHHlKuiUN+eT5RiCLb9whqSuns+ahM7/O1yG20zgKQ4AqUPqSkjqSGRKHYlMqSORK3UkMqWO/OZSJ7ObT9T5j0PoTulczhMcACB1SB1SR5A6gtQhdcS7UtdcZ47O3wJ6WcgYuoE8vQEAIHVIHUHqCFKH1BFvSp2sPfyDz73b/HM6yTy5AQAgdUgdQeoIUofUEe9K3SUuMidrD1/qs9YoBgAApA6pI0gdQeqQOuJhqRuh8/90jujc6LNmt0TmAACQOqSOIHUEqUPqSIROlAIAAEgdUkeQOoLUIXUIFVIHAIDUEaSOIHVIHVKH1BGkDgAAqSNIHVKH1CF1BKlD6gAAAKlD6pA6pI4gdUgdUofUAQAAUofUEaSOIHVIHUHqAACQOoLUEaQOqSNIHUHqAADOLOmzct7QD6SKeCNpmbs/DqveZuc8w/3yTrrMyP5fWF+izM55mPvlnXSelv1dnyt2VCi43vbs4H55qd52/5g+eV/Nguotbcbem7hfHqq3qdk/dZ64pyFPXgAAAAAAAAAAAAAAAAAAAAAAAAAAAAAAAAAAAAAAAAAAAAAAAAAAAAAAAAAAAAAAAAAAAAAAAFFLGZ3+OtfpPK3zN517uS0AAAAAAADeppLOIp3PdFRADnB7AAAAAAAAvEsPnQ9cZM6fB7hFAAAAAAAA3mSgzo8BEveyziyd9jrluEUAAAAAAADeJEHnK4fMvaPTi9sCAAAAAAAQGaxxCN0LOvHcEgAAAAAAgMjhoEPq2nE7AAAAAAAAIovDDqmrx+0AAAAAAABA6gAAAAAAAACpAwAAAAAAgGKRul6Z2W+lZmQrQkj0p3NG9il+NQIAAABEmdT1mZn98QdPbVfqzTsIIVGewfN2HeNXIwAAAABSRwhB6gAAAAAAqSOEIHUAAAAAgNQRQpA6AAAAAKQOqSMEqQMAAAAApI4QgtQBAAAAAFJHCEHqAAAAAACpI4QgdQAAAABIHSEEqQMAAAAApI4QgtQBAAAAAFJHCEHqAAAAAJA6pI4QpA4AAAAAkDpCCFIHAAAAAEgdIQSpAwAAAACkjpRsypQubf4vcS+QOgAAAABA6qIuq6ZeqBz3Oqy8dNfCEr+uvesy1J51UzwndcV5XQSpAwAAAIhmXnFIRB2kruSy+9rJanCPtnnSq2MLc+/Ll4vLVyZ5Z19WiV9X84aJaljv9p6TuuK8LoLUAQAAFJYs+wF5+Rl47eX2a2dF6L3z4vWfyfosaRrqfGP/fP/TKYXU/bb5y32rjATVqVn1jLz+50/eYF7fa1JX3NdFkDoAAIhdzvaF303qb47j5un8U2cWUhRx1z9aZ0zAtjNZnyVJiv3/1v9/eFeonZG6Myt1OWunqN4dW6pqlSuaVr3G9Wqp6SN7qY8PXue6/6M3zVTnp7dWtatXVnFlSquEGlVU9/bN1J1Xj1O/vHG72Wf0gNR8v8vqJ1Yv8Jo/feJ6NeHCdJVYs4q5lhaNEtU1M4apk69vCyp13x2+Va2eNkS1a9FAxVcop8rGlVENEmuo8YO7qqP71+bZt6DrKsy5CFIHAADgl7qTOo8VkG1IUVRc/z90Hony/9fNdW7W+cHx0Py5Tn2kzptSN/OSPmafGlXj1ezRfdXKjAvVwG5tzLaaVSupt/etyrP/77KuMGXVq8SrSUO7qxVTBpvjmiTVMttnXdLX7Hdoy1yVOco6twjSrYvGqB2rJoS83uMv3qKaNUgwx6SmNFZLrrhAzRnTT53dpK4aNyhNlSsbl0/qRPbOS2tltst+8y89V111+QDVtW2y2Sbi6ZTTUNdV2HMRpA4AAMAvdV8jRTFx/Yn2a0eT1FXWmayzQme7zp98+VuZP9FpU9CJkLozI3WP3TzLlLdsVEd98fSNecq2LBprykRonNs7nNXQbH9z17I82799abNKSa5n5PC/z24y236/eU6hujmumznc7H9ul1bq5yO3527/8ZWtqlu7Zrn/r9x+BpGwH17ZkqdsRL8Opmzh+AF5tge7rqKciyB1AACA1BVF6rJ8+cdgLbO3TdJpqrNX5986P+m8b+9bxuVc8Tor7Yfx7+z9P9a5Vye5mKRorM7z9s/5o8/qaigtjw0C9nvOPvelQc6TpPOzznGdisV4/dfZ265y2b+CXfbtad67vUFkJ1h9CqV1pum8bN+7n+xjcnTOcbmeov4fOB12+IJ3GT5ll9cM50RI3ZmROpksRcrvW5+Rr0y6UUrXRyn/24Nrcrc3Taqdb5s/J17dGpY8BUvnlCZmf+neGVj2+C2zXaXuo8fWq/2bMtUr9yzOd4zMbin7X9CtdVjXVZRzEaQOAACQuuKSuoX2trU6n/msaeRvtgXgpyDSEKfzpF32rs4mnY06r9rbvnARr8JK3RZ7/690Nuus1jlob/uvTmvHvpN9oVuy5tvldxfz9RdF6gr72gN0ttplIoEyfu6KEPUpE4o8YG//0D52lS1qP9lyfEHANRXl/8Dpcm8IqTtp11V1pM67UietalL+ycENruUyjkzK7109MXfb3LH9zbaGdWqozQvHqH8+ui7o6xdW6iqWLxv0er58ZpOr1AVGWgz//eRG9dmhjeqB66eZ/WW8YFGuK5xzEaQOAACQuuKSunn2thM6CwL2H2uXvR+wfbBDSioElD1ol11/GlLnP//fdWoHlM20y151bKvms8ZhSaq4nO91+5hexXz9RZG6orz2BUGk1a0+L7e3/dlndXF0MsL3a0tf3Gn+HzhdpJ6m28IpAvcXF7n7OEDekTqPSJ2MH/OFOVmTdIv0H3fqyDYjdjKJib9cWu9kYpUjO5cWWepkghL/+QK7PvpbDkuVKuUqdQc3z1Z9U88yE5u4XX9hpK6w5yJIHQAAIHXFLXV/9eWfNr6sz+oKJ+XO7neNdIbqpLu8xhh7/9+fhtQ9Zu97iUuZXON7dvlZju3329suC9g/2fdrq1WpYr7+okhdUV67MFL3rL1tbJB76x+71u80/w+UBC18Vqvsjz4mSvG01Imc+etIJgO5etKgoHn6tvn5jpcxeDLByNjzO5vZL/3nkslNSkLqnNfr3H7Pyglmm0yiMuPi3mrXmklmbJy89oY5IwoldUU5F0HqAAAAqQv3m/ItYUrd74K81jG7vFKI65EyWRy6rs5Ie//nT0PqvrL3DfYw7++6N96xbVgQ8fGPF1tdAtdf1DF1hX3twkidf223RkFe706Xay6O/wPFSWuHuLOkgUe7X8psjlL+3kPXnNbriHAd2DTTzJYp5/tD9tVF6n7pn93SrfulbHOTOll+Qbbdv2FavmMe2ji9UFJXlHMRpA4AAJA6/9ijJwpIZphSd12Q1/raLg/syjfQZ7UKfRdEJosqdXGFENaljuOkRelLn9XK4+yC+Wd732YlcP1FlbrCvna4UlfRcY6KQe7vWpf6Lur/gZKksX3v/C3SpZE6b0ndhT3bmfLtyy93LffPYumMjKGTCUXc9pflB+R8sl5dUaROlhjwBZkoxT9RiVPqnF1I5e+Bx0wZ3iNsqSvquQhSBwAASF1xd78szAP9RN+vY7Bu0xnns8aKiXwsOk2pK+MQE5lA5NoQ6R9w7DZf3i6YKfa/DwfsV1zXXxSpK8prhyt15R33Lj7I/V1vl6/3uNQJrzh+njpInbekTmZ69Nlj4gInPJF/16tdzawb9/3LVndIWbNO9u/SuonpLhnYWtenU0tTLuPSZNtzdyww/5aFycO5XunqKfvLmDY5n3/7sRduUW2aJbmOqZOfTbb9ac+KfBIoi4ZLWdvm9fOUBbuuopyLIHUAAIDUnUmp+6e97WKX/S/ynX73yy/sfVsU8ufrHiA/19j/zgjYr7iu3y9IC13O0zSI1BXltQvT/dLfVbJJkHt0l10+PwKk7rBD6uohdd5bfHzqiJ5mn1rVKpmFyFdPG6KuGNJNVYmvYCQqsBVv8rDuZv/6idVN69WySQPNxCkiO7K9Z4cWuUIms0bGlSltznPZwDSz//+euynotcg4vaSE6uY8InGySLjMwCmvJQud+2frdB6zdOLA3Nk4s6YOUdfNHmGWHZCf5/92LzddOuX1F40/X71018KQ11WUcxGkDgAAkLozJXXO7pFxLvtvLwape9Ted0qQ8lDrlx31WbNgyviv9+2/V3OUF+f1r7K3rXM5z2gXqSvqaxdG6g7Z2y4Pcn/etcu7I3XkdKVOsvvayaaVrXqVeFWmdGmVWLOKGtqrvXpm23zXWShF9KQbopxX5KhyfHnVqVVjtX7WRbmtev5sXTxW1a1V1QhRcv3a6qtnbwp5LR8cWKtGD0g1IiXHNG+YaARLukQ2SbLGvDnXw5O/r5k+1KypV6FcWdO6eOkFXdQ/HrbGCd684BIz1q9qpQpq29LLQl5XUc9FkDoAAEDqzlRL3b/tbe0C9pXZGz/2/TqlflGlbqi97wc+a2yVE/n3p7awuY0b87fO+SdI2euyT3Fdv3/5gLd9eWeGTNR5x2fNGvltMbx2H597N1K3+hxlb5PXD1zeYZzPfZZLpI4QgtQBAADEmNSts7f9y2e1Vi32WdPwy0QlHXzWeLFfdDbo9CiC1Al32PvLOWUGz5U6O3SO2+cO1orX0j7uuP3nQJd9iuv6ZXFsf1fRP/qsBbvlGmUafhnzJ4ukf1cMry0zY560t2f7rBa96kHq02fvI9ul1fImnzXz50O2ZEp9pgbsj9QRQpA6AACAGJO6cjorfNa089K9UVrOdus0t8vn2kIjH77Tiyh1wqU6z+n8zxYSkaX9vrxrrLlxxH6tz3zua6sV5/WLRD5uS6ScSxbRnmmXfWRf9+m+tpBp/zwnbFmrEULqStnS+4p9XT/5rLF8spxBssv9QOoIIUgdAAAAACB1hBCkDgAAAACQOkIIUgcAAACA1BFCkDoAAAAAQOoIIUgdAAAAACB1hBCkDgAAAACpQ+oIQeqQOgAAAACkjhCC1AEAAAAAUkcIQeoAAAAAAKkjhCB1AAAAAEgdUkcIUgcAAAAASB0hBKkDAAAAgN9Y6nrO2PXH1IxsRQiJ/nTOyD7Fr0YAAACAKJM6AAAAAAAAQOoAAAAAAAAAqQMAAAAAAAA/Tzikrg23AwAAAAAAILK4xiF1z+hU5JYAAAAAAABEDnV0vnaI3Z90unBbAAAAAAAAIocBOj84xE7ytM5knRY6pbhFAAAAAAAA3qaPzr8CxM6fEzrZ3CIAAAAAAABvU1Vnpc5/XcTuALcHAAAAAAAgMiinM0Rns86rOp/o3MdtAYgd/j9tKA2aWSPd8gAAAABJRU5ErkJggg==)"
      ],
      "metadata": {
        "id": "UEbnzf0HiUQy"
      }
    },
    {
      "cell_type": "code",
      "source": [
        "from sklearn.model_selection import GridSearchCV, train_test_split\n",
        "import numpy as np"
      ],
      "metadata": {
        "id": "VAPSu9uUhLW5"
      },
      "execution_count": 12,
      "outputs": []
    },
    {
      "cell_type": "code",
      "source": [
        "# Set the parameters for the grid search\n",
        "param_grid = {\n",
        "    'criterion': ['gini', 'entropy'],\n",
        "    'max_depth': [None, 10, 20, 30, 40, 50],\n",
        "    'min_samples_split': [2, 10, 20],\n",
        "    'min_samples_leaf': [1, 5, 10]\n",
        "}\n"
      ],
      "metadata": {
        "id": "_AmDo1sniulr"
      },
      "execution_count": 13,
      "outputs": []
    },
    {
      "cell_type": "code",
      "source": [
        "dt = DecisionTreeClassifier()"
      ],
      "metadata": {
        "id": "VDNNoi4nixWv"
      },
      "execution_count": 14,
      "outputs": []
    },
    {
      "cell_type": "code",
      "source": [
        "# k = 5\n",
        "grid_search = GridSearchCV(estimator=dt, param_grid=param_grid, cv=5, scoring='accuracy')"
      ],
      "metadata": {
        "id": "XeGL9A8-iztV"
      },
      "execution_count": 15,
      "outputs": []
    },
    {
      "cell_type": "code",
      "source": [
        "grid_search.fit(X_train, y_train)"
      ],
      "metadata": {
        "colab": {
          "base_uri": "https://localhost:8080/",
          "height": 117
        },
        "id": "tIrRE1eIi3Fj",
        "outputId": "3e98fec0-04c4-465e-c79f-91993a7e6a19"
      },
      "execution_count": 16,
      "outputs": [
        {
          "output_type": "execute_result",
          "data": {
            "text/plain": [
              "GridSearchCV(cv=5, estimator=DecisionTreeClassifier(),\n",
              "             param_grid={'criterion': ['gini', 'entropy'],\n",
              "                         'max_depth': [None, 10, 20, 30, 40, 50],\n",
              "                         'min_samples_leaf': [1, 5, 10],\n",
              "                         'min_samples_split': [2, 10, 20]},\n",
              "             scoring='accuracy')"
            ],
            "text/html": [
              "<style>#sk-container-id-2 {color: black;background-color: white;}#sk-container-id-2 pre{padding: 0;}#sk-container-id-2 div.sk-toggleable {background-color: white;}#sk-container-id-2 label.sk-toggleable__label {cursor: pointer;display: block;width: 100%;margin-bottom: 0;padding: 0.3em;box-sizing: border-box;text-align: center;}#sk-container-id-2 label.sk-toggleable__label-arrow:before {content: \"▸\";float: left;margin-right: 0.25em;color: #696969;}#sk-container-id-2 label.sk-toggleable__label-arrow:hover:before {color: black;}#sk-container-id-2 div.sk-estimator:hover label.sk-toggleable__label-arrow:before {color: black;}#sk-container-id-2 div.sk-toggleable__content {max-height: 0;max-width: 0;overflow: hidden;text-align: left;background-color: #f0f8ff;}#sk-container-id-2 div.sk-toggleable__content pre {margin: 0.2em;color: black;border-radius: 0.25em;background-color: #f0f8ff;}#sk-container-id-2 input.sk-toggleable__control:checked~div.sk-toggleable__content {max-height: 200px;max-width: 100%;overflow: auto;}#sk-container-id-2 input.sk-toggleable__control:checked~label.sk-toggleable__label-arrow:before {content: \"▾\";}#sk-container-id-2 div.sk-estimator input.sk-toggleable__control:checked~label.sk-toggleable__label {background-color: #d4ebff;}#sk-container-id-2 div.sk-label input.sk-toggleable__control:checked~label.sk-toggleable__label {background-color: #d4ebff;}#sk-container-id-2 input.sk-hidden--visually {border: 0;clip: rect(1px 1px 1px 1px);clip: rect(1px, 1px, 1px, 1px);height: 1px;margin: -1px;overflow: hidden;padding: 0;position: absolute;width: 1px;}#sk-container-id-2 div.sk-estimator {font-family: monospace;background-color: #f0f8ff;border: 1px dotted black;border-radius: 0.25em;box-sizing: border-box;margin-bottom: 0.5em;}#sk-container-id-2 div.sk-estimator:hover {background-color: #d4ebff;}#sk-container-id-2 div.sk-parallel-item::after {content: \"\";width: 100%;border-bottom: 1px solid gray;flex-grow: 1;}#sk-container-id-2 div.sk-label:hover label.sk-toggleable__label {background-color: #d4ebff;}#sk-container-id-2 div.sk-serial::before {content: \"\";position: absolute;border-left: 1px solid gray;box-sizing: border-box;top: 0;bottom: 0;left: 50%;z-index: 0;}#sk-container-id-2 div.sk-serial {display: flex;flex-direction: column;align-items: center;background-color: white;padding-right: 0.2em;padding-left: 0.2em;position: relative;}#sk-container-id-2 div.sk-item {position: relative;z-index: 1;}#sk-container-id-2 div.sk-parallel {display: flex;align-items: stretch;justify-content: center;background-color: white;position: relative;}#sk-container-id-2 div.sk-item::before, #sk-container-id-2 div.sk-parallel-item::before {content: \"\";position: absolute;border-left: 1px solid gray;box-sizing: border-box;top: 0;bottom: 0;left: 50%;z-index: -1;}#sk-container-id-2 div.sk-parallel-item {display: flex;flex-direction: column;z-index: 1;position: relative;background-color: white;}#sk-container-id-2 div.sk-parallel-item:first-child::after {align-self: flex-end;width: 50%;}#sk-container-id-2 div.sk-parallel-item:last-child::after {align-self: flex-start;width: 50%;}#sk-container-id-2 div.sk-parallel-item:only-child::after {width: 0;}#sk-container-id-2 div.sk-dashed-wrapped {border: 1px dashed gray;margin: 0 0.4em 0.5em 0.4em;box-sizing: border-box;padding-bottom: 0.4em;background-color: white;}#sk-container-id-2 div.sk-label label {font-family: monospace;font-weight: bold;display: inline-block;line-height: 1.2em;}#sk-container-id-2 div.sk-label-container {text-align: center;}#sk-container-id-2 div.sk-container {/* jupyter's `normalize.less` sets `[hidden] { display: none; }` but bootstrap.min.css set `[hidden] { display: none !important; }` so we also need the `!important` here to be able to override the default hidden behavior on the sphinx rendered scikit-learn.org. See: https://github.com/scikit-learn/scikit-learn/issues/21755 */display: inline-block !important;position: relative;}#sk-container-id-2 div.sk-text-repr-fallback {display: none;}</style><div id=\"sk-container-id-2\" class=\"sk-top-container\"><div class=\"sk-text-repr-fallback\"><pre>GridSearchCV(cv=5, estimator=DecisionTreeClassifier(),\n",
              "             param_grid={&#x27;criterion&#x27;: [&#x27;gini&#x27;, &#x27;entropy&#x27;],\n",
              "                         &#x27;max_depth&#x27;: [None, 10, 20, 30, 40, 50],\n",
              "                         &#x27;min_samples_leaf&#x27;: [1, 5, 10],\n",
              "                         &#x27;min_samples_split&#x27;: [2, 10, 20]},\n",
              "             scoring=&#x27;accuracy&#x27;)</pre><b>In a Jupyter environment, please rerun this cell to show the HTML representation or trust the notebook. <br />On GitHub, the HTML representation is unable to render, please try loading this page with nbviewer.org.</b></div><div class=\"sk-container\" hidden><div class=\"sk-item sk-dashed-wrapped\"><div class=\"sk-label-container\"><div class=\"sk-label sk-toggleable\"><input class=\"sk-toggleable__control sk-hidden--visually\" id=\"sk-estimator-id-2\" type=\"checkbox\" ><label for=\"sk-estimator-id-2\" class=\"sk-toggleable__label sk-toggleable__label-arrow\">GridSearchCV</label><div class=\"sk-toggleable__content\"><pre>GridSearchCV(cv=5, estimator=DecisionTreeClassifier(),\n",
              "             param_grid={&#x27;criterion&#x27;: [&#x27;gini&#x27;, &#x27;entropy&#x27;],\n",
              "                         &#x27;max_depth&#x27;: [None, 10, 20, 30, 40, 50],\n",
              "                         &#x27;min_samples_leaf&#x27;: [1, 5, 10],\n",
              "                         &#x27;min_samples_split&#x27;: [2, 10, 20]},\n",
              "             scoring=&#x27;accuracy&#x27;)</pre></div></div></div><div class=\"sk-parallel\"><div class=\"sk-parallel-item\"><div class=\"sk-item\"><div class=\"sk-label-container\"><div class=\"sk-label sk-toggleable\"><input class=\"sk-toggleable__control sk-hidden--visually\" id=\"sk-estimator-id-3\" type=\"checkbox\" ><label for=\"sk-estimator-id-3\" class=\"sk-toggleable__label sk-toggleable__label-arrow\">estimator: DecisionTreeClassifier</label><div class=\"sk-toggleable__content\"><pre>DecisionTreeClassifier()</pre></div></div></div><div class=\"sk-serial\"><div class=\"sk-item\"><div class=\"sk-estimator sk-toggleable\"><input class=\"sk-toggleable__control sk-hidden--visually\" id=\"sk-estimator-id-4\" type=\"checkbox\" ><label for=\"sk-estimator-id-4\" class=\"sk-toggleable__label sk-toggleable__label-arrow\">DecisionTreeClassifier</label><div class=\"sk-toggleable__content\"><pre>DecisionTreeClassifier()</pre></div></div></div></div></div></div></div></div></div></div>"
            ]
          },
          "metadata": {},
          "execution_count": 16
        }
      ]
    },
    {
      "cell_type": "code",
      "source": [
        "# this is our best estimator\n",
        "best_dt = grid_search.best_estimator_\n"
      ],
      "metadata": {
        "id": "ei9DO1NBi7D6"
      },
      "execution_count": 17,
      "outputs": []
    },
    {
      "cell_type": "code",
      "source": [
        "# Predict on the testing data\n",
        "y_pred = best_dt.predict(X_test)"
      ],
      "metadata": {
        "id": "cwU9L8zwi_xd"
      },
      "execution_count": 18,
      "outputs": []
    },
    {
      "cell_type": "code",
      "source": [
        "# Print the classification report\n",
        "print(\"Classification report for the best Decision Tree model:\")\n",
        "print(classification_report(y_test, y_pred))\n",
        "\n",
        "# Optionally, print the best parameters found\n",
        "print(\"Best parameters found:\", grid_search.best_params_)"
      ],
      "metadata": {
        "colab": {
          "base_uri": "https://localhost:8080/"
        },
        "id": "tMA1YGtQjCP8",
        "outputId": "3d9557d6-6d2f-40ef-d017-a87dbfb7fc44"
      },
      "execution_count": 19,
      "outputs": [
        {
          "output_type": "stream",
          "name": "stdout",
          "text": [
            "Classification report for the best Decision Tree model:\n",
            "              precision    recall  f1-score   support\n",
            "\n",
            "           0       1.00      1.00      1.00        10\n",
            "           1       1.00      1.00      1.00         9\n",
            "           2       1.00      1.00      1.00        11\n",
            "\n",
            "    accuracy                           1.00        30\n",
            "   macro avg       1.00      1.00      1.00        30\n",
            "weighted avg       1.00      1.00      1.00        30\n",
            "\n",
            "Best parameters found: {'criterion': 'gini', 'max_depth': None, 'min_samples_leaf': 5, 'min_samples_split': 2}\n"
          ]
        }
      ]
    },
    {
      "cell_type": "markdown",
      "source": [
        "# Regression\n",
        "## Predict a continous outcome\n",
        "## For example:\n",
        "1. Salary\n",
        "2. Job Satisfaction\n",
        "3. Sales Volume\n",
        "4. Burnout"
      ],
      "metadata": {
        "id": "sV0VuFEDjQDS"
      }
    },
    {
      "cell_type": "code",
      "source": [
        "# download data from Egyn's github\n",
        "# https://github.com/egynzhu-personal/siop-python-seminar-2024/blob/main/data/hr_data.csv\n",
        "!wget hr_data.csv https://raw.githubusercontent.com/egynzhu-personal/siop-python-seminar-2024/main/data/hr_data.csv"
      ],
      "metadata": {
        "colab": {
          "base_uri": "https://localhost:8080/"
        },
        "id": "AqV2pCJnjRKO",
        "outputId": "9fdecd05-905c-468b-d0c9-58b79a13eb25"
      },
      "execution_count": 20,
      "outputs": [
        {
          "output_type": "stream",
          "name": "stdout",
          "text": [
            "--2024-04-17 17:26:21--  http://hr_data.csv/\n",
            "Resolving hr_data.csv (hr_data.csv)... failed: Name or service not known.\n",
            "wget: unable to resolve host address ‘hr_data.csv’\n",
            "--2024-04-17 17:26:21--  https://raw.githubusercontent.com/egynzhu-personal/siop-python-seminar-2024/main/data/hr_data.csv\n",
            "Resolving raw.githubusercontent.com (raw.githubusercontent.com)... 185.199.111.133, 185.199.109.133, 185.199.110.133, ...\n",
            "Connecting to raw.githubusercontent.com (raw.githubusercontent.com)|185.199.111.133|:443... connected.\n",
            "HTTP request sent, awaiting response... 200 OK\n",
            "Length: 51458 (50K) [text/plain]\n",
            "Saving to: ‘hr_data.csv.2’\n",
            "\n",
            "hr_data.csv.2       100%[===================>]  50.25K  --.-KB/s    in 0.001s  \n",
            "\n",
            "2024-04-17 17:26:21 (40.2 MB/s) - ‘hr_data.csv.2’ saved [51458/51458]\n",
            "\n",
            "FINISHED --2024-04-17 17:26:21--\n",
            "Total wall clock time: 0.3s\n",
            "Downloaded: 1 files, 50K in 0.001s (40.2 MB/s)\n"
          ]
        }
      ]
    },
    {
      "cell_type": "code",
      "source": [
        "import pandas as pd\n",
        "from sklearn.preprocessing import OneHotEncoder\n",
        "from sklearn.linear_model import LinearRegression\n",
        "from sklearn.metrics import mean_squared_error\n",
        "\n",
        "df = pd.read_csv('hr_data.csv')\n"
      ],
      "metadata": {
        "id": "sRjW78uallxG"
      },
      "execution_count": 21,
      "outputs": []
    },
    {
      "cell_type": "code",
      "source": [
        "# inspect data\n",
        "# we see NaN\n",
        "\n",
        "df.head()"
      ],
      "metadata": {
        "colab": {
          "base_uri": "https://localhost:8080/",
          "height": 206
        },
        "id": "Pmd6Kx0Ol7Py",
        "outputId": "ce9bb158-bb1e-4c90-95b6-9655710239bc"
      },
      "execution_count": 22,
      "outputs": [
        {
          "output_type": "execute_result",
          "data": {
            "text/plain": [
              "    age  tenure  performance  attrition   salary department\n",
              "0  46.0     4.0     0.451688  Regretted  87700.0         IT\n",
              "1  29.0     0.0          NaN  Retrained  35000.0  Marketing\n",
              "2  48.0    13.0     0.596788  Retrained  75500.0    Finance\n",
              "3  46.0     8.0     0.520668  Retrained  29400.0  Marketing\n",
              "4  24.0     0.0          NaN  Retrained  64500.0  Marketing"
            ],
            "text/html": [
              "\n",
              "  <div id=\"df-8b8e4e92-5848-4679-84e7-29416cdd4620\" class=\"colab-df-container\">\n",
              "    <div>\n",
              "<style scoped>\n",
              "    .dataframe tbody tr th:only-of-type {\n",
              "        vertical-align: middle;\n",
              "    }\n",
              "\n",
              "    .dataframe tbody tr th {\n",
              "        vertical-align: top;\n",
              "    }\n",
              "\n",
              "    .dataframe thead th {\n",
              "        text-align: right;\n",
              "    }\n",
              "</style>\n",
              "<table border=\"1\" class=\"dataframe\">\n",
              "  <thead>\n",
              "    <tr style=\"text-align: right;\">\n",
              "      <th></th>\n",
              "      <th>age</th>\n",
              "      <th>tenure</th>\n",
              "      <th>performance</th>\n",
              "      <th>attrition</th>\n",
              "      <th>salary</th>\n",
              "      <th>department</th>\n",
              "    </tr>\n",
              "  </thead>\n",
              "  <tbody>\n",
              "    <tr>\n",
              "      <th>0</th>\n",
              "      <td>46.0</td>\n",
              "      <td>4.0</td>\n",
              "      <td>0.451688</td>\n",
              "      <td>Regretted</td>\n",
              "      <td>87700.0</td>\n",
              "      <td>IT</td>\n",
              "    </tr>\n",
              "    <tr>\n",
              "      <th>1</th>\n",
              "      <td>29.0</td>\n",
              "      <td>0.0</td>\n",
              "      <td>NaN</td>\n",
              "      <td>Retrained</td>\n",
              "      <td>35000.0</td>\n",
              "      <td>Marketing</td>\n",
              "    </tr>\n",
              "    <tr>\n",
              "      <th>2</th>\n",
              "      <td>48.0</td>\n",
              "      <td>13.0</td>\n",
              "      <td>0.596788</td>\n",
              "      <td>Retrained</td>\n",
              "      <td>75500.0</td>\n",
              "      <td>Finance</td>\n",
              "    </tr>\n",
              "    <tr>\n",
              "      <th>3</th>\n",
              "      <td>46.0</td>\n",
              "      <td>8.0</td>\n",
              "      <td>0.520668</td>\n",
              "      <td>Retrained</td>\n",
              "      <td>29400.0</td>\n",
              "      <td>Marketing</td>\n",
              "    </tr>\n",
              "    <tr>\n",
              "      <th>4</th>\n",
              "      <td>24.0</td>\n",
              "      <td>0.0</td>\n",
              "      <td>NaN</td>\n",
              "      <td>Retrained</td>\n",
              "      <td>64500.0</td>\n",
              "      <td>Marketing</td>\n",
              "    </tr>\n",
              "  </tbody>\n",
              "</table>\n",
              "</div>\n",
              "    <div class=\"colab-df-buttons\">\n",
              "\n",
              "  <div class=\"colab-df-container\">\n",
              "    <button class=\"colab-df-convert\" onclick=\"convertToInteractive('df-8b8e4e92-5848-4679-84e7-29416cdd4620')\"\n",
              "            title=\"Convert this dataframe to an interactive table.\"\n",
              "            style=\"display:none;\">\n",
              "\n",
              "  <svg xmlns=\"http://www.w3.org/2000/svg\" height=\"24px\" viewBox=\"0 -960 960 960\">\n",
              "    <path d=\"M120-120v-720h720v720H120Zm60-500h600v-160H180v160Zm220 220h160v-160H400v160Zm0 220h160v-160H400v160ZM180-400h160v-160H180v160Zm440 0h160v-160H620v160ZM180-180h160v-160H180v160Zm440 0h160v-160H620v160Z\"/>\n",
              "  </svg>\n",
              "    </button>\n",
              "\n",
              "  <style>\n",
              "    .colab-df-container {\n",
              "      display:flex;\n",
              "      gap: 12px;\n",
              "    }\n",
              "\n",
              "    .colab-df-convert {\n",
              "      background-color: #E8F0FE;\n",
              "      border: none;\n",
              "      border-radius: 50%;\n",
              "      cursor: pointer;\n",
              "      display: none;\n",
              "      fill: #1967D2;\n",
              "      height: 32px;\n",
              "      padding: 0 0 0 0;\n",
              "      width: 32px;\n",
              "    }\n",
              "\n",
              "    .colab-df-convert:hover {\n",
              "      background-color: #E2EBFA;\n",
              "      box-shadow: 0px 1px 2px rgba(60, 64, 67, 0.3), 0px 1px 3px 1px rgba(60, 64, 67, 0.15);\n",
              "      fill: #174EA6;\n",
              "    }\n",
              "\n",
              "    .colab-df-buttons div {\n",
              "      margin-bottom: 4px;\n",
              "    }\n",
              "\n",
              "    [theme=dark] .colab-df-convert {\n",
              "      background-color: #3B4455;\n",
              "      fill: #D2E3FC;\n",
              "    }\n",
              "\n",
              "    [theme=dark] .colab-df-convert:hover {\n",
              "      background-color: #434B5C;\n",
              "      box-shadow: 0px 1px 3px 1px rgba(0, 0, 0, 0.15);\n",
              "      filter: drop-shadow(0px 1px 2px rgba(0, 0, 0, 0.3));\n",
              "      fill: #FFFFFF;\n",
              "    }\n",
              "  </style>\n",
              "\n",
              "    <script>\n",
              "      const buttonEl =\n",
              "        document.querySelector('#df-8b8e4e92-5848-4679-84e7-29416cdd4620 button.colab-df-convert');\n",
              "      buttonEl.style.display =\n",
              "        google.colab.kernel.accessAllowed ? 'block' : 'none';\n",
              "\n",
              "      async function convertToInteractive(key) {\n",
              "        const element = document.querySelector('#df-8b8e4e92-5848-4679-84e7-29416cdd4620');\n",
              "        const dataTable =\n",
              "          await google.colab.kernel.invokeFunction('convertToInteractive',\n",
              "                                                    [key], {});\n",
              "        if (!dataTable) return;\n",
              "\n",
              "        const docLinkHtml = 'Like what you see? Visit the ' +\n",
              "          '<a target=\"_blank\" href=https://colab.research.google.com/notebooks/data_table.ipynb>data table notebook</a>'\n",
              "          + ' to learn more about interactive tables.';\n",
              "        element.innerHTML = '';\n",
              "        dataTable['output_type'] = 'display_data';\n",
              "        await google.colab.output.renderOutput(dataTable, element);\n",
              "        const docLink = document.createElement('div');\n",
              "        docLink.innerHTML = docLinkHtml;\n",
              "        element.appendChild(docLink);\n",
              "      }\n",
              "    </script>\n",
              "  </div>\n",
              "\n",
              "\n",
              "<div id=\"df-32831091-895b-4513-8670-48a9b8cf65b2\">\n",
              "  <button class=\"colab-df-quickchart\" onclick=\"quickchart('df-32831091-895b-4513-8670-48a9b8cf65b2')\"\n",
              "            title=\"Suggest charts\"\n",
              "            style=\"display:none;\">\n",
              "\n",
              "<svg xmlns=\"http://www.w3.org/2000/svg\" height=\"24px\"viewBox=\"0 0 24 24\"\n",
              "     width=\"24px\">\n",
              "    <g>\n",
              "        <path d=\"M19 3H5c-1.1 0-2 .9-2 2v14c0 1.1.9 2 2 2h14c1.1 0 2-.9 2-2V5c0-1.1-.9-2-2-2zM9 17H7v-7h2v7zm4 0h-2V7h2v10zm4 0h-2v-4h2v4z\"/>\n",
              "    </g>\n",
              "</svg>\n",
              "  </button>\n",
              "\n",
              "<style>\n",
              "  .colab-df-quickchart {\n",
              "      --bg-color: #E8F0FE;\n",
              "      --fill-color: #1967D2;\n",
              "      --hover-bg-color: #E2EBFA;\n",
              "      --hover-fill-color: #174EA6;\n",
              "      --disabled-fill-color: #AAA;\n",
              "      --disabled-bg-color: #DDD;\n",
              "  }\n",
              "\n",
              "  [theme=dark] .colab-df-quickchart {\n",
              "      --bg-color: #3B4455;\n",
              "      --fill-color: #D2E3FC;\n",
              "      --hover-bg-color: #434B5C;\n",
              "      --hover-fill-color: #FFFFFF;\n",
              "      --disabled-bg-color: #3B4455;\n",
              "      --disabled-fill-color: #666;\n",
              "  }\n",
              "\n",
              "  .colab-df-quickchart {\n",
              "    background-color: var(--bg-color);\n",
              "    border: none;\n",
              "    border-radius: 50%;\n",
              "    cursor: pointer;\n",
              "    display: none;\n",
              "    fill: var(--fill-color);\n",
              "    height: 32px;\n",
              "    padding: 0;\n",
              "    width: 32px;\n",
              "  }\n",
              "\n",
              "  .colab-df-quickchart:hover {\n",
              "    background-color: var(--hover-bg-color);\n",
              "    box-shadow: 0 1px 2px rgba(60, 64, 67, 0.3), 0 1px 3px 1px rgba(60, 64, 67, 0.15);\n",
              "    fill: var(--button-hover-fill-color);\n",
              "  }\n",
              "\n",
              "  .colab-df-quickchart-complete:disabled,\n",
              "  .colab-df-quickchart-complete:disabled:hover {\n",
              "    background-color: var(--disabled-bg-color);\n",
              "    fill: var(--disabled-fill-color);\n",
              "    box-shadow: none;\n",
              "  }\n",
              "\n",
              "  .colab-df-spinner {\n",
              "    border: 2px solid var(--fill-color);\n",
              "    border-color: transparent;\n",
              "    border-bottom-color: var(--fill-color);\n",
              "    animation:\n",
              "      spin 1s steps(1) infinite;\n",
              "  }\n",
              "\n",
              "  @keyframes spin {\n",
              "    0% {\n",
              "      border-color: transparent;\n",
              "      border-bottom-color: var(--fill-color);\n",
              "      border-left-color: var(--fill-color);\n",
              "    }\n",
              "    20% {\n",
              "      border-color: transparent;\n",
              "      border-left-color: var(--fill-color);\n",
              "      border-top-color: var(--fill-color);\n",
              "    }\n",
              "    30% {\n",
              "      border-color: transparent;\n",
              "      border-left-color: var(--fill-color);\n",
              "      border-top-color: var(--fill-color);\n",
              "      border-right-color: var(--fill-color);\n",
              "    }\n",
              "    40% {\n",
              "      border-color: transparent;\n",
              "      border-right-color: var(--fill-color);\n",
              "      border-top-color: var(--fill-color);\n",
              "    }\n",
              "    60% {\n",
              "      border-color: transparent;\n",
              "      border-right-color: var(--fill-color);\n",
              "    }\n",
              "    80% {\n",
              "      border-color: transparent;\n",
              "      border-right-color: var(--fill-color);\n",
              "      border-bottom-color: var(--fill-color);\n",
              "    }\n",
              "    90% {\n",
              "      border-color: transparent;\n",
              "      border-bottom-color: var(--fill-color);\n",
              "    }\n",
              "  }\n",
              "</style>\n",
              "\n",
              "  <script>\n",
              "    async function quickchart(key) {\n",
              "      const quickchartButtonEl =\n",
              "        document.querySelector('#' + key + ' button');\n",
              "      quickchartButtonEl.disabled = true;  // To prevent multiple clicks.\n",
              "      quickchartButtonEl.classList.add('colab-df-spinner');\n",
              "      try {\n",
              "        const charts = await google.colab.kernel.invokeFunction(\n",
              "            'suggestCharts', [key], {});\n",
              "      } catch (error) {\n",
              "        console.error('Error during call to suggestCharts:', error);\n",
              "      }\n",
              "      quickchartButtonEl.classList.remove('colab-df-spinner');\n",
              "      quickchartButtonEl.classList.add('colab-df-quickchart-complete');\n",
              "    }\n",
              "    (() => {\n",
              "      let quickchartButtonEl =\n",
              "        document.querySelector('#df-32831091-895b-4513-8670-48a9b8cf65b2 button');\n",
              "      quickchartButtonEl.style.display =\n",
              "        google.colab.kernel.accessAllowed ? 'block' : 'none';\n",
              "    })();\n",
              "  </script>\n",
              "</div>\n",
              "\n",
              "    </div>\n",
              "  </div>\n"
            ],
            "application/vnd.google.colaboratory.intrinsic+json": {
              "type": "dataframe",
              "variable_name": "df",
              "summary": "{\n  \"name\": \"df\",\n  \"rows\": 1000,\n  \"fields\": [\n    {\n      \"column\": \"age\",\n      \"properties\": {\n        \"dtype\": \"number\",\n        \"std\": 8.779713787413398,\n        \"min\": 22.0,\n        \"max\": 54.0,\n        \"num_unique_values\": 33,\n        \"samples\": [\n          22.0,\n          37.0,\n          27.0\n        ],\n        \"semantic_type\": \"\",\n        \"description\": \"\"\n      }\n    },\n    {\n      \"column\": \"tenure\",\n      \"properties\": {\n        \"dtype\": \"number\",\n        \"std\": 4.204338290440062,\n        \"min\": 0.0,\n        \"max\": 29.0,\n        \"num_unique_values\": 27,\n        \"samples\": [\n          6.0,\n          16.0,\n          3.0\n        ],\n        \"semantic_type\": \"\",\n        \"description\": \"\"\n      }\n    },\n    {\n      \"column\": \"performance\",\n      \"properties\": {\n        \"dtype\": \"number\",\n        \"std\": 0.15506112014969214,\n        \"min\": 0.0,\n        \"max\": 1.0,\n        \"num_unique_values\": 899,\n        \"samples\": [\n          0.4191175348551362,\n          0.3647577074222902,\n          0.4420714507827725\n        ],\n        \"semantic_type\": \"\",\n        \"description\": \"\"\n      }\n    },\n    {\n      \"column\": \"attrition\",\n      \"properties\": {\n        \"dtype\": \"category\",\n        \"num_unique_values\": 3,\n        \"samples\": [\n          \"Regretted\",\n          \"Retrained\",\n          \"Unregretted\"\n        ],\n        \"semantic_type\": \"\",\n        \"description\": \"\"\n      }\n    },\n    {\n      \"column\": \"salary\",\n      \"properties\": {\n        \"dtype\": \"number\",\n        \"std\": 15348.121206668084,\n        \"min\": 7700.0,\n        \"max\": 118900.0,\n        \"num_unique_values\": 483,\n        \"samples\": [\n          77600.0,\n          73700.0,\n          38900.0\n        ],\n        \"semantic_type\": \"\",\n        \"description\": \"\"\n      }\n    },\n    {\n      \"column\": \"department\",\n      \"properties\": {\n        \"dtype\": \"category\",\n        \"num_unique_values\": 5,\n        \"samples\": [\n          \"Marketing\",\n          \"HR\",\n          \"Finance\"\n        ],\n        \"semantic_type\": \"\",\n        \"description\": \"\"\n      }\n    }\n  ]\n}"
            }
          },
          "metadata": {},
          "execution_count": 22
        }
      ]
    },
    {
      "cell_type": "code",
      "source": [
        "# count nulls\n",
        "\n",
        "df.isna().sum()"
      ],
      "metadata": {
        "colab": {
          "base_uri": "https://localhost:8080/"
        },
        "id": "6b5SuE8Ojmuw",
        "outputId": "13c107f8-a646-48c1-d162-f7f9d6a88c3c"
      },
      "execution_count": 23,
      "outputs": [
        {
          "output_type": "execute_result",
          "data": {
            "text/plain": [
              "age             50\n",
              "tenure           0\n",
              "performance    101\n",
              "attrition        0\n",
              "salary           0\n",
              "department       0\n",
              "dtype: int64"
            ]
          },
          "metadata": {},
          "execution_count": 23
        }
      ]
    },
    {
      "cell_type": "code",
      "source": [
        "# example of how to handle missing data\n",
        "df['performance'].fillna(df['performance'].mean(), inplace=True)\n",
        "df['age'].fillna(df['age'].mean(), inplace=True)\n"
      ],
      "metadata": {
        "id": "D7SX19LwjmxE"
      },
      "execution_count": 24,
      "outputs": []
    },
    {
      "cell_type": "code",
      "source": [
        "# convert categorical variables into one hot encoding\n",
        "encoder = OneHotEncoder(drop='first')\n",
        "encoded_data = encoder.fit_transform(df[['attrition', 'department']]).toarray()\n",
        "encoded_df = pd.DataFrame(encoded_data, columns=encoder.get_feature_names_out(['attrition', 'department']))\n"
      ],
      "metadata": {
        "id": "zmWkduLQjmz3"
      },
      "execution_count": 25,
      "outputs": []
    },
    {
      "cell_type": "code",
      "source": [
        "# drop original columns\n",
        "df.drop(['attrition', 'department'], axis=1, inplace=True)\n",
        "df = pd.concat([df, encoded_df], axis=1)"
      ],
      "metadata": {
        "id": "Iq0oDoBNmrSm"
      },
      "execution_count": 26,
      "outputs": []
    },
    {
      "cell_type": "code",
      "source": [
        "df.head()"
      ],
      "metadata": {
        "colab": {
          "base_uri": "https://localhost:8080/",
          "height": 226
        },
        "id": "hhQ3pMOEnKP8",
        "outputId": "4ceea228-ce84-48d4-8c34-489c746953be"
      },
      "execution_count": 27,
      "outputs": [
        {
          "output_type": "execute_result",
          "data": {
            "text/plain": [
              "    age  tenure  performance   salary  attrition_Retrained  \\\n",
              "0  46.0     4.0     0.451688  87700.0                  0.0   \n",
              "1  29.0     0.0     0.454339  35000.0                  1.0   \n",
              "2  48.0    13.0     0.596788  75500.0                  1.0   \n",
              "3  46.0     8.0     0.520668  29400.0                  1.0   \n",
              "4  24.0     0.0     0.454339  64500.0                  1.0   \n",
              "\n",
              "   attrition_Unregretted  department_HR  department_IT  department_Marketing  \\\n",
              "0                    0.0            0.0            1.0                   0.0   \n",
              "1                    0.0            0.0            0.0                   1.0   \n",
              "2                    0.0            0.0            0.0                   0.0   \n",
              "3                    0.0            0.0            0.0                   1.0   \n",
              "4                    0.0            0.0            0.0                   1.0   \n",
              "\n",
              "   department_Operations  \n",
              "0                    0.0  \n",
              "1                    0.0  \n",
              "2                    0.0  \n",
              "3                    0.0  \n",
              "4                    0.0  "
            ],
            "text/html": [
              "\n",
              "  <div id=\"df-97f2038d-27f1-4c43-92b5-fc1dcbde397f\" class=\"colab-df-container\">\n",
              "    <div>\n",
              "<style scoped>\n",
              "    .dataframe tbody tr th:only-of-type {\n",
              "        vertical-align: middle;\n",
              "    }\n",
              "\n",
              "    .dataframe tbody tr th {\n",
              "        vertical-align: top;\n",
              "    }\n",
              "\n",
              "    .dataframe thead th {\n",
              "        text-align: right;\n",
              "    }\n",
              "</style>\n",
              "<table border=\"1\" class=\"dataframe\">\n",
              "  <thead>\n",
              "    <tr style=\"text-align: right;\">\n",
              "      <th></th>\n",
              "      <th>age</th>\n",
              "      <th>tenure</th>\n",
              "      <th>performance</th>\n",
              "      <th>salary</th>\n",
              "      <th>attrition_Retrained</th>\n",
              "      <th>attrition_Unregretted</th>\n",
              "      <th>department_HR</th>\n",
              "      <th>department_IT</th>\n",
              "      <th>department_Marketing</th>\n",
              "      <th>department_Operations</th>\n",
              "    </tr>\n",
              "  </thead>\n",
              "  <tbody>\n",
              "    <tr>\n",
              "      <th>0</th>\n",
              "      <td>46.0</td>\n",
              "      <td>4.0</td>\n",
              "      <td>0.451688</td>\n",
              "      <td>87700.0</td>\n",
              "      <td>0.0</td>\n",
              "      <td>0.0</td>\n",
              "      <td>0.0</td>\n",
              "      <td>1.0</td>\n",
              "      <td>0.0</td>\n",
              "      <td>0.0</td>\n",
              "    </tr>\n",
              "    <tr>\n",
              "      <th>1</th>\n",
              "      <td>29.0</td>\n",
              "      <td>0.0</td>\n",
              "      <td>0.454339</td>\n",
              "      <td>35000.0</td>\n",
              "      <td>1.0</td>\n",
              "      <td>0.0</td>\n",
              "      <td>0.0</td>\n",
              "      <td>0.0</td>\n",
              "      <td>1.0</td>\n",
              "      <td>0.0</td>\n",
              "    </tr>\n",
              "    <tr>\n",
              "      <th>2</th>\n",
              "      <td>48.0</td>\n",
              "      <td>13.0</td>\n",
              "      <td>0.596788</td>\n",
              "      <td>75500.0</td>\n",
              "      <td>1.0</td>\n",
              "      <td>0.0</td>\n",
              "      <td>0.0</td>\n",
              "      <td>0.0</td>\n",
              "      <td>0.0</td>\n",
              "      <td>0.0</td>\n",
              "    </tr>\n",
              "    <tr>\n",
              "      <th>3</th>\n",
              "      <td>46.0</td>\n",
              "      <td>8.0</td>\n",
              "      <td>0.520668</td>\n",
              "      <td>29400.0</td>\n",
              "      <td>1.0</td>\n",
              "      <td>0.0</td>\n",
              "      <td>0.0</td>\n",
              "      <td>0.0</td>\n",
              "      <td>1.0</td>\n",
              "      <td>0.0</td>\n",
              "    </tr>\n",
              "    <tr>\n",
              "      <th>4</th>\n",
              "      <td>24.0</td>\n",
              "      <td>0.0</td>\n",
              "      <td>0.454339</td>\n",
              "      <td>64500.0</td>\n",
              "      <td>1.0</td>\n",
              "      <td>0.0</td>\n",
              "      <td>0.0</td>\n",
              "      <td>0.0</td>\n",
              "      <td>1.0</td>\n",
              "      <td>0.0</td>\n",
              "    </tr>\n",
              "  </tbody>\n",
              "</table>\n",
              "</div>\n",
              "    <div class=\"colab-df-buttons\">\n",
              "\n",
              "  <div class=\"colab-df-container\">\n",
              "    <button class=\"colab-df-convert\" onclick=\"convertToInteractive('df-97f2038d-27f1-4c43-92b5-fc1dcbde397f')\"\n",
              "            title=\"Convert this dataframe to an interactive table.\"\n",
              "            style=\"display:none;\">\n",
              "\n",
              "  <svg xmlns=\"http://www.w3.org/2000/svg\" height=\"24px\" viewBox=\"0 -960 960 960\">\n",
              "    <path d=\"M120-120v-720h720v720H120Zm60-500h600v-160H180v160Zm220 220h160v-160H400v160Zm0 220h160v-160H400v160ZM180-400h160v-160H180v160Zm440 0h160v-160H620v160ZM180-180h160v-160H180v160Zm440 0h160v-160H620v160Z\"/>\n",
              "  </svg>\n",
              "    </button>\n",
              "\n",
              "  <style>\n",
              "    .colab-df-container {\n",
              "      display:flex;\n",
              "      gap: 12px;\n",
              "    }\n",
              "\n",
              "    .colab-df-convert {\n",
              "      background-color: #E8F0FE;\n",
              "      border: none;\n",
              "      border-radius: 50%;\n",
              "      cursor: pointer;\n",
              "      display: none;\n",
              "      fill: #1967D2;\n",
              "      height: 32px;\n",
              "      padding: 0 0 0 0;\n",
              "      width: 32px;\n",
              "    }\n",
              "\n",
              "    .colab-df-convert:hover {\n",
              "      background-color: #E2EBFA;\n",
              "      box-shadow: 0px 1px 2px rgba(60, 64, 67, 0.3), 0px 1px 3px 1px rgba(60, 64, 67, 0.15);\n",
              "      fill: #174EA6;\n",
              "    }\n",
              "\n",
              "    .colab-df-buttons div {\n",
              "      margin-bottom: 4px;\n",
              "    }\n",
              "\n",
              "    [theme=dark] .colab-df-convert {\n",
              "      background-color: #3B4455;\n",
              "      fill: #D2E3FC;\n",
              "    }\n",
              "\n",
              "    [theme=dark] .colab-df-convert:hover {\n",
              "      background-color: #434B5C;\n",
              "      box-shadow: 0px 1px 3px 1px rgba(0, 0, 0, 0.15);\n",
              "      filter: drop-shadow(0px 1px 2px rgba(0, 0, 0, 0.3));\n",
              "      fill: #FFFFFF;\n",
              "    }\n",
              "  </style>\n",
              "\n",
              "    <script>\n",
              "      const buttonEl =\n",
              "        document.querySelector('#df-97f2038d-27f1-4c43-92b5-fc1dcbde397f button.colab-df-convert');\n",
              "      buttonEl.style.display =\n",
              "        google.colab.kernel.accessAllowed ? 'block' : 'none';\n",
              "\n",
              "      async function convertToInteractive(key) {\n",
              "        const element = document.querySelector('#df-97f2038d-27f1-4c43-92b5-fc1dcbde397f');\n",
              "        const dataTable =\n",
              "          await google.colab.kernel.invokeFunction('convertToInteractive',\n",
              "                                                    [key], {});\n",
              "        if (!dataTable) return;\n",
              "\n",
              "        const docLinkHtml = 'Like what you see? Visit the ' +\n",
              "          '<a target=\"_blank\" href=https://colab.research.google.com/notebooks/data_table.ipynb>data table notebook</a>'\n",
              "          + ' to learn more about interactive tables.';\n",
              "        element.innerHTML = '';\n",
              "        dataTable['output_type'] = 'display_data';\n",
              "        await google.colab.output.renderOutput(dataTable, element);\n",
              "        const docLink = document.createElement('div');\n",
              "        docLink.innerHTML = docLinkHtml;\n",
              "        element.appendChild(docLink);\n",
              "      }\n",
              "    </script>\n",
              "  </div>\n",
              "\n",
              "\n",
              "<div id=\"df-823adb96-51d6-46b6-994e-4cb99f0de644\">\n",
              "  <button class=\"colab-df-quickchart\" onclick=\"quickchart('df-823adb96-51d6-46b6-994e-4cb99f0de644')\"\n",
              "            title=\"Suggest charts\"\n",
              "            style=\"display:none;\">\n",
              "\n",
              "<svg xmlns=\"http://www.w3.org/2000/svg\" height=\"24px\"viewBox=\"0 0 24 24\"\n",
              "     width=\"24px\">\n",
              "    <g>\n",
              "        <path d=\"M19 3H5c-1.1 0-2 .9-2 2v14c0 1.1.9 2 2 2h14c1.1 0 2-.9 2-2V5c0-1.1-.9-2-2-2zM9 17H7v-7h2v7zm4 0h-2V7h2v10zm4 0h-2v-4h2v4z\"/>\n",
              "    </g>\n",
              "</svg>\n",
              "  </button>\n",
              "\n",
              "<style>\n",
              "  .colab-df-quickchart {\n",
              "      --bg-color: #E8F0FE;\n",
              "      --fill-color: #1967D2;\n",
              "      --hover-bg-color: #E2EBFA;\n",
              "      --hover-fill-color: #174EA6;\n",
              "      --disabled-fill-color: #AAA;\n",
              "      --disabled-bg-color: #DDD;\n",
              "  }\n",
              "\n",
              "  [theme=dark] .colab-df-quickchart {\n",
              "      --bg-color: #3B4455;\n",
              "      --fill-color: #D2E3FC;\n",
              "      --hover-bg-color: #434B5C;\n",
              "      --hover-fill-color: #FFFFFF;\n",
              "      --disabled-bg-color: #3B4455;\n",
              "      --disabled-fill-color: #666;\n",
              "  }\n",
              "\n",
              "  .colab-df-quickchart {\n",
              "    background-color: var(--bg-color);\n",
              "    border: none;\n",
              "    border-radius: 50%;\n",
              "    cursor: pointer;\n",
              "    display: none;\n",
              "    fill: var(--fill-color);\n",
              "    height: 32px;\n",
              "    padding: 0;\n",
              "    width: 32px;\n",
              "  }\n",
              "\n",
              "  .colab-df-quickchart:hover {\n",
              "    background-color: var(--hover-bg-color);\n",
              "    box-shadow: 0 1px 2px rgba(60, 64, 67, 0.3), 0 1px 3px 1px rgba(60, 64, 67, 0.15);\n",
              "    fill: var(--button-hover-fill-color);\n",
              "  }\n",
              "\n",
              "  .colab-df-quickchart-complete:disabled,\n",
              "  .colab-df-quickchart-complete:disabled:hover {\n",
              "    background-color: var(--disabled-bg-color);\n",
              "    fill: var(--disabled-fill-color);\n",
              "    box-shadow: none;\n",
              "  }\n",
              "\n",
              "  .colab-df-spinner {\n",
              "    border: 2px solid var(--fill-color);\n",
              "    border-color: transparent;\n",
              "    border-bottom-color: var(--fill-color);\n",
              "    animation:\n",
              "      spin 1s steps(1) infinite;\n",
              "  }\n",
              "\n",
              "  @keyframes spin {\n",
              "    0% {\n",
              "      border-color: transparent;\n",
              "      border-bottom-color: var(--fill-color);\n",
              "      border-left-color: var(--fill-color);\n",
              "    }\n",
              "    20% {\n",
              "      border-color: transparent;\n",
              "      border-left-color: var(--fill-color);\n",
              "      border-top-color: var(--fill-color);\n",
              "    }\n",
              "    30% {\n",
              "      border-color: transparent;\n",
              "      border-left-color: var(--fill-color);\n",
              "      border-top-color: var(--fill-color);\n",
              "      border-right-color: var(--fill-color);\n",
              "    }\n",
              "    40% {\n",
              "      border-color: transparent;\n",
              "      border-right-color: var(--fill-color);\n",
              "      border-top-color: var(--fill-color);\n",
              "    }\n",
              "    60% {\n",
              "      border-color: transparent;\n",
              "      border-right-color: var(--fill-color);\n",
              "    }\n",
              "    80% {\n",
              "      border-color: transparent;\n",
              "      border-right-color: var(--fill-color);\n",
              "      border-bottom-color: var(--fill-color);\n",
              "    }\n",
              "    90% {\n",
              "      border-color: transparent;\n",
              "      border-bottom-color: var(--fill-color);\n",
              "    }\n",
              "  }\n",
              "</style>\n",
              "\n",
              "  <script>\n",
              "    async function quickchart(key) {\n",
              "      const quickchartButtonEl =\n",
              "        document.querySelector('#' + key + ' button');\n",
              "      quickchartButtonEl.disabled = true;  // To prevent multiple clicks.\n",
              "      quickchartButtonEl.classList.add('colab-df-spinner');\n",
              "      try {\n",
              "        const charts = await google.colab.kernel.invokeFunction(\n",
              "            'suggestCharts', [key], {});\n",
              "      } catch (error) {\n",
              "        console.error('Error during call to suggestCharts:', error);\n",
              "      }\n",
              "      quickchartButtonEl.classList.remove('colab-df-spinner');\n",
              "      quickchartButtonEl.classList.add('colab-df-quickchart-complete');\n",
              "    }\n",
              "    (() => {\n",
              "      let quickchartButtonEl =\n",
              "        document.querySelector('#df-823adb96-51d6-46b6-994e-4cb99f0de644 button');\n",
              "      quickchartButtonEl.style.display =\n",
              "        google.colab.kernel.accessAllowed ? 'block' : 'none';\n",
              "    })();\n",
              "  </script>\n",
              "</div>\n",
              "\n",
              "    </div>\n",
              "  </div>\n"
            ],
            "application/vnd.google.colaboratory.intrinsic+json": {
              "type": "dataframe",
              "variable_name": "df",
              "summary": "{\n  \"name\": \"df\",\n  \"rows\": 1000,\n  \"fields\": [\n    {\n      \"column\": \"age\",\n      \"properties\": {\n        \"dtype\": \"number\",\n        \"std\": 8.557181045923704,\n        \"min\": 22.0,\n        \"max\": 54.0,\n        \"num_unique_values\": 34,\n        \"samples\": [\n          42.0,\n          52.0,\n          27.0\n        ],\n        \"semantic_type\": \"\",\n        \"description\": \"\"\n      }\n    },\n    {\n      \"column\": \"tenure\",\n      \"properties\": {\n        \"dtype\": \"number\",\n        \"std\": 4.204338290440062,\n        \"min\": 0.0,\n        \"max\": 29.0,\n        \"num_unique_values\": 27,\n        \"samples\": [\n          6.0,\n          16.0,\n          3.0\n        ],\n        \"semantic_type\": \"\",\n        \"description\": \"\"\n      }\n    },\n    {\n      \"column\": \"performance\",\n      \"properties\": {\n        \"dtype\": \"number\",\n        \"std\": 0.1470138805112237,\n        \"min\": 0.0,\n        \"max\": 1.0,\n        \"num_unique_values\": 900,\n        \"samples\": [\n          0.4349474960838515,\n          0.4221999125192453,\n          0.4746724792523252\n        ],\n        \"semantic_type\": \"\",\n        \"description\": \"\"\n      }\n    },\n    {\n      \"column\": \"salary\",\n      \"properties\": {\n        \"dtype\": \"number\",\n        \"std\": 15348.121206668084,\n        \"min\": 7700.0,\n        \"max\": 118900.0,\n        \"num_unique_values\": 483,\n        \"samples\": [\n          77600.0,\n          73700.0,\n          38900.0\n        ],\n        \"semantic_type\": \"\",\n        \"description\": \"\"\n      }\n    },\n    {\n      \"column\": \"attrition_Retrained\",\n      \"properties\": {\n        \"dtype\": \"number\",\n        \"std\": 0.3917045218432287,\n        \"min\": 0.0,\n        \"max\": 1.0,\n        \"num_unique_values\": 2,\n        \"samples\": [\n          1.0,\n          0.0\n        ],\n        \"semantic_type\": \"\",\n        \"description\": \"\"\n      }\n    },\n    {\n      \"column\": \"attrition_Unregretted\",\n      \"properties\": {\n        \"dtype\": \"number\",\n        \"std\": 0.2974634170523906,\n        \"min\": 0.0,\n        \"max\": 1.0,\n        \"num_unique_values\": 2,\n        \"samples\": [\n          1.0,\n          0.0\n        ],\n        \"semantic_type\": \"\",\n        \"description\": \"\"\n      }\n    },\n    {\n      \"column\": \"department_HR\",\n      \"properties\": {\n        \"dtype\": \"number\",\n        \"std\": 0.38767808075037513,\n        \"min\": 0.0,\n        \"max\": 1.0,\n        \"num_unique_values\": 2,\n        \"samples\": [\n          1.0,\n          0.0\n        ],\n        \"semantic_type\": \"\",\n        \"description\": \"\"\n      }\n    },\n    {\n      \"column\": \"department_IT\",\n      \"properties\": {\n        \"dtype\": \"number\",\n        \"std\": 0.41102791139282013,\n        \"min\": 0.0,\n        \"max\": 1.0,\n        \"num_unique_values\": 2,\n        \"samples\": [\n          0.0,\n          1.0\n        ],\n        \"semantic_type\": \"\",\n        \"description\": \"\"\n      }\n    },\n    {\n      \"column\": \"department_Marketing\",\n      \"properties\": {\n        \"dtype\": \"number\",\n        \"std\": 0.3986915536538929,\n        \"min\": 0.0,\n        \"max\": 1.0,\n        \"num_unique_values\": 2,\n        \"samples\": [\n          1.0,\n          0.0\n        ],\n        \"semantic_type\": \"\",\n        \"description\": \"\"\n      }\n    },\n    {\n      \"column\": \"department_Operations\",\n      \"properties\": {\n        \"dtype\": \"number\",\n        \"std\": 0.39010663052963246,\n        \"min\": 0.0,\n        \"max\": 1.0,\n        \"num_unique_values\": 2,\n        \"samples\": [\n          1.0,\n          0.0\n        ],\n        \"semantic_type\": \"\",\n        \"description\": \"\"\n      }\n    }\n  ]\n}"
            }
          },
          "metadata": {},
          "execution_count": 27
        }
      ]
    },
    {
      "cell_type": "code",
      "source": [
        "# prepare X and y\n",
        "X = df.drop('salary', axis=1)\n",
        "y = df['salary']"
      ],
      "metadata": {
        "id": "NErOwbQLjm2u"
      },
      "execution_count": 28,
      "outputs": []
    },
    {
      "cell_type": "code",
      "source": [
        "# train test split\n",
        "X_train, X_test, y_train, y_test = train_test_split(X, y, test_size=0.2, random_state=42)\n"
      ],
      "metadata": {
        "id": "xJM9R5VDm1tK"
      },
      "execution_count": 29,
      "outputs": []
    },
    {
      "cell_type": "markdown",
      "source": [
        "## Linear Regression Predicting Salary"
      ],
      "metadata": {
        "id": "pncVXvYoncWs"
      }
    },
    {
      "cell_type": "code",
      "source": [
        "# fit linear regression model\n",
        "\n",
        "linear_reg = LinearRegression()\n",
        "linear_reg.fit(X_train, y_train)\n",
        "\n",
        "# Predict and Evaluate\n",
        "y_pred_linear = linear_reg.predict(X_test)\n",
        "mse_linear = mean_squared_error(y_test, y_pred_linear)\n",
        "print(f\"Linear Regression Mean Squared Error: {mse_linear}\")"
      ],
      "metadata": {
        "colab": {
          "base_uri": "https://localhost:8080/"
        },
        "id": "1A8AaBUam413",
        "outputId": "d6fcd41b-6f59-4d70-806e-51a45187f469"
      },
      "execution_count": 30,
      "outputs": [
        {
          "output_type": "stream",
          "name": "stdout",
          "text": [
            "Linear Regression Mean Squared Error: 154235940.66454592\n"
          ]
        }
      ]
    },
    {
      "cell_type": "markdown",
      "source": [
        "## Hyperparameter Tuning, Decision Tree Predicting Salary"
      ],
      "metadata": {
        "id": "XdLojW7gne4-"
      }
    },
    {
      "cell_type": "code",
      "source": [
        "from sklearn.tree import DecisionTreeRegressor"
      ],
      "metadata": {
        "id": "Z-d4JA5tnwEk"
      },
      "execution_count": 31,
      "outputs": []
    },
    {
      "cell_type": "code",
      "source": [
        "# Define hyperparameters grid\n",
        "param_grid = {\n",
        "    'max_depth': [None, 10, 20, 30, 40],\n",
        "    'min_samples_split': [2, 5, 10],\n",
        "    'min_samples_leaf': [1, 2, 4],\n",
        "    'max_features': ['auto', 'sqrt', 'log2']\n",
        "}"
      ],
      "metadata": {
        "id": "I4iijv-MngcN"
      },
      "execution_count": 32,
      "outputs": []
    },
    {
      "cell_type": "code",
      "source": [
        "# Initialize GridSearchCV\n",
        "dt_regressor = DecisionTreeRegressor()\n",
        "grid_search = GridSearchCV(dt_regressor, param_grid, cv=5, verbose=1, scoring='neg_mean_squared_error')\n"
      ],
      "metadata": {
        "id": "_ZB3huN2ntAv"
      },
      "execution_count": 33,
      "outputs": []
    },
    {
      "cell_type": "code",
      "source": [
        "# Fit the model\n",
        "grid_search.fit(X_train, y_train)"
      ],
      "metadata": {
        "id": "vKFjVWv6n0ZZ",
        "outputId": "a73533f6-83f3-4f96-d3d8-01dceab63438",
        "colab": {
          "base_uri": "https://localhost:8080/",
          "height": 1000
        }
      },
      "execution_count": 34,
      "outputs": [
        {
          "output_type": "stream",
          "name": "stdout",
          "text": [
            "Fitting 5 folds for each of 135 candidates, totalling 675 fits\n"
          ]
        },
        {
          "output_type": "stream",
          "name": "stderr",
          "text": [
            "/usr/local/lib/python3.10/dist-packages/sklearn/tree/_classes.py:277: FutureWarning: `max_features='auto'` has been deprecated in 1.1 and will be removed in 1.3. To keep the past behaviour, explicitly set `max_features=1.0'`.\n",
            "  warnings.warn(\n",
            "/usr/local/lib/python3.10/dist-packages/sklearn/tree/_classes.py:277: FutureWarning: `max_features='auto'` has been deprecated in 1.1 and will be removed in 1.3. To keep the past behaviour, explicitly set `max_features=1.0'`.\n",
            "  warnings.warn(\n",
            "/usr/local/lib/python3.10/dist-packages/sklearn/tree/_classes.py:277: FutureWarning: `max_features='auto'` has been deprecated in 1.1 and will be removed in 1.3. To keep the past behaviour, explicitly set `max_features=1.0'`.\n",
            "  warnings.warn(\n",
            "/usr/local/lib/python3.10/dist-packages/sklearn/tree/_classes.py:277: FutureWarning: `max_features='auto'` has been deprecated in 1.1 and will be removed in 1.3. To keep the past behaviour, explicitly set `max_features=1.0'`.\n",
            "  warnings.warn(\n",
            "/usr/local/lib/python3.10/dist-packages/sklearn/tree/_classes.py:277: FutureWarning: `max_features='auto'` has been deprecated in 1.1 and will be removed in 1.3. To keep the past behaviour, explicitly set `max_features=1.0'`.\n",
            "  warnings.warn(\n",
            "/usr/local/lib/python3.10/dist-packages/sklearn/tree/_classes.py:277: FutureWarning: `max_features='auto'` has been deprecated in 1.1 and will be removed in 1.3. To keep the past behaviour, explicitly set `max_features=1.0'`.\n",
            "  warnings.warn(\n",
            "/usr/local/lib/python3.10/dist-packages/sklearn/tree/_classes.py:277: FutureWarning: `max_features='auto'` has been deprecated in 1.1 and will be removed in 1.3. To keep the past behaviour, explicitly set `max_features=1.0'`.\n",
            "  warnings.warn(\n",
            "/usr/local/lib/python3.10/dist-packages/sklearn/tree/_classes.py:277: FutureWarning: `max_features='auto'` has been deprecated in 1.1 and will be removed in 1.3. To keep the past behaviour, explicitly set `max_features=1.0'`.\n",
            "  warnings.warn(\n",
            "/usr/local/lib/python3.10/dist-packages/sklearn/tree/_classes.py:277: FutureWarning: `max_features='auto'` has been deprecated in 1.1 and will be removed in 1.3. To keep the past behaviour, explicitly set `max_features=1.0'`.\n",
            "  warnings.warn(\n",
            "/usr/local/lib/python3.10/dist-packages/sklearn/tree/_classes.py:277: FutureWarning: `max_features='auto'` has been deprecated in 1.1 and will be removed in 1.3. To keep the past behaviour, explicitly set `max_features=1.0'`.\n",
            "  warnings.warn(\n",
            "/usr/local/lib/python3.10/dist-packages/sklearn/tree/_classes.py:277: FutureWarning: `max_features='auto'` has been deprecated in 1.1 and will be removed in 1.3. To keep the past behaviour, explicitly set `max_features=1.0'`.\n",
            "  warnings.warn(\n",
            "/usr/local/lib/python3.10/dist-packages/sklearn/tree/_classes.py:277: FutureWarning: `max_features='auto'` has been deprecated in 1.1 and will be removed in 1.3. To keep the past behaviour, explicitly set `max_features=1.0'`.\n",
            "  warnings.warn(\n",
            "/usr/local/lib/python3.10/dist-packages/sklearn/tree/_classes.py:277: FutureWarning: `max_features='auto'` has been deprecated in 1.1 and will be removed in 1.3. To keep the past behaviour, explicitly set `max_features=1.0'`.\n",
            "  warnings.warn(\n",
            "/usr/local/lib/python3.10/dist-packages/sklearn/tree/_classes.py:277: FutureWarning: `max_features='auto'` has been deprecated in 1.1 and will be removed in 1.3. To keep the past behaviour, explicitly set `max_features=1.0'`.\n",
            "  warnings.warn(\n",
            "/usr/local/lib/python3.10/dist-packages/sklearn/tree/_classes.py:277: FutureWarning: `max_features='auto'` has been deprecated in 1.1 and will be removed in 1.3. To keep the past behaviour, explicitly set `max_features=1.0'`.\n",
            "  warnings.warn(\n",
            "/usr/local/lib/python3.10/dist-packages/sklearn/tree/_classes.py:277: FutureWarning: `max_features='auto'` has been deprecated in 1.1 and will be removed in 1.3. To keep the past behaviour, explicitly set `max_features=1.0'`.\n",
            "  warnings.warn(\n",
            "/usr/local/lib/python3.10/dist-packages/sklearn/tree/_classes.py:277: FutureWarning: `max_features='auto'` has been deprecated in 1.1 and will be removed in 1.3. To keep the past behaviour, explicitly set `max_features=1.0'`.\n",
            "  warnings.warn(\n",
            "/usr/local/lib/python3.10/dist-packages/sklearn/tree/_classes.py:277: FutureWarning: `max_features='auto'` has been deprecated in 1.1 and will be removed in 1.3. To keep the past behaviour, explicitly set `max_features=1.0'`.\n",
            "  warnings.warn(\n",
            "/usr/local/lib/python3.10/dist-packages/sklearn/tree/_classes.py:277: FutureWarning: `max_features='auto'` has been deprecated in 1.1 and will be removed in 1.3. To keep the past behaviour, explicitly set `max_features=1.0'`.\n",
            "  warnings.warn(\n",
            "/usr/local/lib/python3.10/dist-packages/sklearn/tree/_classes.py:277: FutureWarning: `max_features='auto'` has been deprecated in 1.1 and will be removed in 1.3. To keep the past behaviour, explicitly set `max_features=1.0'`.\n",
            "  warnings.warn(\n",
            "/usr/local/lib/python3.10/dist-packages/sklearn/tree/_classes.py:277: FutureWarning: `max_features='auto'` has been deprecated in 1.1 and will be removed in 1.3. To keep the past behaviour, explicitly set `max_features=1.0'`.\n",
            "  warnings.warn(\n",
            "/usr/local/lib/python3.10/dist-packages/sklearn/tree/_classes.py:277: FutureWarning: `max_features='auto'` has been deprecated in 1.1 and will be removed in 1.3. To keep the past behaviour, explicitly set `max_features=1.0'`.\n",
            "  warnings.warn(\n",
            "/usr/local/lib/python3.10/dist-packages/sklearn/tree/_classes.py:277: FutureWarning: `max_features='auto'` has been deprecated in 1.1 and will be removed in 1.3. To keep the past behaviour, explicitly set `max_features=1.0'`.\n",
            "  warnings.warn(\n",
            "/usr/local/lib/python3.10/dist-packages/sklearn/tree/_classes.py:277: FutureWarning: `max_features='auto'` has been deprecated in 1.1 and will be removed in 1.3. To keep the past behaviour, explicitly set `max_features=1.0'`.\n",
            "  warnings.warn(\n",
            "/usr/local/lib/python3.10/dist-packages/sklearn/tree/_classes.py:277: FutureWarning: `max_features='auto'` has been deprecated in 1.1 and will be removed in 1.3. To keep the past behaviour, explicitly set `max_features=1.0'`.\n",
            "  warnings.warn(\n",
            "/usr/local/lib/python3.10/dist-packages/sklearn/tree/_classes.py:277: FutureWarning: `max_features='auto'` has been deprecated in 1.1 and will be removed in 1.3. To keep the past behaviour, explicitly set `max_features=1.0'`.\n",
            "  warnings.warn(\n",
            "/usr/local/lib/python3.10/dist-packages/sklearn/tree/_classes.py:277: FutureWarning: `max_features='auto'` has been deprecated in 1.1 and will be removed in 1.3. To keep the past behaviour, explicitly set `max_features=1.0'`.\n",
            "  warnings.warn(\n",
            "/usr/local/lib/python3.10/dist-packages/sklearn/tree/_classes.py:277: FutureWarning: `max_features='auto'` has been deprecated in 1.1 and will be removed in 1.3. To keep the past behaviour, explicitly set `max_features=1.0'`.\n",
            "  warnings.warn(\n",
            "/usr/local/lib/python3.10/dist-packages/sklearn/tree/_classes.py:277: FutureWarning: `max_features='auto'` has been deprecated in 1.1 and will be removed in 1.3. To keep the past behaviour, explicitly set `max_features=1.0'`.\n",
            "  warnings.warn(\n",
            "/usr/local/lib/python3.10/dist-packages/sklearn/tree/_classes.py:277: FutureWarning: `max_features='auto'` has been deprecated in 1.1 and will be removed in 1.3. To keep the past behaviour, explicitly set `max_features=1.0'`.\n",
            "  warnings.warn(\n",
            "/usr/local/lib/python3.10/dist-packages/sklearn/tree/_classes.py:277: FutureWarning: `max_features='auto'` has been deprecated in 1.1 and will be removed in 1.3. To keep the past behaviour, explicitly set `max_features=1.0'`.\n",
            "  warnings.warn(\n",
            "/usr/local/lib/python3.10/dist-packages/sklearn/tree/_classes.py:277: FutureWarning: `max_features='auto'` has been deprecated in 1.1 and will be removed in 1.3. To keep the past behaviour, explicitly set `max_features=1.0'`.\n",
            "  warnings.warn(\n",
            "/usr/local/lib/python3.10/dist-packages/sklearn/tree/_classes.py:277: FutureWarning: `max_features='auto'` has been deprecated in 1.1 and will be removed in 1.3. To keep the past behaviour, explicitly set `max_features=1.0'`.\n",
            "  warnings.warn(\n",
            "/usr/local/lib/python3.10/dist-packages/sklearn/tree/_classes.py:277: FutureWarning: `max_features='auto'` has been deprecated in 1.1 and will be removed in 1.3. To keep the past behaviour, explicitly set `max_features=1.0'`.\n",
            "  warnings.warn(\n",
            "/usr/local/lib/python3.10/dist-packages/sklearn/tree/_classes.py:277: FutureWarning: `max_features='auto'` has been deprecated in 1.1 and will be removed in 1.3. To keep the past behaviour, explicitly set `max_features=1.0'`.\n",
            "  warnings.warn(\n",
            "/usr/local/lib/python3.10/dist-packages/sklearn/tree/_classes.py:277: FutureWarning: `max_features='auto'` has been deprecated in 1.1 and will be removed in 1.3. To keep the past behaviour, explicitly set `max_features=1.0'`.\n",
            "  warnings.warn(\n",
            "/usr/local/lib/python3.10/dist-packages/sklearn/tree/_classes.py:277: FutureWarning: `max_features='auto'` has been deprecated in 1.1 and will be removed in 1.3. To keep the past behaviour, explicitly set `max_features=1.0'`.\n",
            "  warnings.warn(\n",
            "/usr/local/lib/python3.10/dist-packages/sklearn/tree/_classes.py:277: FutureWarning: `max_features='auto'` has been deprecated in 1.1 and will be removed in 1.3. To keep the past behaviour, explicitly set `max_features=1.0'`.\n",
            "  warnings.warn(\n",
            "/usr/local/lib/python3.10/dist-packages/sklearn/tree/_classes.py:277: FutureWarning: `max_features='auto'` has been deprecated in 1.1 and will be removed in 1.3. To keep the past behaviour, explicitly set `max_features=1.0'`.\n",
            "  warnings.warn(\n",
            "/usr/local/lib/python3.10/dist-packages/sklearn/tree/_classes.py:277: FutureWarning: `max_features='auto'` has been deprecated in 1.1 and will be removed in 1.3. To keep the past behaviour, explicitly set `max_features=1.0'`.\n",
            "  warnings.warn(\n",
            "/usr/local/lib/python3.10/dist-packages/sklearn/tree/_classes.py:277: FutureWarning: `max_features='auto'` has been deprecated in 1.1 and will be removed in 1.3. To keep the past behaviour, explicitly set `max_features=1.0'`.\n",
            "  warnings.warn(\n",
            "/usr/local/lib/python3.10/dist-packages/sklearn/tree/_classes.py:277: FutureWarning: `max_features='auto'` has been deprecated in 1.1 and will be removed in 1.3. To keep the past behaviour, explicitly set `max_features=1.0'`.\n",
            "  warnings.warn(\n",
            "/usr/local/lib/python3.10/dist-packages/sklearn/tree/_classes.py:277: FutureWarning: `max_features='auto'` has been deprecated in 1.1 and will be removed in 1.3. To keep the past behaviour, explicitly set `max_features=1.0'`.\n",
            "  warnings.warn(\n",
            "/usr/local/lib/python3.10/dist-packages/sklearn/tree/_classes.py:277: FutureWarning: `max_features='auto'` has been deprecated in 1.1 and will be removed in 1.3. To keep the past behaviour, explicitly set `max_features=1.0'`.\n",
            "  warnings.warn(\n",
            "/usr/local/lib/python3.10/dist-packages/sklearn/tree/_classes.py:277: FutureWarning: `max_features='auto'` has been deprecated in 1.1 and will be removed in 1.3. To keep the past behaviour, explicitly set `max_features=1.0'`.\n",
            "  warnings.warn(\n",
            "/usr/local/lib/python3.10/dist-packages/sklearn/tree/_classes.py:277: FutureWarning: `max_features='auto'` has been deprecated in 1.1 and will be removed in 1.3. To keep the past behaviour, explicitly set `max_features=1.0'`.\n",
            "  warnings.warn(\n",
            "/usr/local/lib/python3.10/dist-packages/sklearn/tree/_classes.py:277: FutureWarning: `max_features='auto'` has been deprecated in 1.1 and will be removed in 1.3. To keep the past behaviour, explicitly set `max_features=1.0'`.\n",
            "  warnings.warn(\n",
            "/usr/local/lib/python3.10/dist-packages/sklearn/tree/_classes.py:277: FutureWarning: `max_features='auto'` has been deprecated in 1.1 and will be removed in 1.3. To keep the past behaviour, explicitly set `max_features=1.0'`.\n",
            "  warnings.warn(\n",
            "/usr/local/lib/python3.10/dist-packages/sklearn/tree/_classes.py:277: FutureWarning: `max_features='auto'` has been deprecated in 1.1 and will be removed in 1.3. To keep the past behaviour, explicitly set `max_features=1.0'`.\n",
            "  warnings.warn(\n",
            "/usr/local/lib/python3.10/dist-packages/sklearn/tree/_classes.py:277: FutureWarning: `max_features='auto'` has been deprecated in 1.1 and will be removed in 1.3. To keep the past behaviour, explicitly set `max_features=1.0'`.\n",
            "  warnings.warn(\n",
            "/usr/local/lib/python3.10/dist-packages/sklearn/tree/_classes.py:277: FutureWarning: `max_features='auto'` has been deprecated in 1.1 and will be removed in 1.3. To keep the past behaviour, explicitly set `max_features=1.0'`.\n",
            "  warnings.warn(\n",
            "/usr/local/lib/python3.10/dist-packages/sklearn/tree/_classes.py:277: FutureWarning: `max_features='auto'` has been deprecated in 1.1 and will be removed in 1.3. To keep the past behaviour, explicitly set `max_features=1.0'`.\n",
            "  warnings.warn(\n",
            "/usr/local/lib/python3.10/dist-packages/sklearn/tree/_classes.py:277: FutureWarning: `max_features='auto'` has been deprecated in 1.1 and will be removed in 1.3. To keep the past behaviour, explicitly set `max_features=1.0'`.\n",
            "  warnings.warn(\n",
            "/usr/local/lib/python3.10/dist-packages/sklearn/tree/_classes.py:277: FutureWarning: `max_features='auto'` has been deprecated in 1.1 and will be removed in 1.3. To keep the past behaviour, explicitly set `max_features=1.0'`.\n",
            "  warnings.warn(\n",
            "/usr/local/lib/python3.10/dist-packages/sklearn/tree/_classes.py:277: FutureWarning: `max_features='auto'` has been deprecated in 1.1 and will be removed in 1.3. To keep the past behaviour, explicitly set `max_features=1.0'`.\n",
            "  warnings.warn(\n",
            "/usr/local/lib/python3.10/dist-packages/sklearn/tree/_classes.py:277: FutureWarning: `max_features='auto'` has been deprecated in 1.1 and will be removed in 1.3. To keep the past behaviour, explicitly set `max_features=1.0'`.\n",
            "  warnings.warn(\n",
            "/usr/local/lib/python3.10/dist-packages/sklearn/tree/_classes.py:277: FutureWarning: `max_features='auto'` has been deprecated in 1.1 and will be removed in 1.3. To keep the past behaviour, explicitly set `max_features=1.0'`.\n",
            "  warnings.warn(\n",
            "/usr/local/lib/python3.10/dist-packages/sklearn/tree/_classes.py:277: FutureWarning: `max_features='auto'` has been deprecated in 1.1 and will be removed in 1.3. To keep the past behaviour, explicitly set `max_features=1.0'`.\n",
            "  warnings.warn(\n",
            "/usr/local/lib/python3.10/dist-packages/sklearn/tree/_classes.py:277: FutureWarning: `max_features='auto'` has been deprecated in 1.1 and will be removed in 1.3. To keep the past behaviour, explicitly set `max_features=1.0'`.\n",
            "  warnings.warn(\n",
            "/usr/local/lib/python3.10/dist-packages/sklearn/tree/_classes.py:277: FutureWarning: `max_features='auto'` has been deprecated in 1.1 and will be removed in 1.3. To keep the past behaviour, explicitly set `max_features=1.0'`.\n",
            "  warnings.warn(\n",
            "/usr/local/lib/python3.10/dist-packages/sklearn/tree/_classes.py:277: FutureWarning: `max_features='auto'` has been deprecated in 1.1 and will be removed in 1.3. To keep the past behaviour, explicitly set `max_features=1.0'`.\n",
            "  warnings.warn(\n",
            "/usr/local/lib/python3.10/dist-packages/sklearn/tree/_classes.py:277: FutureWarning: `max_features='auto'` has been deprecated in 1.1 and will be removed in 1.3. To keep the past behaviour, explicitly set `max_features=1.0'`.\n",
            "  warnings.warn(\n",
            "/usr/local/lib/python3.10/dist-packages/sklearn/tree/_classes.py:277: FutureWarning: `max_features='auto'` has been deprecated in 1.1 and will be removed in 1.3. To keep the past behaviour, explicitly set `max_features=1.0'`.\n",
            "  warnings.warn(\n",
            "/usr/local/lib/python3.10/dist-packages/sklearn/tree/_classes.py:277: FutureWarning: `max_features='auto'` has been deprecated in 1.1 and will be removed in 1.3. To keep the past behaviour, explicitly set `max_features=1.0'`.\n",
            "  warnings.warn(\n",
            "/usr/local/lib/python3.10/dist-packages/sklearn/tree/_classes.py:277: FutureWarning: `max_features='auto'` has been deprecated in 1.1 and will be removed in 1.3. To keep the past behaviour, explicitly set `max_features=1.0'`.\n",
            "  warnings.warn(\n",
            "/usr/local/lib/python3.10/dist-packages/sklearn/tree/_classes.py:277: FutureWarning: `max_features='auto'` has been deprecated in 1.1 and will be removed in 1.3. To keep the past behaviour, explicitly set `max_features=1.0'`.\n",
            "  warnings.warn(\n",
            "/usr/local/lib/python3.10/dist-packages/sklearn/tree/_classes.py:277: FutureWarning: `max_features='auto'` has been deprecated in 1.1 and will be removed in 1.3. To keep the past behaviour, explicitly set `max_features=1.0'`.\n",
            "  warnings.warn(\n",
            "/usr/local/lib/python3.10/dist-packages/sklearn/tree/_classes.py:277: FutureWarning: `max_features='auto'` has been deprecated in 1.1 and will be removed in 1.3. To keep the past behaviour, explicitly set `max_features=1.0'`.\n",
            "  warnings.warn(\n",
            "/usr/local/lib/python3.10/dist-packages/sklearn/tree/_classes.py:277: FutureWarning: `max_features='auto'` has been deprecated in 1.1 and will be removed in 1.3. To keep the past behaviour, explicitly set `max_features=1.0'`.\n",
            "  warnings.warn(\n",
            "/usr/local/lib/python3.10/dist-packages/sklearn/tree/_classes.py:277: FutureWarning: `max_features='auto'` has been deprecated in 1.1 and will be removed in 1.3. To keep the past behaviour, explicitly set `max_features=1.0'`.\n",
            "  warnings.warn(\n",
            "/usr/local/lib/python3.10/dist-packages/sklearn/tree/_classes.py:277: FutureWarning: `max_features='auto'` has been deprecated in 1.1 and will be removed in 1.3. To keep the past behaviour, explicitly set `max_features=1.0'`.\n",
            "  warnings.warn(\n",
            "/usr/local/lib/python3.10/dist-packages/sklearn/tree/_classes.py:277: FutureWarning: `max_features='auto'` has been deprecated in 1.1 and will be removed in 1.3. To keep the past behaviour, explicitly set `max_features=1.0'`.\n",
            "  warnings.warn(\n",
            "/usr/local/lib/python3.10/dist-packages/sklearn/tree/_classes.py:277: FutureWarning: `max_features='auto'` has been deprecated in 1.1 and will be removed in 1.3. To keep the past behaviour, explicitly set `max_features=1.0'`.\n",
            "  warnings.warn(\n",
            "/usr/local/lib/python3.10/dist-packages/sklearn/tree/_classes.py:277: FutureWarning: `max_features='auto'` has been deprecated in 1.1 and will be removed in 1.3. To keep the past behaviour, explicitly set `max_features=1.0'`.\n",
            "  warnings.warn(\n",
            "/usr/local/lib/python3.10/dist-packages/sklearn/tree/_classes.py:277: FutureWarning: `max_features='auto'` has been deprecated in 1.1 and will be removed in 1.3. To keep the past behaviour, explicitly set `max_features=1.0'`.\n",
            "  warnings.warn(\n",
            "/usr/local/lib/python3.10/dist-packages/sklearn/tree/_classes.py:277: FutureWarning: `max_features='auto'` has been deprecated in 1.1 and will be removed in 1.3. To keep the past behaviour, explicitly set `max_features=1.0'`.\n",
            "  warnings.warn(\n",
            "/usr/local/lib/python3.10/dist-packages/sklearn/tree/_classes.py:277: FutureWarning: `max_features='auto'` has been deprecated in 1.1 and will be removed in 1.3. To keep the past behaviour, explicitly set `max_features=1.0'`.\n",
            "  warnings.warn(\n",
            "/usr/local/lib/python3.10/dist-packages/sklearn/tree/_classes.py:277: FutureWarning: `max_features='auto'` has been deprecated in 1.1 and will be removed in 1.3. To keep the past behaviour, explicitly set `max_features=1.0'`.\n",
            "  warnings.warn(\n",
            "/usr/local/lib/python3.10/dist-packages/sklearn/tree/_classes.py:277: FutureWarning: `max_features='auto'` has been deprecated in 1.1 and will be removed in 1.3. To keep the past behaviour, explicitly set `max_features=1.0'`.\n",
            "  warnings.warn(\n",
            "/usr/local/lib/python3.10/dist-packages/sklearn/tree/_classes.py:277: FutureWarning: `max_features='auto'` has been deprecated in 1.1 and will be removed in 1.3. To keep the past behaviour, explicitly set `max_features=1.0'`.\n",
            "  warnings.warn(\n",
            "/usr/local/lib/python3.10/dist-packages/sklearn/tree/_classes.py:277: FutureWarning: `max_features='auto'` has been deprecated in 1.1 and will be removed in 1.3. To keep the past behaviour, explicitly set `max_features=1.0'`.\n",
            "  warnings.warn(\n",
            "/usr/local/lib/python3.10/dist-packages/sklearn/tree/_classes.py:277: FutureWarning: `max_features='auto'` has been deprecated in 1.1 and will be removed in 1.3. To keep the past behaviour, explicitly set `max_features=1.0'`.\n",
            "  warnings.warn(\n",
            "/usr/local/lib/python3.10/dist-packages/sklearn/tree/_classes.py:277: FutureWarning: `max_features='auto'` has been deprecated in 1.1 and will be removed in 1.3. To keep the past behaviour, explicitly set `max_features=1.0'`.\n",
            "  warnings.warn(\n",
            "/usr/local/lib/python3.10/dist-packages/sklearn/tree/_classes.py:277: FutureWarning: `max_features='auto'` has been deprecated in 1.1 and will be removed in 1.3. To keep the past behaviour, explicitly set `max_features=1.0'`.\n",
            "  warnings.warn(\n",
            "/usr/local/lib/python3.10/dist-packages/sklearn/tree/_classes.py:277: FutureWarning: `max_features='auto'` has been deprecated in 1.1 and will be removed in 1.3. To keep the past behaviour, explicitly set `max_features=1.0'`.\n",
            "  warnings.warn(\n",
            "/usr/local/lib/python3.10/dist-packages/sklearn/tree/_classes.py:277: FutureWarning: `max_features='auto'` has been deprecated in 1.1 and will be removed in 1.3. To keep the past behaviour, explicitly set `max_features=1.0'`.\n",
            "  warnings.warn(\n",
            "/usr/local/lib/python3.10/dist-packages/sklearn/tree/_classes.py:277: FutureWarning: `max_features='auto'` has been deprecated in 1.1 and will be removed in 1.3. To keep the past behaviour, explicitly set `max_features=1.0'`.\n",
            "  warnings.warn(\n",
            "/usr/local/lib/python3.10/dist-packages/sklearn/tree/_classes.py:277: FutureWarning: `max_features='auto'` has been deprecated in 1.1 and will be removed in 1.3. To keep the past behaviour, explicitly set `max_features=1.0'`.\n",
            "  warnings.warn(\n",
            "/usr/local/lib/python3.10/dist-packages/sklearn/tree/_classes.py:277: FutureWarning: `max_features='auto'` has been deprecated in 1.1 and will be removed in 1.3. To keep the past behaviour, explicitly set `max_features=1.0'`.\n",
            "  warnings.warn(\n",
            "/usr/local/lib/python3.10/dist-packages/sklearn/tree/_classes.py:277: FutureWarning: `max_features='auto'` has been deprecated in 1.1 and will be removed in 1.3. To keep the past behaviour, explicitly set `max_features=1.0'`.\n",
            "  warnings.warn(\n",
            "/usr/local/lib/python3.10/dist-packages/sklearn/tree/_classes.py:277: FutureWarning: `max_features='auto'` has been deprecated in 1.1 and will be removed in 1.3. To keep the past behaviour, explicitly set `max_features=1.0'`.\n",
            "  warnings.warn(\n",
            "/usr/local/lib/python3.10/dist-packages/sklearn/tree/_classes.py:277: FutureWarning: `max_features='auto'` has been deprecated in 1.1 and will be removed in 1.3. To keep the past behaviour, explicitly set `max_features=1.0'`.\n",
            "  warnings.warn(\n",
            "/usr/local/lib/python3.10/dist-packages/sklearn/tree/_classes.py:277: FutureWarning: `max_features='auto'` has been deprecated in 1.1 and will be removed in 1.3. To keep the past behaviour, explicitly set `max_features=1.0'`.\n",
            "  warnings.warn(\n",
            "/usr/local/lib/python3.10/dist-packages/sklearn/tree/_classes.py:277: FutureWarning: `max_features='auto'` has been deprecated in 1.1 and will be removed in 1.3. To keep the past behaviour, explicitly set `max_features=1.0'`.\n",
            "  warnings.warn(\n",
            "/usr/local/lib/python3.10/dist-packages/sklearn/tree/_classes.py:277: FutureWarning: `max_features='auto'` has been deprecated in 1.1 and will be removed in 1.3. To keep the past behaviour, explicitly set `max_features=1.0'`.\n",
            "  warnings.warn(\n",
            "/usr/local/lib/python3.10/dist-packages/sklearn/tree/_classes.py:277: FutureWarning: `max_features='auto'` has been deprecated in 1.1 and will be removed in 1.3. To keep the past behaviour, explicitly set `max_features=1.0'`.\n",
            "  warnings.warn(\n",
            "/usr/local/lib/python3.10/dist-packages/sklearn/tree/_classes.py:277: FutureWarning: `max_features='auto'` has been deprecated in 1.1 and will be removed in 1.3. To keep the past behaviour, explicitly set `max_features=1.0'`.\n",
            "  warnings.warn(\n",
            "/usr/local/lib/python3.10/dist-packages/sklearn/tree/_classes.py:277: FutureWarning: `max_features='auto'` has been deprecated in 1.1 and will be removed in 1.3. To keep the past behaviour, explicitly set `max_features=1.0'`.\n",
            "  warnings.warn(\n",
            "/usr/local/lib/python3.10/dist-packages/sklearn/tree/_classes.py:277: FutureWarning: `max_features='auto'` has been deprecated in 1.1 and will be removed in 1.3. To keep the past behaviour, explicitly set `max_features=1.0'`.\n",
            "  warnings.warn(\n",
            "/usr/local/lib/python3.10/dist-packages/sklearn/tree/_classes.py:277: FutureWarning: `max_features='auto'` has been deprecated in 1.1 and will be removed in 1.3. To keep the past behaviour, explicitly set `max_features=1.0'`.\n",
            "  warnings.warn(\n",
            "/usr/local/lib/python3.10/dist-packages/sklearn/tree/_classes.py:277: FutureWarning: `max_features='auto'` has been deprecated in 1.1 and will be removed in 1.3. To keep the past behaviour, explicitly set `max_features=1.0'`.\n",
            "  warnings.warn(\n",
            "/usr/local/lib/python3.10/dist-packages/sklearn/tree/_classes.py:277: FutureWarning: `max_features='auto'` has been deprecated in 1.1 and will be removed in 1.3. To keep the past behaviour, explicitly set `max_features=1.0'`.\n",
            "  warnings.warn(\n",
            "/usr/local/lib/python3.10/dist-packages/sklearn/tree/_classes.py:277: FutureWarning: `max_features='auto'` has been deprecated in 1.1 and will be removed in 1.3. To keep the past behaviour, explicitly set `max_features=1.0'`.\n",
            "  warnings.warn(\n",
            "/usr/local/lib/python3.10/dist-packages/sklearn/tree/_classes.py:277: FutureWarning: `max_features='auto'` has been deprecated in 1.1 and will be removed in 1.3. To keep the past behaviour, explicitly set `max_features=1.0'`.\n",
            "  warnings.warn(\n",
            "/usr/local/lib/python3.10/dist-packages/sklearn/tree/_classes.py:277: FutureWarning: `max_features='auto'` has been deprecated in 1.1 and will be removed in 1.3. To keep the past behaviour, explicitly set `max_features=1.0'`.\n",
            "  warnings.warn(\n",
            "/usr/local/lib/python3.10/dist-packages/sklearn/tree/_classes.py:277: FutureWarning: `max_features='auto'` has been deprecated in 1.1 and will be removed in 1.3. To keep the past behaviour, explicitly set `max_features=1.0'`.\n",
            "  warnings.warn(\n",
            "/usr/local/lib/python3.10/dist-packages/sklearn/tree/_classes.py:277: FutureWarning: `max_features='auto'` has been deprecated in 1.1 and will be removed in 1.3. To keep the past behaviour, explicitly set `max_features=1.0'`.\n",
            "  warnings.warn(\n",
            "/usr/local/lib/python3.10/dist-packages/sklearn/tree/_classes.py:277: FutureWarning: `max_features='auto'` has been deprecated in 1.1 and will be removed in 1.3. To keep the past behaviour, explicitly set `max_features=1.0'`.\n",
            "  warnings.warn(\n",
            "/usr/local/lib/python3.10/dist-packages/sklearn/tree/_classes.py:277: FutureWarning: `max_features='auto'` has been deprecated in 1.1 and will be removed in 1.3. To keep the past behaviour, explicitly set `max_features=1.0'`.\n",
            "  warnings.warn(\n",
            "/usr/local/lib/python3.10/dist-packages/sklearn/tree/_classes.py:277: FutureWarning: `max_features='auto'` has been deprecated in 1.1 and will be removed in 1.3. To keep the past behaviour, explicitly set `max_features=1.0'`.\n",
            "  warnings.warn(\n",
            "/usr/local/lib/python3.10/dist-packages/sklearn/tree/_classes.py:277: FutureWarning: `max_features='auto'` has been deprecated in 1.1 and will be removed in 1.3. To keep the past behaviour, explicitly set `max_features=1.0'`.\n",
            "  warnings.warn(\n",
            "/usr/local/lib/python3.10/dist-packages/sklearn/tree/_classes.py:277: FutureWarning: `max_features='auto'` has been deprecated in 1.1 and will be removed in 1.3. To keep the past behaviour, explicitly set `max_features=1.0'`.\n",
            "  warnings.warn(\n",
            "/usr/local/lib/python3.10/dist-packages/sklearn/tree/_classes.py:277: FutureWarning: `max_features='auto'` has been deprecated in 1.1 and will be removed in 1.3. To keep the past behaviour, explicitly set `max_features=1.0'`.\n",
            "  warnings.warn(\n",
            "/usr/local/lib/python3.10/dist-packages/sklearn/tree/_classes.py:277: FutureWarning: `max_features='auto'` has been deprecated in 1.1 and will be removed in 1.3. To keep the past behaviour, explicitly set `max_features=1.0'`.\n",
            "  warnings.warn(\n",
            "/usr/local/lib/python3.10/dist-packages/sklearn/tree/_classes.py:277: FutureWarning: `max_features='auto'` has been deprecated in 1.1 and will be removed in 1.3. To keep the past behaviour, explicitly set `max_features=1.0'`.\n",
            "  warnings.warn(\n",
            "/usr/local/lib/python3.10/dist-packages/sklearn/tree/_classes.py:277: FutureWarning: `max_features='auto'` has been deprecated in 1.1 and will be removed in 1.3. To keep the past behaviour, explicitly set `max_features=1.0'`.\n",
            "  warnings.warn(\n",
            "/usr/local/lib/python3.10/dist-packages/sklearn/tree/_classes.py:277: FutureWarning: `max_features='auto'` has been deprecated in 1.1 and will be removed in 1.3. To keep the past behaviour, explicitly set `max_features=1.0'`.\n",
            "  warnings.warn(\n",
            "/usr/local/lib/python3.10/dist-packages/sklearn/tree/_classes.py:277: FutureWarning: `max_features='auto'` has been deprecated in 1.1 and will be removed in 1.3. To keep the past behaviour, explicitly set `max_features=1.0'`.\n",
            "  warnings.warn(\n",
            "/usr/local/lib/python3.10/dist-packages/sklearn/tree/_classes.py:277: FutureWarning: `max_features='auto'` has been deprecated in 1.1 and will be removed in 1.3. To keep the past behaviour, explicitly set `max_features=1.0'`.\n",
            "  warnings.warn(\n",
            "/usr/local/lib/python3.10/dist-packages/sklearn/tree/_classes.py:277: FutureWarning: `max_features='auto'` has been deprecated in 1.1 and will be removed in 1.3. To keep the past behaviour, explicitly set `max_features=1.0'`.\n",
            "  warnings.warn(\n",
            "/usr/local/lib/python3.10/dist-packages/sklearn/tree/_classes.py:277: FutureWarning: `max_features='auto'` has been deprecated in 1.1 and will be removed in 1.3. To keep the past behaviour, explicitly set `max_features=1.0'`.\n",
            "  warnings.warn(\n",
            "/usr/local/lib/python3.10/dist-packages/sklearn/tree/_classes.py:277: FutureWarning: `max_features='auto'` has been deprecated in 1.1 and will be removed in 1.3. To keep the past behaviour, explicitly set `max_features=1.0'`.\n",
            "  warnings.warn(\n",
            "/usr/local/lib/python3.10/dist-packages/sklearn/tree/_classes.py:277: FutureWarning: `max_features='auto'` has been deprecated in 1.1 and will be removed in 1.3. To keep the past behaviour, explicitly set `max_features=1.0'`.\n",
            "  warnings.warn(\n",
            "/usr/local/lib/python3.10/dist-packages/sklearn/tree/_classes.py:277: FutureWarning: `max_features='auto'` has been deprecated in 1.1 and will be removed in 1.3. To keep the past behaviour, explicitly set `max_features=1.0'`.\n",
            "  warnings.warn(\n",
            "/usr/local/lib/python3.10/dist-packages/sklearn/tree/_classes.py:277: FutureWarning: `max_features='auto'` has been deprecated in 1.1 and will be removed in 1.3. To keep the past behaviour, explicitly set `max_features=1.0'`.\n",
            "  warnings.warn(\n",
            "/usr/local/lib/python3.10/dist-packages/sklearn/tree/_classes.py:277: FutureWarning: `max_features='auto'` has been deprecated in 1.1 and will be removed in 1.3. To keep the past behaviour, explicitly set `max_features=1.0'`.\n",
            "  warnings.warn(\n",
            "/usr/local/lib/python3.10/dist-packages/sklearn/tree/_classes.py:277: FutureWarning: `max_features='auto'` has been deprecated in 1.1 and will be removed in 1.3. To keep the past behaviour, explicitly set `max_features=1.0'`.\n",
            "  warnings.warn(\n",
            "/usr/local/lib/python3.10/dist-packages/sklearn/tree/_classes.py:277: FutureWarning: `max_features='auto'` has been deprecated in 1.1 and will be removed in 1.3. To keep the past behaviour, explicitly set `max_features=1.0'`.\n",
            "  warnings.warn(\n",
            "/usr/local/lib/python3.10/dist-packages/sklearn/tree/_classes.py:277: FutureWarning: `max_features='auto'` has been deprecated in 1.1 and will be removed in 1.3. To keep the past behaviour, explicitly set `max_features=1.0'`.\n",
            "  warnings.warn(\n",
            "/usr/local/lib/python3.10/dist-packages/sklearn/tree/_classes.py:277: FutureWarning: `max_features='auto'` has been deprecated in 1.1 and will be removed in 1.3. To keep the past behaviour, explicitly set `max_features=1.0'`.\n",
            "  warnings.warn(\n",
            "/usr/local/lib/python3.10/dist-packages/sklearn/tree/_classes.py:277: FutureWarning: `max_features='auto'` has been deprecated in 1.1 and will be removed in 1.3. To keep the past behaviour, explicitly set `max_features=1.0'`.\n",
            "  warnings.warn(\n",
            "/usr/local/lib/python3.10/dist-packages/sklearn/tree/_classes.py:277: FutureWarning: `max_features='auto'` has been deprecated in 1.1 and will be removed in 1.3. To keep the past behaviour, explicitly set `max_features=1.0'`.\n",
            "  warnings.warn(\n",
            "/usr/local/lib/python3.10/dist-packages/sklearn/tree/_classes.py:277: FutureWarning: `max_features='auto'` has been deprecated in 1.1 and will be removed in 1.3. To keep the past behaviour, explicitly set `max_features=1.0'`.\n",
            "  warnings.warn(\n",
            "/usr/local/lib/python3.10/dist-packages/sklearn/tree/_classes.py:277: FutureWarning: `max_features='auto'` has been deprecated in 1.1 and will be removed in 1.3. To keep the past behaviour, explicitly set `max_features=1.0'`.\n",
            "  warnings.warn(\n",
            "/usr/local/lib/python3.10/dist-packages/sklearn/tree/_classes.py:277: FutureWarning: `max_features='auto'` has been deprecated in 1.1 and will be removed in 1.3. To keep the past behaviour, explicitly set `max_features=1.0'`.\n",
            "  warnings.warn(\n",
            "/usr/local/lib/python3.10/dist-packages/sklearn/tree/_classes.py:277: FutureWarning: `max_features='auto'` has been deprecated in 1.1 and will be removed in 1.3. To keep the past behaviour, explicitly set `max_features=1.0'`.\n",
            "  warnings.warn(\n",
            "/usr/local/lib/python3.10/dist-packages/sklearn/tree/_classes.py:277: FutureWarning: `max_features='auto'` has been deprecated in 1.1 and will be removed in 1.3. To keep the past behaviour, explicitly set `max_features=1.0'`.\n",
            "  warnings.warn(\n",
            "/usr/local/lib/python3.10/dist-packages/sklearn/tree/_classes.py:277: FutureWarning: `max_features='auto'` has been deprecated in 1.1 and will be removed in 1.3. To keep the past behaviour, explicitly set `max_features=1.0'`.\n",
            "  warnings.warn(\n",
            "/usr/local/lib/python3.10/dist-packages/sklearn/tree/_classes.py:277: FutureWarning: `max_features='auto'` has been deprecated in 1.1 and will be removed in 1.3. To keep the past behaviour, explicitly set `max_features=1.0'`.\n",
            "  warnings.warn(\n",
            "/usr/local/lib/python3.10/dist-packages/sklearn/tree/_classes.py:277: FutureWarning: `max_features='auto'` has been deprecated in 1.1 and will be removed in 1.3. To keep the past behaviour, explicitly set `max_features=1.0'`.\n",
            "  warnings.warn(\n",
            "/usr/local/lib/python3.10/dist-packages/sklearn/tree/_classes.py:277: FutureWarning: `max_features='auto'` has been deprecated in 1.1 and will be removed in 1.3. To keep the past behaviour, explicitly set `max_features=1.0'`.\n",
            "  warnings.warn(\n",
            "/usr/local/lib/python3.10/dist-packages/sklearn/tree/_classes.py:277: FutureWarning: `max_features='auto'` has been deprecated in 1.1 and will be removed in 1.3. To keep the past behaviour, explicitly set `max_features=1.0'`.\n",
            "  warnings.warn(\n",
            "/usr/local/lib/python3.10/dist-packages/sklearn/tree/_classes.py:277: FutureWarning: `max_features='auto'` has been deprecated in 1.1 and will be removed in 1.3. To keep the past behaviour, explicitly set `max_features=1.0'`.\n",
            "  warnings.warn(\n",
            "/usr/local/lib/python3.10/dist-packages/sklearn/tree/_classes.py:277: FutureWarning: `max_features='auto'` has been deprecated in 1.1 and will be removed in 1.3. To keep the past behaviour, explicitly set `max_features=1.0'`.\n",
            "  warnings.warn(\n",
            "/usr/local/lib/python3.10/dist-packages/sklearn/tree/_classes.py:277: FutureWarning: `max_features='auto'` has been deprecated in 1.1 and will be removed in 1.3. To keep the past behaviour, explicitly set `max_features=1.0'`.\n",
            "  warnings.warn(\n",
            "/usr/local/lib/python3.10/dist-packages/sklearn/tree/_classes.py:277: FutureWarning: `max_features='auto'` has been deprecated in 1.1 and will be removed in 1.3. To keep the past behaviour, explicitly set `max_features=1.0'`.\n",
            "  warnings.warn(\n",
            "/usr/local/lib/python3.10/dist-packages/sklearn/tree/_classes.py:277: FutureWarning: `max_features='auto'` has been deprecated in 1.1 and will be removed in 1.3. To keep the past behaviour, explicitly set `max_features=1.0'`.\n",
            "  warnings.warn(\n",
            "/usr/local/lib/python3.10/dist-packages/sklearn/tree/_classes.py:277: FutureWarning: `max_features='auto'` has been deprecated in 1.1 and will be removed in 1.3. To keep the past behaviour, explicitly set `max_features=1.0'`.\n",
            "  warnings.warn(\n",
            "/usr/local/lib/python3.10/dist-packages/sklearn/tree/_classes.py:277: FutureWarning: `max_features='auto'` has been deprecated in 1.1 and will be removed in 1.3. To keep the past behaviour, explicitly set `max_features=1.0'`.\n",
            "  warnings.warn(\n",
            "/usr/local/lib/python3.10/dist-packages/sklearn/tree/_classes.py:277: FutureWarning: `max_features='auto'` has been deprecated in 1.1 and will be removed in 1.3. To keep the past behaviour, explicitly set `max_features=1.0'`.\n",
            "  warnings.warn(\n",
            "/usr/local/lib/python3.10/dist-packages/sklearn/tree/_classes.py:277: FutureWarning: `max_features='auto'` has been deprecated in 1.1 and will be removed in 1.3. To keep the past behaviour, explicitly set `max_features=1.0'`.\n",
            "  warnings.warn(\n",
            "/usr/local/lib/python3.10/dist-packages/sklearn/tree/_classes.py:277: FutureWarning: `max_features='auto'` has been deprecated in 1.1 and will be removed in 1.3. To keep the past behaviour, explicitly set `max_features=1.0'`.\n",
            "  warnings.warn(\n",
            "/usr/local/lib/python3.10/dist-packages/sklearn/tree/_classes.py:277: FutureWarning: `max_features='auto'` has been deprecated in 1.1 and will be removed in 1.3. To keep the past behaviour, explicitly set `max_features=1.0'`.\n",
            "  warnings.warn(\n",
            "/usr/local/lib/python3.10/dist-packages/sklearn/tree/_classes.py:277: FutureWarning: `max_features='auto'` has been deprecated in 1.1 and will be removed in 1.3. To keep the past behaviour, explicitly set `max_features=1.0'`.\n",
            "  warnings.warn(\n",
            "/usr/local/lib/python3.10/dist-packages/sklearn/tree/_classes.py:277: FutureWarning: `max_features='auto'` has been deprecated in 1.1 and will be removed in 1.3. To keep the past behaviour, explicitly set `max_features=1.0'`.\n",
            "  warnings.warn(\n",
            "/usr/local/lib/python3.10/dist-packages/sklearn/tree/_classes.py:277: FutureWarning: `max_features='auto'` has been deprecated in 1.1 and will be removed in 1.3. To keep the past behaviour, explicitly set `max_features=1.0'`.\n",
            "  warnings.warn(\n",
            "/usr/local/lib/python3.10/dist-packages/sklearn/tree/_classes.py:277: FutureWarning: `max_features='auto'` has been deprecated in 1.1 and will be removed in 1.3. To keep the past behaviour, explicitly set `max_features=1.0'`.\n",
            "  warnings.warn(\n",
            "/usr/local/lib/python3.10/dist-packages/sklearn/tree/_classes.py:277: FutureWarning: `max_features='auto'` has been deprecated in 1.1 and will be removed in 1.3. To keep the past behaviour, explicitly set `max_features=1.0'`.\n",
            "  warnings.warn(\n",
            "/usr/local/lib/python3.10/dist-packages/sklearn/tree/_classes.py:277: FutureWarning: `max_features='auto'` has been deprecated in 1.1 and will be removed in 1.3. To keep the past behaviour, explicitly set `max_features=1.0'`.\n",
            "  warnings.warn(\n",
            "/usr/local/lib/python3.10/dist-packages/sklearn/tree/_classes.py:277: FutureWarning: `max_features='auto'` has been deprecated in 1.1 and will be removed in 1.3. To keep the past behaviour, explicitly set `max_features=1.0'`.\n",
            "  warnings.warn(\n",
            "/usr/local/lib/python3.10/dist-packages/sklearn/tree/_classes.py:277: FutureWarning: `max_features='auto'` has been deprecated in 1.1 and will be removed in 1.3. To keep the past behaviour, explicitly set `max_features=1.0'`.\n",
            "  warnings.warn(\n",
            "/usr/local/lib/python3.10/dist-packages/sklearn/tree/_classes.py:277: FutureWarning: `max_features='auto'` has been deprecated in 1.1 and will be removed in 1.3. To keep the past behaviour, explicitly set `max_features=1.0'`.\n",
            "  warnings.warn(\n",
            "/usr/local/lib/python3.10/dist-packages/sklearn/tree/_classes.py:277: FutureWarning: `max_features='auto'` has been deprecated in 1.1 and will be removed in 1.3. To keep the past behaviour, explicitly set `max_features=1.0'`.\n",
            "  warnings.warn(\n",
            "/usr/local/lib/python3.10/dist-packages/sklearn/tree/_classes.py:277: FutureWarning: `max_features='auto'` has been deprecated in 1.1 and will be removed in 1.3. To keep the past behaviour, explicitly set `max_features=1.0'`.\n",
            "  warnings.warn(\n",
            "/usr/local/lib/python3.10/dist-packages/sklearn/tree/_classes.py:277: FutureWarning: `max_features='auto'` has been deprecated in 1.1 and will be removed in 1.3. To keep the past behaviour, explicitly set `max_features=1.0'`.\n",
            "  warnings.warn(\n",
            "/usr/local/lib/python3.10/dist-packages/sklearn/tree/_classes.py:277: FutureWarning: `max_features='auto'` has been deprecated in 1.1 and will be removed in 1.3. To keep the past behaviour, explicitly set `max_features=1.0'`.\n",
            "  warnings.warn(\n",
            "/usr/local/lib/python3.10/dist-packages/sklearn/tree/_classes.py:277: FutureWarning: `max_features='auto'` has been deprecated in 1.1 and will be removed in 1.3. To keep the past behaviour, explicitly set `max_features=1.0'`.\n",
            "  warnings.warn(\n",
            "/usr/local/lib/python3.10/dist-packages/sklearn/tree/_classes.py:277: FutureWarning: `max_features='auto'` has been deprecated in 1.1 and will be removed in 1.3. To keep the past behaviour, explicitly set `max_features=1.0'`.\n",
            "  warnings.warn(\n",
            "/usr/local/lib/python3.10/dist-packages/sklearn/tree/_classes.py:277: FutureWarning: `max_features='auto'` has been deprecated in 1.1 and will be removed in 1.3. To keep the past behaviour, explicitly set `max_features=1.0'`.\n",
            "  warnings.warn(\n",
            "/usr/local/lib/python3.10/dist-packages/sklearn/tree/_classes.py:277: FutureWarning: `max_features='auto'` has been deprecated in 1.1 and will be removed in 1.3. To keep the past behaviour, explicitly set `max_features=1.0'`.\n",
            "  warnings.warn(\n",
            "/usr/local/lib/python3.10/dist-packages/sklearn/tree/_classes.py:277: FutureWarning: `max_features='auto'` has been deprecated in 1.1 and will be removed in 1.3. To keep the past behaviour, explicitly set `max_features=1.0'`.\n",
            "  warnings.warn(\n",
            "/usr/local/lib/python3.10/dist-packages/sklearn/tree/_classes.py:277: FutureWarning: `max_features='auto'` has been deprecated in 1.1 and will be removed in 1.3. To keep the past behaviour, explicitly set `max_features=1.0'`.\n",
            "  warnings.warn(\n",
            "/usr/local/lib/python3.10/dist-packages/sklearn/tree/_classes.py:277: FutureWarning: `max_features='auto'` has been deprecated in 1.1 and will be removed in 1.3. To keep the past behaviour, explicitly set `max_features=1.0'`.\n",
            "  warnings.warn(\n",
            "/usr/local/lib/python3.10/dist-packages/sklearn/tree/_classes.py:277: FutureWarning: `max_features='auto'` has been deprecated in 1.1 and will be removed in 1.3. To keep the past behaviour, explicitly set `max_features=1.0'`.\n",
            "  warnings.warn(\n",
            "/usr/local/lib/python3.10/dist-packages/sklearn/tree/_classes.py:277: FutureWarning: `max_features='auto'` has been deprecated in 1.1 and will be removed in 1.3. To keep the past behaviour, explicitly set `max_features=1.0'`.\n",
            "  warnings.warn(\n",
            "/usr/local/lib/python3.10/dist-packages/sklearn/tree/_classes.py:277: FutureWarning: `max_features='auto'` has been deprecated in 1.1 and will be removed in 1.3. To keep the past behaviour, explicitly set `max_features=1.0'`.\n",
            "  warnings.warn(\n",
            "/usr/local/lib/python3.10/dist-packages/sklearn/tree/_classes.py:277: FutureWarning: `max_features='auto'` has been deprecated in 1.1 and will be removed in 1.3. To keep the past behaviour, explicitly set `max_features=1.0'`.\n",
            "  warnings.warn(\n",
            "/usr/local/lib/python3.10/dist-packages/sklearn/tree/_classes.py:277: FutureWarning: `max_features='auto'` has been deprecated in 1.1 and will be removed in 1.3. To keep the past behaviour, explicitly set `max_features=1.0'`.\n",
            "  warnings.warn(\n",
            "/usr/local/lib/python3.10/dist-packages/sklearn/tree/_classes.py:277: FutureWarning: `max_features='auto'` has been deprecated in 1.1 and will be removed in 1.3. To keep the past behaviour, explicitly set `max_features=1.0'`.\n",
            "  warnings.warn(\n",
            "/usr/local/lib/python3.10/dist-packages/sklearn/tree/_classes.py:277: FutureWarning: `max_features='auto'` has been deprecated in 1.1 and will be removed in 1.3. To keep the past behaviour, explicitly set `max_features=1.0'`.\n",
            "  warnings.warn(\n",
            "/usr/local/lib/python3.10/dist-packages/sklearn/tree/_classes.py:277: FutureWarning: `max_features='auto'` has been deprecated in 1.1 and will be removed in 1.3. To keep the past behaviour, explicitly set `max_features=1.0'`.\n",
            "  warnings.warn(\n",
            "/usr/local/lib/python3.10/dist-packages/sklearn/tree/_classes.py:277: FutureWarning: `max_features='auto'` has been deprecated in 1.1 and will be removed in 1.3. To keep the past behaviour, explicitly set `max_features=1.0'`.\n",
            "  warnings.warn(\n",
            "/usr/local/lib/python3.10/dist-packages/sklearn/tree/_classes.py:277: FutureWarning: `max_features='auto'` has been deprecated in 1.1 and will be removed in 1.3. To keep the past behaviour, explicitly set `max_features=1.0'`.\n",
            "  warnings.warn(\n",
            "/usr/local/lib/python3.10/dist-packages/sklearn/tree/_classes.py:277: FutureWarning: `max_features='auto'` has been deprecated in 1.1 and will be removed in 1.3. To keep the past behaviour, explicitly set `max_features=1.0'`.\n",
            "  warnings.warn(\n",
            "/usr/local/lib/python3.10/dist-packages/sklearn/tree/_classes.py:277: FutureWarning: `max_features='auto'` has been deprecated in 1.1 and will be removed in 1.3. To keep the past behaviour, explicitly set `max_features=1.0'`.\n",
            "  warnings.warn(\n",
            "/usr/local/lib/python3.10/dist-packages/sklearn/tree/_classes.py:277: FutureWarning: `max_features='auto'` has been deprecated in 1.1 and will be removed in 1.3. To keep the past behaviour, explicitly set `max_features=1.0'`.\n",
            "  warnings.warn(\n",
            "/usr/local/lib/python3.10/dist-packages/sklearn/tree/_classes.py:277: FutureWarning: `max_features='auto'` has been deprecated in 1.1 and will be removed in 1.3. To keep the past behaviour, explicitly set `max_features=1.0'`.\n",
            "  warnings.warn(\n",
            "/usr/local/lib/python3.10/dist-packages/sklearn/tree/_classes.py:277: FutureWarning: `max_features='auto'` has been deprecated in 1.1 and will be removed in 1.3. To keep the past behaviour, explicitly set `max_features=1.0'`.\n",
            "  warnings.warn(\n",
            "/usr/local/lib/python3.10/dist-packages/sklearn/tree/_classes.py:277: FutureWarning: `max_features='auto'` has been deprecated in 1.1 and will be removed in 1.3. To keep the past behaviour, explicitly set `max_features=1.0'`.\n",
            "  warnings.warn(\n",
            "/usr/local/lib/python3.10/dist-packages/sklearn/tree/_classes.py:277: FutureWarning: `max_features='auto'` has been deprecated in 1.1 and will be removed in 1.3. To keep the past behaviour, explicitly set `max_features=1.0'`.\n",
            "  warnings.warn(\n",
            "/usr/local/lib/python3.10/dist-packages/sklearn/tree/_classes.py:277: FutureWarning: `max_features='auto'` has been deprecated in 1.1 and will be removed in 1.3. To keep the past behaviour, explicitly set `max_features=1.0'`.\n",
            "  warnings.warn(\n",
            "/usr/local/lib/python3.10/dist-packages/sklearn/tree/_classes.py:277: FutureWarning: `max_features='auto'` has been deprecated in 1.1 and will be removed in 1.3. To keep the past behaviour, explicitly set `max_features=1.0'`.\n",
            "  warnings.warn(\n",
            "/usr/local/lib/python3.10/dist-packages/sklearn/tree/_classes.py:277: FutureWarning: `max_features='auto'` has been deprecated in 1.1 and will be removed in 1.3. To keep the past behaviour, explicitly set `max_features=1.0'`.\n",
            "  warnings.warn(\n",
            "/usr/local/lib/python3.10/dist-packages/sklearn/tree/_classes.py:277: FutureWarning: `max_features='auto'` has been deprecated in 1.1 and will be removed in 1.3. To keep the past behaviour, explicitly set `max_features=1.0'`.\n",
            "  warnings.warn(\n",
            "/usr/local/lib/python3.10/dist-packages/sklearn/tree/_classes.py:277: FutureWarning: `max_features='auto'` has been deprecated in 1.1 and will be removed in 1.3. To keep the past behaviour, explicitly set `max_features=1.0'`.\n",
            "  warnings.warn(\n",
            "/usr/local/lib/python3.10/dist-packages/sklearn/tree/_classes.py:277: FutureWarning: `max_features='auto'` has been deprecated in 1.1 and will be removed in 1.3. To keep the past behaviour, explicitly set `max_features=1.0'`.\n",
            "  warnings.warn(\n",
            "/usr/local/lib/python3.10/dist-packages/sklearn/tree/_classes.py:277: FutureWarning: `max_features='auto'` has been deprecated in 1.1 and will be removed in 1.3. To keep the past behaviour, explicitly set `max_features=1.0'`.\n",
            "  warnings.warn(\n",
            "/usr/local/lib/python3.10/dist-packages/sklearn/tree/_classes.py:277: FutureWarning: `max_features='auto'` has been deprecated in 1.1 and will be removed in 1.3. To keep the past behaviour, explicitly set `max_features=1.0'`.\n",
            "  warnings.warn(\n",
            "/usr/local/lib/python3.10/dist-packages/sklearn/tree/_classes.py:277: FutureWarning: `max_features='auto'` has been deprecated in 1.1 and will be removed in 1.3. To keep the past behaviour, explicitly set `max_features=1.0'`.\n",
            "  warnings.warn(\n",
            "/usr/local/lib/python3.10/dist-packages/sklearn/tree/_classes.py:277: FutureWarning: `max_features='auto'` has been deprecated in 1.1 and will be removed in 1.3. To keep the past behaviour, explicitly set `max_features=1.0'`.\n",
            "  warnings.warn(\n",
            "/usr/local/lib/python3.10/dist-packages/sklearn/tree/_classes.py:277: FutureWarning: `max_features='auto'` has been deprecated in 1.1 and will be removed in 1.3. To keep the past behaviour, explicitly set `max_features=1.0'`.\n",
            "  warnings.warn(\n",
            "/usr/local/lib/python3.10/dist-packages/sklearn/tree/_classes.py:277: FutureWarning: `max_features='auto'` has been deprecated in 1.1 and will be removed in 1.3. To keep the past behaviour, explicitly set `max_features=1.0'`.\n",
            "  warnings.warn(\n",
            "/usr/local/lib/python3.10/dist-packages/sklearn/tree/_classes.py:277: FutureWarning: `max_features='auto'` has been deprecated in 1.1 and will be removed in 1.3. To keep the past behaviour, explicitly set `max_features=1.0'`.\n",
            "  warnings.warn(\n",
            "/usr/local/lib/python3.10/dist-packages/sklearn/tree/_classes.py:277: FutureWarning: `max_features='auto'` has been deprecated in 1.1 and will be removed in 1.3. To keep the past behaviour, explicitly set `max_features=1.0'`.\n",
            "  warnings.warn(\n",
            "/usr/local/lib/python3.10/dist-packages/sklearn/tree/_classes.py:277: FutureWarning: `max_features='auto'` has been deprecated in 1.1 and will be removed in 1.3. To keep the past behaviour, explicitly set `max_features=1.0'`.\n",
            "  warnings.warn(\n",
            "/usr/local/lib/python3.10/dist-packages/sklearn/tree/_classes.py:277: FutureWarning: `max_features='auto'` has been deprecated in 1.1 and will be removed in 1.3. To keep the past behaviour, explicitly set `max_features=1.0'`.\n",
            "  warnings.warn(\n",
            "/usr/local/lib/python3.10/dist-packages/sklearn/tree/_classes.py:277: FutureWarning: `max_features='auto'` has been deprecated in 1.1 and will be removed in 1.3. To keep the past behaviour, explicitly set `max_features=1.0'`.\n",
            "  warnings.warn(\n",
            "/usr/local/lib/python3.10/dist-packages/sklearn/tree/_classes.py:277: FutureWarning: `max_features='auto'` has been deprecated in 1.1 and will be removed in 1.3. To keep the past behaviour, explicitly set `max_features=1.0'`.\n",
            "  warnings.warn(\n",
            "/usr/local/lib/python3.10/dist-packages/sklearn/tree/_classes.py:277: FutureWarning: `max_features='auto'` has been deprecated in 1.1 and will be removed in 1.3. To keep the past behaviour, explicitly set `max_features=1.0'`.\n",
            "  warnings.warn(\n",
            "/usr/local/lib/python3.10/dist-packages/sklearn/tree/_classes.py:277: FutureWarning: `max_features='auto'` has been deprecated in 1.1 and will be removed in 1.3. To keep the past behaviour, explicitly set `max_features=1.0'`.\n",
            "  warnings.warn(\n",
            "/usr/local/lib/python3.10/dist-packages/sklearn/tree/_classes.py:277: FutureWarning: `max_features='auto'` has been deprecated in 1.1 and will be removed in 1.3. To keep the past behaviour, explicitly set `max_features=1.0'`.\n",
            "  warnings.warn(\n",
            "/usr/local/lib/python3.10/dist-packages/sklearn/tree/_classes.py:277: FutureWarning: `max_features='auto'` has been deprecated in 1.1 and will be removed in 1.3. To keep the past behaviour, explicitly set `max_features=1.0'`.\n",
            "  warnings.warn(\n",
            "/usr/local/lib/python3.10/dist-packages/sklearn/tree/_classes.py:277: FutureWarning: `max_features='auto'` has been deprecated in 1.1 and will be removed in 1.3. To keep the past behaviour, explicitly set `max_features=1.0'`.\n",
            "  warnings.warn(\n",
            "/usr/local/lib/python3.10/dist-packages/sklearn/tree/_classes.py:277: FutureWarning: `max_features='auto'` has been deprecated in 1.1 and will be removed in 1.3. To keep the past behaviour, explicitly set `max_features=1.0'`.\n",
            "  warnings.warn(\n",
            "/usr/local/lib/python3.10/dist-packages/sklearn/tree/_classes.py:277: FutureWarning: `max_features='auto'` has been deprecated in 1.1 and will be removed in 1.3. To keep the past behaviour, explicitly set `max_features=1.0'`.\n",
            "  warnings.warn(\n",
            "/usr/local/lib/python3.10/dist-packages/sklearn/tree/_classes.py:277: FutureWarning: `max_features='auto'` has been deprecated in 1.1 and will be removed in 1.3. To keep the past behaviour, explicitly set `max_features=1.0'`.\n",
            "  warnings.warn(\n",
            "/usr/local/lib/python3.10/dist-packages/sklearn/tree/_classes.py:277: FutureWarning: `max_features='auto'` has been deprecated in 1.1 and will be removed in 1.3. To keep the past behaviour, explicitly set `max_features=1.0'`.\n",
            "  warnings.warn(\n",
            "/usr/local/lib/python3.10/dist-packages/sklearn/tree/_classes.py:277: FutureWarning: `max_features='auto'` has been deprecated in 1.1 and will be removed in 1.3. To keep the past behaviour, explicitly set `max_features=1.0'`.\n",
            "  warnings.warn(\n",
            "/usr/local/lib/python3.10/dist-packages/sklearn/tree/_classes.py:277: FutureWarning: `max_features='auto'` has been deprecated in 1.1 and will be removed in 1.3. To keep the past behaviour, explicitly set `max_features=1.0'`.\n",
            "  warnings.warn(\n",
            "/usr/local/lib/python3.10/dist-packages/sklearn/tree/_classes.py:277: FutureWarning: `max_features='auto'` has been deprecated in 1.1 and will be removed in 1.3. To keep the past behaviour, explicitly set `max_features=1.0'`.\n",
            "  warnings.warn(\n",
            "/usr/local/lib/python3.10/dist-packages/sklearn/tree/_classes.py:277: FutureWarning: `max_features='auto'` has been deprecated in 1.1 and will be removed in 1.3. To keep the past behaviour, explicitly set `max_features=1.0'`.\n",
            "  warnings.warn(\n",
            "/usr/local/lib/python3.10/dist-packages/sklearn/tree/_classes.py:277: FutureWarning: `max_features='auto'` has been deprecated in 1.1 and will be removed in 1.3. To keep the past behaviour, explicitly set `max_features=1.0'`.\n",
            "  warnings.warn(\n",
            "/usr/local/lib/python3.10/dist-packages/sklearn/tree/_classes.py:277: FutureWarning: `max_features='auto'` has been deprecated in 1.1 and will be removed in 1.3. To keep the past behaviour, explicitly set `max_features=1.0'`.\n",
            "  warnings.warn(\n",
            "/usr/local/lib/python3.10/dist-packages/sklearn/tree/_classes.py:277: FutureWarning: `max_features='auto'` has been deprecated in 1.1 and will be removed in 1.3. To keep the past behaviour, explicitly set `max_features=1.0'`.\n",
            "  warnings.warn(\n",
            "/usr/local/lib/python3.10/dist-packages/sklearn/tree/_classes.py:277: FutureWarning: `max_features='auto'` has been deprecated in 1.1 and will be removed in 1.3. To keep the past behaviour, explicitly set `max_features=1.0'`.\n",
            "  warnings.warn(\n"
          ]
        },
        {
          "output_type": "execute_result",
          "data": {
            "text/plain": [
              "GridSearchCV(cv=5, estimator=DecisionTreeRegressor(),\n",
              "             param_grid={'max_depth': [None, 10, 20, 30, 40],\n",
              "                         'max_features': ['auto', 'sqrt', 'log2'],\n",
              "                         'min_samples_leaf': [1, 2, 4],\n",
              "                         'min_samples_split': [2, 5, 10]},\n",
              "             scoring='neg_mean_squared_error', verbose=1)"
            ],
            "text/html": [
              "<style>#sk-container-id-3 {color: black;background-color: white;}#sk-container-id-3 pre{padding: 0;}#sk-container-id-3 div.sk-toggleable {background-color: white;}#sk-container-id-3 label.sk-toggleable__label {cursor: pointer;display: block;width: 100%;margin-bottom: 0;padding: 0.3em;box-sizing: border-box;text-align: center;}#sk-container-id-3 label.sk-toggleable__label-arrow:before {content: \"▸\";float: left;margin-right: 0.25em;color: #696969;}#sk-container-id-3 label.sk-toggleable__label-arrow:hover:before {color: black;}#sk-container-id-3 div.sk-estimator:hover label.sk-toggleable__label-arrow:before {color: black;}#sk-container-id-3 div.sk-toggleable__content {max-height: 0;max-width: 0;overflow: hidden;text-align: left;background-color: #f0f8ff;}#sk-container-id-3 div.sk-toggleable__content pre {margin: 0.2em;color: black;border-radius: 0.25em;background-color: #f0f8ff;}#sk-container-id-3 input.sk-toggleable__control:checked~div.sk-toggleable__content {max-height: 200px;max-width: 100%;overflow: auto;}#sk-container-id-3 input.sk-toggleable__control:checked~label.sk-toggleable__label-arrow:before {content: \"▾\";}#sk-container-id-3 div.sk-estimator input.sk-toggleable__control:checked~label.sk-toggleable__label {background-color: #d4ebff;}#sk-container-id-3 div.sk-label input.sk-toggleable__control:checked~label.sk-toggleable__label {background-color: #d4ebff;}#sk-container-id-3 input.sk-hidden--visually {border: 0;clip: rect(1px 1px 1px 1px);clip: rect(1px, 1px, 1px, 1px);height: 1px;margin: -1px;overflow: hidden;padding: 0;position: absolute;width: 1px;}#sk-container-id-3 div.sk-estimator {font-family: monospace;background-color: #f0f8ff;border: 1px dotted black;border-radius: 0.25em;box-sizing: border-box;margin-bottom: 0.5em;}#sk-container-id-3 div.sk-estimator:hover {background-color: #d4ebff;}#sk-container-id-3 div.sk-parallel-item::after {content: \"\";width: 100%;border-bottom: 1px solid gray;flex-grow: 1;}#sk-container-id-3 div.sk-label:hover label.sk-toggleable__label {background-color: #d4ebff;}#sk-container-id-3 div.sk-serial::before {content: \"\";position: absolute;border-left: 1px solid gray;box-sizing: border-box;top: 0;bottom: 0;left: 50%;z-index: 0;}#sk-container-id-3 div.sk-serial {display: flex;flex-direction: column;align-items: center;background-color: white;padding-right: 0.2em;padding-left: 0.2em;position: relative;}#sk-container-id-3 div.sk-item {position: relative;z-index: 1;}#sk-container-id-3 div.sk-parallel {display: flex;align-items: stretch;justify-content: center;background-color: white;position: relative;}#sk-container-id-3 div.sk-item::before, #sk-container-id-3 div.sk-parallel-item::before {content: \"\";position: absolute;border-left: 1px solid gray;box-sizing: border-box;top: 0;bottom: 0;left: 50%;z-index: -1;}#sk-container-id-3 div.sk-parallel-item {display: flex;flex-direction: column;z-index: 1;position: relative;background-color: white;}#sk-container-id-3 div.sk-parallel-item:first-child::after {align-self: flex-end;width: 50%;}#sk-container-id-3 div.sk-parallel-item:last-child::after {align-self: flex-start;width: 50%;}#sk-container-id-3 div.sk-parallel-item:only-child::after {width: 0;}#sk-container-id-3 div.sk-dashed-wrapped {border: 1px dashed gray;margin: 0 0.4em 0.5em 0.4em;box-sizing: border-box;padding-bottom: 0.4em;background-color: white;}#sk-container-id-3 div.sk-label label {font-family: monospace;font-weight: bold;display: inline-block;line-height: 1.2em;}#sk-container-id-3 div.sk-label-container {text-align: center;}#sk-container-id-3 div.sk-container {/* jupyter's `normalize.less` sets `[hidden] { display: none; }` but bootstrap.min.css set `[hidden] { display: none !important; }` so we also need the `!important` here to be able to override the default hidden behavior on the sphinx rendered scikit-learn.org. See: https://github.com/scikit-learn/scikit-learn/issues/21755 */display: inline-block !important;position: relative;}#sk-container-id-3 div.sk-text-repr-fallback {display: none;}</style><div id=\"sk-container-id-3\" class=\"sk-top-container\"><div class=\"sk-text-repr-fallback\"><pre>GridSearchCV(cv=5, estimator=DecisionTreeRegressor(),\n",
              "             param_grid={&#x27;max_depth&#x27;: [None, 10, 20, 30, 40],\n",
              "                         &#x27;max_features&#x27;: [&#x27;auto&#x27;, &#x27;sqrt&#x27;, &#x27;log2&#x27;],\n",
              "                         &#x27;min_samples_leaf&#x27;: [1, 2, 4],\n",
              "                         &#x27;min_samples_split&#x27;: [2, 5, 10]},\n",
              "             scoring=&#x27;neg_mean_squared_error&#x27;, verbose=1)</pre><b>In a Jupyter environment, please rerun this cell to show the HTML representation or trust the notebook. <br />On GitHub, the HTML representation is unable to render, please try loading this page with nbviewer.org.</b></div><div class=\"sk-container\" hidden><div class=\"sk-item sk-dashed-wrapped\"><div class=\"sk-label-container\"><div class=\"sk-label sk-toggleable\"><input class=\"sk-toggleable__control sk-hidden--visually\" id=\"sk-estimator-id-5\" type=\"checkbox\" ><label for=\"sk-estimator-id-5\" class=\"sk-toggleable__label sk-toggleable__label-arrow\">GridSearchCV</label><div class=\"sk-toggleable__content\"><pre>GridSearchCV(cv=5, estimator=DecisionTreeRegressor(),\n",
              "             param_grid={&#x27;max_depth&#x27;: [None, 10, 20, 30, 40],\n",
              "                         &#x27;max_features&#x27;: [&#x27;auto&#x27;, &#x27;sqrt&#x27;, &#x27;log2&#x27;],\n",
              "                         &#x27;min_samples_leaf&#x27;: [1, 2, 4],\n",
              "                         &#x27;min_samples_split&#x27;: [2, 5, 10]},\n",
              "             scoring=&#x27;neg_mean_squared_error&#x27;, verbose=1)</pre></div></div></div><div class=\"sk-parallel\"><div class=\"sk-parallel-item\"><div class=\"sk-item\"><div class=\"sk-label-container\"><div class=\"sk-label sk-toggleable\"><input class=\"sk-toggleable__control sk-hidden--visually\" id=\"sk-estimator-id-6\" type=\"checkbox\" ><label for=\"sk-estimator-id-6\" class=\"sk-toggleable__label sk-toggleable__label-arrow\">estimator: DecisionTreeRegressor</label><div class=\"sk-toggleable__content\"><pre>DecisionTreeRegressor()</pre></div></div></div><div class=\"sk-serial\"><div class=\"sk-item\"><div class=\"sk-estimator sk-toggleable\"><input class=\"sk-toggleable__control sk-hidden--visually\" id=\"sk-estimator-id-7\" type=\"checkbox\" ><label for=\"sk-estimator-id-7\" class=\"sk-toggleable__label sk-toggleable__label-arrow\">DecisionTreeRegressor</label><div class=\"sk-toggleable__content\"><pre>DecisionTreeRegressor()</pre></div></div></div></div></div></div></div></div></div></div>"
            ]
          },
          "metadata": {},
          "execution_count": 34
        }
      ]
    },
    {
      "cell_type": "code",
      "source": [
        "# Best hyperparameters\n",
        "best_params = grid_search.best_params_\n",
        "print(f\"Best Hyperparameters: {best_params}\")\n",
        "\n",
        "# Predict and Evaluate\n",
        "best_model = grid_search.best_estimator_\n",
        "y_pred_dt = best_model.predict(X_test)\n",
        "mse_dt = mean_squared_error(y_test, y_pred_dt)\n",
        "print(f\"Decision Tree Regressor Mean Squared Error: {mse_dt}\")"
      ],
      "metadata": {
        "colab": {
          "base_uri": "https://localhost:8080/"
        },
        "id": "K3_q_n7an1AU",
        "outputId": "92b1af89-8e93-44f0-9135-4a043800ba59"
      },
      "execution_count": 35,
      "outputs": [
        {
          "output_type": "stream",
          "name": "stdout",
          "text": [
            "Best Hyperparameters: {'max_depth': 10, 'max_features': 'log2', 'min_samples_leaf': 4, 'min_samples_split': 5}\n",
            "Decision Tree Regressor Mean Squared Error: 207603393.53013736\n"
          ]
        }
      ]
    },
    {
      "cell_type": "markdown",
      "source": [
        "# HuggingFace and Natural Language Processing (NLP)\n",
        "## Unstructured text data is ubiquitious, NLP allows us to do several things with textual data\n",
        "1. Classification - predict categorical outcomes (e.g., sentiment)\n",
        "2. Regression - predict continous outcomes (e.g., compentencies)\n",
        "3. Search/question answering - answer domain relevant questions from many documents\n",
        "4. Chatbots - conversational bots (e.g., HR bots, people analytics knowledge, interview bot)"
      ],
      "metadata": {
        "id": "rCQwDdqBoDau"
      }
    },
    {
      "cell_type": "markdown",
      "source": [
        "## Model Access\n",
        "1. Authorize the consent form here: https://huggingface.co/google/gemma-1.1-2b-it\n",
        "2. Create an access token: https://huggingface.co/settings/tokens\n",
        "3. Be sure to connect to GPU! Runtime > Change runtime type > select a gpu"
      ],
      "metadata": {
        "id": "dVfGpc3yyabV"
      }
    },
    {
      "cell_type": "code",
      "source": [
        "!pip3 install -q -U bitsandbytes==0.42.0\n",
        "!pip3 install -q -U peft==0.8.2\n",
        "!pip3 install -q -U trl==0.7.10\n",
        "!pip3 install -q -U accelerate==0.27.1\n",
        "!pip3 install -q -U datasets==2.17.0\n",
        "!pip3 install -q -U transformers==4.38.0"
      ],
      "metadata": {
        "colab": {
          "base_uri": "https://localhost:8080/"
        },
        "id": "oKIOv3rI6W7N",
        "outputId": "55aaa212-4e2e-4309-d4e5-19f58ba96a92"
      },
      "execution_count": 36,
      "outputs": [
        {
          "output_type": "stream",
          "name": "stdout",
          "text": [
            "\u001b[2K     \u001b[90m━━━━━━━━━━━━━━━━━━━━━━━━━━━━━━━━━━━━━━━━\u001b[0m \u001b[32m105.0/105.0 MB\u001b[0m \u001b[31m10.5 MB/s\u001b[0m eta \u001b[36m0:00:00\u001b[0m\n",
            "\u001b[2K     \u001b[90m━━━━━━━━━━━━━━━━━━━━━━━━━━━━━━━━━━━━━━━━\u001b[0m \u001b[32m183.4/183.4 kB\u001b[0m \u001b[31m4.7 MB/s\u001b[0m eta \u001b[36m0:00:00\u001b[0m\n",
            "\u001b[2K     \u001b[90m━━━━━━━━━━━━━━━━━━━━━━━━━━━━━━━━━━━━━━━━\u001b[0m \u001b[32m297.6/297.6 kB\u001b[0m \u001b[31m29.8 MB/s\u001b[0m eta \u001b[36m0:00:00\u001b[0m\n",
            "\u001b[2K     \u001b[90m━━━━━━━━━━━━━━━━━━━━━━━━━━━━━━━━━━━━━━━━\u001b[0m \u001b[32m150.9/150.9 kB\u001b[0m \u001b[31m4.0 MB/s\u001b[0m eta \u001b[36m0:00:00\u001b[0m\n",
            "\u001b[2K     \u001b[90m━━━━━━━━━━━━━━━━━━━━━━━━━━━━━━━━━━━━━━━━\u001b[0m \u001b[32m510.5/510.5 kB\u001b[0m \u001b[31m33.6 MB/s\u001b[0m eta \u001b[36m0:00:00\u001b[0m\n",
            "\u001b[2K     \u001b[90m━━━━━━━━━━━━━━━━━━━━━━━━━━━━━━━━━━━━━━━━\u001b[0m \u001b[32m102.0/102.0 kB\u001b[0m \u001b[31m12.3 MB/s\u001b[0m eta \u001b[36m0:00:00\u001b[0m\n",
            "\u001b[2K     \u001b[90m━━━━━━━━━━━━━━━━━━━━━━━━━━━━━━━━━━━━━━━━\u001b[0m \u001b[32m116.3/116.3 kB\u001b[0m \u001b[31m15.9 MB/s\u001b[0m eta \u001b[36m0:00:00\u001b[0m\n",
            "\u001b[2K     \u001b[90m━━━━━━━━━━━━━━━━━━━━━━━━━━━━━━━━━━━━━━━━\u001b[0m \u001b[32m194.1/194.1 kB\u001b[0m \u001b[31m25.6 MB/s\u001b[0m eta \u001b[36m0:00:00\u001b[0m\n",
            "\u001b[2K     \u001b[90m━━━━━━━━━━━━━━━━━━━━━━━━━━━━━━━━━━━━━━━━\u001b[0m \u001b[32m134.8/134.8 kB\u001b[0m \u001b[31m18.2 MB/s\u001b[0m eta \u001b[36m0:00:00\u001b[0m\n",
            "\u001b[2K     \u001b[90m━━━━━━━━━━━━━━━━━━━━━━━━━━━━━━━━━━━━━━━━\u001b[0m \u001b[32m279.7/279.7 kB\u001b[0m \u001b[31m6.3 MB/s\u001b[0m eta \u001b[36m0:00:00\u001b[0m\n",
            "\u001b[2K     \u001b[90m━━━━━━━━━━━━━━━━━━━━━━━━━━━━━━━━━━━━━━━━\u001b[0m \u001b[32m536.6/536.6 kB\u001b[0m \u001b[31m10.7 MB/s\u001b[0m eta \u001b[36m0:00:00\u001b[0m\n",
            "\u001b[2K     \u001b[90m━━━━━━━━━━━━━━━━━━━━━━━━━━━━━━━━━━━━━━━━\u001b[0m \u001b[32m8.5/8.5 MB\u001b[0m \u001b[31m57.6 MB/s\u001b[0m eta \u001b[36m0:00:00\u001b[0m\n",
            "\u001b[?25h"
          ]
        }
      ]
    },
    {
      "cell_type": "markdown",
      "source": [
        "## Authenticate your HF Account"
      ],
      "metadata": {
        "id": "iE_f8CCF3DqO"
      }
    },
    {
      "cell_type": "code",
      "source": [
        "from huggingface_hub import notebook_login\n",
        "notebook_login()"
      ],
      "metadata": {
        "colab": {
          "base_uri": "https://localhost:8080/",
          "height": 145,
          "referenced_widgets": [
            "cadabf912ac748a59cac110f4f1215ee",
            "02047d85a81543ada41712f40f36cd38",
            "f0c7a2f02ae4457bb79d264a3e12bdc7",
            "dd50571bb3894d9a916b1b69e2a4843d",
            "394c3fed8786450595b079f2a0763c2f",
            "f317feeaa89949f7b58522f8b4210664",
            "01904420fa834c9882eb2cc0d4b98f5f",
            "93a47ec28c3a4b489f9a475dfaebd3a3",
            "bbb19a4dc7094fc3832915960c5d0ab1",
            "f7c21316ade74eaaa4442ed69eb9474d",
            "1ac8f92b1ddf40e3a87c152511070b3f",
            "9169014873ee41008caf44af627f6b90",
            "c3dd7bdb2b4a46f787f18194400a2224",
            "008f88a6c9e34f49aa65f1013cbf144b",
            "cbce6e78eb5f40819c9e4046798738ac",
            "88407e1dc2b147a08a3fc811305cc328",
            "6f2c10673c8644a6ad386474e3fac114",
            "a9bc6337646e4a99bf458dcb87780368",
            "631a5eb8d3b44376b8d716262b65d0d1",
            "9dd40ecc86e14dbe90a308643b429e39",
            "a1e20075ec264b35b3aef0a6c6f1b759",
            "beb217f2e1b348f78fa8ac24836693fd",
            "d98d68d42ce4441a98fb98c5b5b942a1",
            "7f4294cca7564d158d3f1b7624687030",
            "4a1521cf6e9b4a9090dca371711a5d80",
            "1c1acd77de5249b4be09fb95e87f138a",
            "a090361f323d46d2b80809457052782f",
            "1ce54255b0944c6a9516333d5699c9da",
            "37c652fe8636464898d2ea96a07a2ce6",
            "7fcbf75c60614e7cbc81dfd24930f6c8",
            "a4bbdf08ab444bd681db477ece7538d5",
            "d45ef294f443479baeb2718a38ed3cc5"
          ]
        },
        "id": "HtEES7kT22zS",
        "outputId": "3fbf6ff5-9760-4d25-b9b6-abe969b235fd"
      },
      "execution_count": 37,
      "outputs": [
        {
          "output_type": "display_data",
          "data": {
            "text/plain": [
              "VBox(children=(HTML(value='<center> <img\\nsrc=https://huggingface.co/front/assets/huggingface_logo-noborder.sv…"
            ],
            "application/vnd.jupyter.widget-view+json": {
              "version_major": 2,
              "version_minor": 0,
              "model_id": "cadabf912ac748a59cac110f4f1215ee"
            }
          },
          "metadata": {}
        }
      ]
    },
    {
      "cell_type": "code",
      "source": [
        "from datasets import load_dataset\n",
        "from transformers import AutoTokenizer, AutoModelForCausalLM, BitsAndBytesConfig\n",
        "\n",
        "\n",
        "# Load Alpaca dataset\n",
        "# this dataset was created by Stanford to train assistant LLMs\n",
        "# https://huggingface.co/datasets/tatsu-lab/alpaca\n",
        "# Alpaca is a dataset of 52,000 instructions and demonstrations generated by\n",
        "# OpenAI's text-davinci-003 engine. This instruction data can be used to conduct instruction-tuning for\n",
        "# language models and make the language model follow instruction better.\n",
        "\n",
        "dataset = load_dataset(\"tatsu-lab/alpaca\")\n"
      ],
      "metadata": {
        "colab": {
          "base_uri": "https://localhost:8080/"
        },
        "id": "k3PF_G4dwZu1",
        "outputId": "e4fde35c-1bcd-4fe0-99ca-fb41d6addc5c"
      },
      "execution_count": 2,
      "outputs": [
        {
          "output_type": "stream",
          "name": "stderr",
          "text": [
            "/usr/local/lib/python3.10/dist-packages/huggingface_hub/utils/_token.py:88: UserWarning: \n",
            "The secret `HF_TOKEN` does not exist in your Colab secrets.\n",
            "To authenticate with the Hugging Face Hub, create a token in your settings tab (https://huggingface.co/settings/tokens), set it as secret in your Google Colab and restart your session.\n",
            "You will be able to reuse this secret in all of your notebooks.\n",
            "Please note that authentication is recommended but still optional to access public models or datasets.\n",
            "  warnings.warn(\n"
          ]
        }
      ]
    },
    {
      "cell_type": "code",
      "source": [
        "dataset"
      ],
      "metadata": {
        "colab": {
          "base_uri": "https://localhost:8080/"
        },
        "id": "zStzjzdbBZ5W",
        "outputId": "bdb0a7ea-6b62-4144-f8e5-2a38efb3ecc4"
      },
      "execution_count": 3,
      "outputs": [
        {
          "output_type": "execute_result",
          "data": {
            "text/plain": [
              "DatasetDict({\n",
              "    train: Dataset({\n",
              "        features: ['instruction', 'input', 'output', 'text'],\n",
              "        num_rows: 52002\n",
              "    })\n",
              "})"
            ]
          },
          "metadata": {},
          "execution_count": 3
        }
      ]
    },
    {
      "cell_type": "code",
      "source": [
        "dataset['train'][0]"
      ],
      "metadata": {
        "id": "spVd0iC1L4o2",
        "outputId": "2a3e2a1e-a3a9-4f19-ca44-062478a4e5c1",
        "colab": {
          "base_uri": "https://localhost:8080/"
        }
      },
      "execution_count": 21,
      "outputs": [
        {
          "output_type": "execute_result",
          "data": {
            "text/plain": [
              "{'instruction': 'Give three tips for staying healthy.',\n",
              " 'input': '',\n",
              " 'output': '1.Eat a balanced diet and make sure to include plenty of fruits and vegetables. \\n2. Exercise regularly to keep your body active and strong. \\n3. Get enough sleep and maintain a consistent sleep schedule.',\n",
              " 'text': 'Below is an instruction that describes a task. Write a response that appropriately completes the request.\\n\\n### Instruction:\\nGive three tips for staying healthy.\\n\\n### Response:\\n1.Eat a balanced diet and make sure to include plenty of fruits and vegetables. \\n2. Exercise regularly to keep your body active and strong. \\n3. Get enough sleep and maintain a consistent sleep schedule.'}"
            ]
          },
          "metadata": {},
          "execution_count": 21
        }
      ]
    },
    {
      "cell_type": "code",
      "source": [
        "!nvidia-smi"
      ],
      "metadata": {
        "id": "0yUZwxpkLB1L",
        "outputId": "873d8e39-e3a0-40f4-b534-62fd06b5dde4",
        "colab": {
          "base_uri": "https://localhost:8080/"
        }
      },
      "execution_count": 30,
      "outputs": [
        {
          "output_type": "stream",
          "name": "stdout",
          "text": [
            "Wed Apr 17 17:56:16 2024       \n",
            "+---------------------------------------------------------------------------------------+\n",
            "| NVIDIA-SMI 535.104.05             Driver Version: 535.104.05   CUDA Version: 12.2     |\n",
            "|-----------------------------------------+----------------------+----------------------+\n",
            "| GPU  Name                 Persistence-M | Bus-Id        Disp.A | Volatile Uncorr. ECC |\n",
            "| Fan  Temp   Perf          Pwr:Usage/Cap |         Memory-Usage | GPU-Util  Compute M. |\n",
            "|                                         |                      |               MIG M. |\n",
            "|=========================================+======================+======================|\n",
            "|   0  Tesla T4                       Off | 00000000:00:04.0 Off |                    0 |\n",
            "| N/A   75C    P0              35W /  70W |  14907MiB / 15360MiB |      0%      Default |\n",
            "|                                         |                      |                  N/A |\n",
            "+-----------------------------------------+----------------------+----------------------+\n",
            "                                                                                         \n",
            "+---------------------------------------------------------------------------------------+\n",
            "| Processes:                                                                            |\n",
            "|  GPU   GI   CI        PID   Type   Process name                            GPU Memory |\n",
            "|        ID   ID                                                             Usage      |\n",
            "|=======================================================================================|\n",
            "+---------------------------------------------------------------------------------------+\n"
          ]
        }
      ]
    },
    {
      "cell_type": "code",
      "source": [
        "import torch\n",
        "\n",
        "# load quantized model\n",
        "quantization_config = BitsAndBytesConfig(load_in_4bit=True,\n",
        "    bnb_4bit_quant_type=\"nf4\",\n",
        "    bnb_4bit_compute_dtype=torch.bfloat16)\n",
        "\n",
        "tokenizer = AutoTokenizer.from_pretrained(\"google/gemma-1.1-2b-it\")\n",
        "model = AutoModelForCausalLM.from_pretrained(\n",
        "    \"google/gemma-1.1-2b-it\",\n",
        "    quantization_config=quantization_config,\n",
        "    device_map = {\"\":0}\n",
        ")\n",
        "\n"
      ],
      "metadata": {
        "colab": {
          "base_uri": "https://localhost:8080/",
          "height": 49,
          "referenced_widgets": [
            "18d86af23c3845d78b08f49be00dcbd2",
            "fec376d94e6f47ea9effce8f967aecad",
            "8da7ccd05d6245f2a8b26663bd2aeac3",
            "36dbfcd9850c47ec8d7d19d0ae2089d5",
            "41529d66d440436cb61b7bc5651fd151",
            "587f14c451bf46d1a549e4ca03783fae",
            "0da81bb94daf40bca94528b3528fb33d",
            "f345efeeceda4dfd912fe908630d4911",
            "23c3c5c824684eed910e6b0de302e480",
            "c37f27a798784bf2ac9ef9068af66a85",
            "3b42bc9b72bc46d38017eea76e47cf34"
          ]
        },
        "id": "SfMfugivwaMd",
        "outputId": "a13e2e84-856e-4ab5-ce15-d3bcb5dfe858"
      },
      "execution_count": 23,
      "outputs": [
        {
          "output_type": "display_data",
          "data": {
            "text/plain": [
              "Loading checkpoint shards:   0%|          | 0/2 [00:00<?, ?it/s]"
            ],
            "application/vnd.jupyter.widget-view+json": {
              "version_major": 2,
              "version_minor": 0,
              "model_id": "18d86af23c3845d78b08f49be00dcbd2"
            }
          },
          "metadata": {}
        }
      ]
    },
    {
      "cell_type": "code",
      "source": [
        "# LORA config\n",
        "# only train a small portion of the model\n",
        "\n",
        "from peft import LoraConfig\n",
        "\n",
        "lora_config = LoraConfig(\n",
        "    r=4,\n",
        "    target_modules=[\"q_proj\", \"o_proj\", \"k_proj\", \"v_proj\", \"gate_proj\", \"up_proj\", \"down_proj\"],\n",
        "    task_type=\"CAUSAL_LM\",\n",
        ")"
      ],
      "metadata": {
        "id": "UUYSB-RaxAe1"
      },
      "execution_count": 24,
      "outputs": []
    },
    {
      "cell_type": "code",
      "source": [
        "# prepare data in the style that is accepted by the model\n",
        "\n",
        "def formatting_func(example):\n",
        "    text = f\"<start_of_turn>user\\n{example['instruction']} {example['input']} <end_of_turn> <start_of_turn>model\\n{example['output']}<end_of_turn>\"\n",
        "    return [text]"
      ],
      "metadata": {
        "id": "dk12LQx75SBP"
      },
      "execution_count": 25,
      "outputs": []
    },
    {
      "cell_type": "code",
      "source": [
        "import transformers\n",
        "from trl import SFTTrainer\n",
        "\n",
        "per_device_train_batch_size = 1\n",
        "# gradient_accumulation_steps = 4\n",
        "\n",
        "trainer = SFTTrainer(\n",
        "    model=model,\n",
        "    train_dataset=dataset[\"train\"],\n",
        "    args=transformers.TrainingArguments(\n",
        "        per_device_train_batch_size=per_device_train_batch_size,\n",
        "        # gradient_accumulation_steps=gradient_accumulation_steps,\n",
        "        warmup_steps=2,\n",
        "        logging_steps = 10,\n",
        "        num_train_epochs=1,\n",
        "        learning_rate=2e-4,\n",
        "        fp16=True,\n",
        "        output_dir=\"outputs\",\n",
        "        optim=\"paged_adamw_8bit\"\n",
        "    ),\n",
        "    peft_config=lora_config,\n",
        "    formatting_func=formatting_func,\n",
        ")"
      ],
      "metadata": {
        "colab": {
          "base_uri": "https://localhost:8080/",
          "height": 138,
          "referenced_widgets": [
            "a9eef6b44fb4403b8fc0ffd5d6ee7df9",
            "fa2b6b2314764549add0ecdbed56e470",
            "37e16ff3dca94881bc5cefeaf2decf45",
            "3a8d53c6ff68421b9c44b157c669d015",
            "bf8a24aa44e948d1aac2e621b78445e7",
            "5a3a0552f8264911a71940a70917a55a",
            "3967d8696ffa4bf495d0a7c9685be9f4",
            "ede27312118943838ad0f14edd19d8cc",
            "1fb0e3449f5248bb97ce975840ece923",
            "6916c7460f1c44ac9ad6769d64c7b137",
            "b44b9d468e464bfbba882fea85c24faf"
          ]
        },
        "id": "MPw0p1IU5vyu",
        "outputId": "fc905342-b206-48af-e02c-bedc112ced52"
      },
      "execution_count": 26,
      "outputs": [
        {
          "output_type": "stream",
          "name": "stderr",
          "text": [
            "/usr/local/lib/python3.10/dist-packages/trl/trainer/sft_trainer.py:223: UserWarning: You didn't pass a `max_seq_length` argument to the SFTTrainer, this will default to 1024\n",
            "  warnings.warn(\n"
          ]
        },
        {
          "output_type": "display_data",
          "data": {
            "text/plain": [
              "Map:   0%|          | 0/52002 [00:00<?, ? examples/s]"
            ],
            "application/vnd.jupyter.widget-view+json": {
              "version_major": 2,
              "version_minor": 0,
              "model_id": "a9eef6b44fb4403b8fc0ffd5d6ee7df9"
            }
          },
          "metadata": {}
        },
        {
          "output_type": "stream",
          "name": "stderr",
          "text": [
            "/usr/local/lib/python3.10/dist-packages/trl/trainer/sft_trainer.py:290: UserWarning: You passed a tokenizer with `padding_side` not equal to `right` to the SFTTrainer. This might lead to some unexpected behaviour due to overflow issues when training a model in half-precision. You might consider adding `tokenizer.padding_side = 'right'` to your code.\n",
            "  warnings.warn(\n"
          ]
        }
      ]
    },
    {
      "cell_type": "code",
      "source": [
        "trainer.train()"
      ],
      "metadata": {
        "colab": {
          "base_uri": "https://localhost:8080/",
          "height": 284
        },
        "id": "s-K_qqI-54gC",
        "outputId": "978005e7-6833-4032-f362-f570a918a205"
      },
      "execution_count": 27,
      "outputs": [
        {
          "output_type": "display_data",
          "data": {
            "text/plain": [
              "<IPython.core.display.HTML object>"
            ],
            "text/html": [
              "\n",
              "    <div>\n",
              "      \n",
              "      <progress value='53' max='53' style='width:300px; height:20px; vertical-align: middle;'></progress>\n",
              "      [53/53 01:09, Epoch 1/1]\n",
              "    </div>\n",
              "    <table border=\"1\" class=\"dataframe\">\n",
              "  <thead>\n",
              " <tr style=\"text-align: left;\">\n",
              "      <th>Step</th>\n",
              "      <th>Training Loss</th>\n",
              "    </tr>\n",
              "  </thead>\n",
              "  <tbody>\n",
              "    <tr>\n",
              "      <td>10</td>\n",
              "      <td>3.090400</td>\n",
              "    </tr>\n",
              "    <tr>\n",
              "      <td>20</td>\n",
              "      <td>2.443700</td>\n",
              "    </tr>\n",
              "    <tr>\n",
              "      <td>30</td>\n",
              "      <td>2.377500</td>\n",
              "    </tr>\n",
              "    <tr>\n",
              "      <td>40</td>\n",
              "      <td>2.266700</td>\n",
              "    </tr>\n",
              "    <tr>\n",
              "      <td>50</td>\n",
              "      <td>2.190500</td>\n",
              "    </tr>\n",
              "  </tbody>\n",
              "</table><p>"
            ]
          },
          "metadata": {}
        },
        {
          "output_type": "execute_result",
          "data": {
            "text/plain": [
              "TrainOutput(global_step=53, training_loss=2.4595543663456754, metrics={'train_runtime': 70.4885, 'train_samples_per_second': 0.752, 'train_steps_per_second': 0.752, 'total_flos': 639141536268288.0, 'train_loss': 2.4595543663456754, 'epoch': 1.0})"
            ]
          },
          "metadata": {},
          "execution_count": 27
        }
      ]
    },
    {
      "cell_type": "markdown",
      "source": [
        "## Test the model\n"
      ],
      "metadata": {
        "id": "RLBOmMJ2E9eC"
      }
    },
    {
      "cell_type": "code",
      "source": [
        "text = \"\"\"<start_of_turn>user\n",
        "Help me brainstorm what to eat for breakfast. <end_of_turn>\n",
        "<start_of_turn>model\"\"\"\n",
        "device = \"cuda:0\"\n",
        "inputs = tokenizer(text, return_tensors=\"pt\").to(device)\n",
        "\n",
        "outputs = model.generate(**inputs, max_new_tokens=50)\n",
        "print(tokenizer.decode(outputs[0], skip_special_tokens=True))"
      ],
      "metadata": {
        "colab": {
          "base_uri": "https://localhost:8080/"
        },
        "id": "N4xJ184wE-pY",
        "outputId": "f93b3b17-4370-46c1-cde0-952e740f8833"
      },
      "execution_count": 31,
      "outputs": [
        {
          "output_type": "stream",
          "name": "stdout",
          "text": [
            "user\n",
            "Help me brainstorm what to eat for breakfast. \n",
            "model**Healthy Options:**\n",
            "\n",
            "- Whole-wheat toast with avocado and poached egg\n",
            "- Greek yogurt with berries and granola\n",
            "- Scrambled eggs with spinach and tomato\n",
            "- Whole-wheat pancakes with fruit and maple syrup\n",
            "- Smoothie with fruits, vegetables\n"
          ]
        }
      ]
    },
    {
      "cell_type": "code",
      "source": [
        "# notice that we may need to increase the number of max tokens\n",
        "\n",
        "text = \"\"\"<start_of_turn>user\n",
        "Explain how the brain works simply <end_of_turn>\n",
        "<start_of_turn>model\"\"\"\n",
        "device = \"cuda:0\"\n",
        "inputs = tokenizer(text, return_tensors=\"pt\").to(device)\n",
        "\n",
        "outputs = model.generate(**inputs, max_new_tokens=500)\n",
        "print(tokenizer.decode(outputs[0], skip_special_tokens=True))"
      ],
      "metadata": {
        "colab": {
          "base_uri": "https://localhost:8080/"
        },
        "id": "yI2W6EP1G63M",
        "outputId": "e54e9dc4-fb7b-4dae-a7e8-e8a6efa20af8"
      },
      "execution_count": 29,
      "outputs": [
        {
          "output_type": "stream",
          "name": "stdout",
          "text": [
            "user\n",
            "Explain how the brain works simply \n",
            "model**The brain is a complex organ that controls and coordinates all bodily functions.**\n",
            "\n",
            "**1. Processing Information:**\n",
            "\n",
            "- The brain receives information from the body through the senses.\n",
            "- It then processes this information and compares it to stored memories.\n",
            "- It uses this information to make decisions and control movement.\n",
            "\n",
            "**2. Memory Storage:**\n",
            "\n",
            "- The brain stores memories in different ways, depending on the type of information.\n",
            "- Long-term memory stores memories for many years.\n",
            "- Short-term memory stores memories for a few seconds.\n",
            "\n",
            "**3. Decision Making:**\n",
            "\n",
            "- The brain uses the information it has processed to make decisions.\n",
            "- It uses algorithms and neural networks to make complex decisions.\n",
            "\n",
            "**4. Motor Control:**\n",
            "\n",
            "- The brain controls the muscles and joints to move the body.\n",
            "- It uses the cerebellum to coordinate movement.\n",
            "\n",
            "**5. Emotion Processing:**\n",
            "\n",
            "- The brain processes emotions and feelings.\n",
            "- It uses the amygdala to detect fear and other emotions.\n",
            "\n",
            "**6. Learning and Cognition:**\n",
            "\n",
            "- The brain learns new information and develops new skills.\n",
            "- It uses the hippocampus to store memories.\n",
            "\n",
            "**7. Adaptation:**\n",
            "\n",
            "- The brain adapts to new situations and experiences.\n",
            "- It uses the prefrontal cortex to make decisions and solve problems.\n"
          ]
        }
      ]
    },
    {
      "cell_type": "markdown",
      "source": [
        "# Activity: Train a decision tree to predict turnover on the dataset provided below\n",
        "1. Load the data\n",
        "2. Train test split the data using sklearn\n",
        "3. Fill in any missing values using the column mean (be sure to do this separately for the train and test set)\n",
        "4. Fit the model (you can use GridsearchCV and hyperparameter tuning, or just fit the model)\n",
        "5. Evaluate the performance using sklearn's classification report"
      ],
      "metadata": {
        "id": "aJsqTSuCP-OK"
      }
    },
    {
      "cell_type": "code",
      "source": [
        "import pandas as pd\n",
        "from sklearn.tree import DecisionTreeClassifier\n",
        "from sklearn.model_selection import GridSearchCV, train_test_split\n",
        "import numpy as np\n",
        "from sklearn.metrics import confusion_matrix, accuracy_score, classification_report"
      ],
      "metadata": {
        "id": "7QOhPXTBeMY3"
      },
      "execution_count": 52,
      "outputs": []
    },
    {
      "cell_type": "code",
      "source": [
        "\n",
        "!wget hr_data.csv https://raw.githubusercontent.com/egynzhu-personal/siop-python-seminar-2024/main/data/hr_data.csv\n",
        "\n",
        "df = pd.read_csv('hr_data.csv')\n",
        "df.head()"
      ],
      "metadata": {
        "colab": {
          "base_uri": "https://localhost:8080/",
          "height": 373
        },
        "id": "5rx4HvCJEGcv",
        "outputId": "26c72c65-4f29-461e-8871-e676bdbff035"
      },
      "execution_count": 53,
      "outputs": [
        {
          "output_type": "error",
          "ename": "NotImplementedError",
          "evalue": "A UTF-8 locale is required. Got ANSI_X3.4-1968",
          "traceback": [
            "\u001b[0;31m---------------------------------------------------------------------------\u001b[0m",
            "\u001b[0;31mNotImplementedError\u001b[0m                       Traceback (most recent call last)",
            "\u001b[0;32m<ipython-input-53-78c567713a14>\u001b[0m in \u001b[0;36m<cell line: 1>\u001b[0;34m()\u001b[0m\n\u001b[0;32m----> 1\u001b[0;31m \u001b[0mget_ipython\u001b[0m\u001b[0;34m(\u001b[0m\u001b[0;34m)\u001b[0m\u001b[0;34m.\u001b[0m\u001b[0msystem\u001b[0m\u001b[0;34m(\u001b[0m\u001b[0;34m'wget hr_data.csv https://raw.githubusercontent.com/egynzhu-personal/siop-python-seminar-2024/main/data/hr_data.csv'\u001b[0m\u001b[0;34m)\u001b[0m\u001b[0;34m\u001b[0m\u001b[0;34m\u001b[0m\u001b[0m\n\u001b[0m\u001b[1;32m      2\u001b[0m \u001b[0;34m\u001b[0m\u001b[0m\n\u001b[1;32m      3\u001b[0m \u001b[0mdf\u001b[0m \u001b[0;34m=\u001b[0m \u001b[0mpd\u001b[0m\u001b[0;34m.\u001b[0m\u001b[0mread_csv\u001b[0m\u001b[0;34m(\u001b[0m\u001b[0;34m'hr_data.csv'\u001b[0m\u001b[0;34m)\u001b[0m\u001b[0;34m\u001b[0m\u001b[0;34m\u001b[0m\u001b[0m\n\u001b[1;32m      4\u001b[0m \u001b[0mdf\u001b[0m\u001b[0;34m.\u001b[0m\u001b[0mhead\u001b[0m\u001b[0;34m(\u001b[0m\u001b[0;34m)\u001b[0m\u001b[0;34m\u001b[0m\u001b[0;34m\u001b[0m\u001b[0m\n",
            "\u001b[0;32m/usr/local/lib/python3.10/dist-packages/google/colab/_shell.py\u001b[0m in \u001b[0;36msystem\u001b[0;34m(self, *args, **kwargs)\u001b[0m\n\u001b[1;32m     97\u001b[0m       \u001b[0mkwargs\u001b[0m\u001b[0;34m.\u001b[0m\u001b[0mupdate\u001b[0m\u001b[0;34m(\u001b[0m\u001b[0;34m{\u001b[0m\u001b[0;34m'also_return_output'\u001b[0m\u001b[0;34m:\u001b[0m \u001b[0;32mTrue\u001b[0m\u001b[0;34m}\u001b[0m\u001b[0;34m)\u001b[0m\u001b[0;34m\u001b[0m\u001b[0;34m\u001b[0m\u001b[0m\n\u001b[1;32m     98\u001b[0m \u001b[0;34m\u001b[0m\u001b[0m\n\u001b[0;32m---> 99\u001b[0;31m     \u001b[0moutput\u001b[0m \u001b[0;34m=\u001b[0m \u001b[0m_system_commands\u001b[0m\u001b[0;34m.\u001b[0m\u001b[0m_system_compat\u001b[0m\u001b[0;34m(\u001b[0m\u001b[0mself\u001b[0m\u001b[0;34m,\u001b[0m \u001b[0;34m*\u001b[0m\u001b[0margs\u001b[0m\u001b[0;34m,\u001b[0m \u001b[0;34m**\u001b[0m\u001b[0mkwargs\u001b[0m\u001b[0;34m)\u001b[0m  \u001b[0;31m# pylint:disable=protected-access\u001b[0m\u001b[0;34m\u001b[0m\u001b[0;34m\u001b[0m\u001b[0m\n\u001b[0m\u001b[1;32m    100\u001b[0m \u001b[0;34m\u001b[0m\u001b[0m\n\u001b[1;32m    101\u001b[0m     \u001b[0;32mif\u001b[0m \u001b[0mpip_warn\u001b[0m\u001b[0;34m:\u001b[0m\u001b[0;34m\u001b[0m\u001b[0;34m\u001b[0m\u001b[0m\n",
            "\u001b[0;32m/usr/local/lib/python3.10/dist-packages/google/colab/_system_commands.py\u001b[0m in \u001b[0;36m_system_compat\u001b[0;34m(shell, cmd, also_return_output)\u001b[0m\n\u001b[1;32m    452\u001b[0m   \u001b[0;31m# is expected to call this function, thus adding one level of nesting to the\u001b[0m\u001b[0;34m\u001b[0m\u001b[0;34m\u001b[0m\u001b[0m\n\u001b[1;32m    453\u001b[0m   \u001b[0;31m# stack.\u001b[0m\u001b[0;34m\u001b[0m\u001b[0;34m\u001b[0m\u001b[0m\n\u001b[0;32m--> 454\u001b[0;31m   result = _run_command(\n\u001b[0m\u001b[1;32m    455\u001b[0m       \u001b[0mshell\u001b[0m\u001b[0;34m.\u001b[0m\u001b[0mvar_expand\u001b[0m\u001b[0;34m(\u001b[0m\u001b[0mcmd\u001b[0m\u001b[0;34m,\u001b[0m \u001b[0mdepth\u001b[0m\u001b[0;34m=\u001b[0m\u001b[0;36m2\u001b[0m\u001b[0;34m)\u001b[0m\u001b[0;34m,\u001b[0m \u001b[0mclear_streamed_output\u001b[0m\u001b[0;34m=\u001b[0m\u001b[0;32mFalse\u001b[0m\u001b[0;34m\u001b[0m\u001b[0;34m\u001b[0m\u001b[0m\n\u001b[1;32m    456\u001b[0m   )\n",
            "\u001b[0;32m/usr/local/lib/python3.10/dist-packages/google/colab/_system_commands.py\u001b[0m in \u001b[0;36m_run_command\u001b[0;34m(cmd, clear_streamed_output)\u001b[0m\n\u001b[1;32m    166\u001b[0m     \u001b[0mlocale_encoding\u001b[0m \u001b[0;34m=\u001b[0m \u001b[0mlocale\u001b[0m\u001b[0;34m.\u001b[0m\u001b[0mgetpreferredencoding\u001b[0m\u001b[0;34m(\u001b[0m\u001b[0;34m)\u001b[0m\u001b[0;34m\u001b[0m\u001b[0;34m\u001b[0m\u001b[0m\n\u001b[1;32m    167\u001b[0m     \u001b[0;32mif\u001b[0m \u001b[0mlocale_encoding\u001b[0m \u001b[0;34m!=\u001b[0m \u001b[0m_ENCODING\u001b[0m\u001b[0;34m:\u001b[0m\u001b[0;34m\u001b[0m\u001b[0;34m\u001b[0m\u001b[0m\n\u001b[0;32m--> 168\u001b[0;31m       raise NotImplementedError(\n\u001b[0m\u001b[1;32m    169\u001b[0m           \u001b[0;34m'A UTF-8 locale is required. Got {}'\u001b[0m\u001b[0;34m.\u001b[0m\u001b[0mformat\u001b[0m\u001b[0;34m(\u001b[0m\u001b[0mlocale_encoding\u001b[0m\u001b[0;34m)\u001b[0m\u001b[0;34m\u001b[0m\u001b[0;34m\u001b[0m\u001b[0m\n\u001b[1;32m    170\u001b[0m       )\n",
            "\u001b[0;31mNotImplementedError\u001b[0m: A UTF-8 locale is required. Got ANSI_X3.4-1968"
          ]
        }
      ]
    },
    {
      "cell_type": "code",
      "source": [
        "# starter code for mean imputation for the missing columns\n",
        "\n",
        "def mean_impute_missing_data(df, columns=None):\n",
        "    \"\"\"\n",
        "    Perform mean imputation on specified columns with missing (NaN) data in a pandas DataFrame.\n",
        "\n",
        "    This function modifies the input DataFrame by filling missing values (NaNs) in the specified columns with the mean value of each respective column. If no columns are specified, the function applies mean imputation to all columns in the DataFrame that contain missing values. The function operates in-place and modifies the original DataFrame unless otherwise specified.\n",
        "\n",
        "    Parameters\n",
        "    ----------\n",
        "    df : pandas.DataFrame\n",
        "        The DataFrame on which to perform the imputation.\n",
        "    columns : list of str, optional\n",
        "        A list of column names for which to perform mean imputation. If not provided, imputation is applied to all columns with missing values.\n",
        "\n",
        "    \"\"\"\n",
        "\n",
        "\n"
      ],
      "metadata": {
        "id": "WNlSP57EDqZf"
      },
      "execution_count": 54,
      "outputs": []
    }
  ]
}